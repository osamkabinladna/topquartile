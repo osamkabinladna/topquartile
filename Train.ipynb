{
 "cells": [
  {
   "cell_type": "code",
   "execution_count": null,
   "id": "7c0bb82a",
   "metadata": {},
   "outputs": [
    {
     "name": "stdout",
     "output_type": "stream",
     "text": [
      "Processing c:\\private\\var\\folders\\k1\\30mswbxs7r1g6zwn8y4fyt500000gp\\t\\abs_a17a7759g2\\croot\\anyio_1706220182417\\work (from -r C:/Users/LO79RS/topquartile/requirements.txt (line 2))\n",
      "Note: you may need to restart the kernel to use updated packages.\n"
     ]
    },
    {
     "name": "stderr",
     "output_type": "stream",
     "text": [
      "ERROR: Could not install packages due to an OSError: [Errno 2] No such file or directory: 'C:\\\\private\\\\var\\\\folders\\\\k1\\\\30mswbxs7r1g6zwn8y4fyt500000gp\\\\T\\\\abs_a17a7759g2\\\\croot\\\\anyio_1706220182417\\\\work'\n",
      "\n"
     ]
    }
   ],
   "source": []
  },
  {
   "cell_type": "code",
   "execution_count": 1,
   "id": "8a7f0844",
   "metadata": {},
   "outputs": [
    {
     "name": "stdout",
     "output_type": "stream",
     "text": [
      "Folder: C:\\Users\\LO79RS\\topquartile\n"
     ]
    }
   ],
   "source": [
    "import sys\n",
    "from pathlib import Path\n",
    "\n",
    "root = Path().resolve()\n",
    "if str(root) not in sys.path:\n",
    "    sys.path.insert(0, str(root))\n",
    "\n",
    "print(\"Folder:\", root)"
   ]
  },
  {
   "cell_type": "code",
   "execution_count": 2,
   "id": "9bf00d09",
   "metadata": {},
   "outputs": [],
   "source": [
    "import numpy as np\n",
    "import pandas as pd\n",
    "from sklearn.metrics import mean_squared_error\n",
    "from sklearn.ensemble import RandomForestRegressor\n"
   ]
  },
  {
   "cell_type": "code",
   "execution_count": 3,
   "id": "9d739e6a",
   "metadata": {},
   "outputs": [
    {
     "ename": "ImportError",
     "evalue": "cannot import name 'BasePurgedTimeSeriesPartition' from 'topquartile.modules.datamodule.partitions' (C:\\Users\\LO79RS\\topquartile\\topquartile\\modules\\datamodule\\partitions.py)",
     "output_type": "error",
     "traceback": [
      "\u001b[1;31m---------------------------------------------------------------------------\u001b[0m",
      "\u001b[1;31mImportError\u001b[0m                               Traceback (most recent call last)",
      "Cell \u001b[1;32mIn[3], line 1\u001b[0m\n\u001b[1;32m----> 1\u001b[0m \u001b[38;5;28;01mfrom\u001b[39;00m \u001b[38;5;21;01mtopquartile\u001b[39;00m\u001b[38;5;21;01m.\u001b[39;00m\u001b[38;5;21;01mmodules\u001b[39;00m\u001b[38;5;21;01m.\u001b[39;00m\u001b[38;5;21;01mdatamodule\u001b[39;00m\u001b[38;5;21;01m.\u001b[39;00m\u001b[38;5;21;01mdataloader\u001b[39;00m \u001b[38;5;28;01mimport\u001b[39;00m DataLoader\n\u001b[0;32m      2\u001b[0m \u001b[38;5;28;01mfrom\u001b[39;00m \u001b[38;5;21;01mtopquartile\u001b[39;00m\u001b[38;5;21;01m.\u001b[39;00m\u001b[38;5;21;01mmodules\u001b[39;00m\u001b[38;5;21;01m.\u001b[39;00m\u001b[38;5;21;01mdatamodule\u001b[39;00m\u001b[38;5;21;01m.\u001b[39;00m\u001b[38;5;21;01mtransforms\u001b[39;00m\u001b[38;5;21;01m.\u001b[39;00m\u001b[38;5;21;01mcovariate\u001b[39;00m \u001b[38;5;28;01mimport\u001b[39;00m TechnicalCovariateTransform\n\u001b[0;32m      3\u001b[0m \u001b[38;5;28;01mfrom\u001b[39;00m \u001b[38;5;21;01mtopquartile\u001b[39;00m\u001b[38;5;21;01m.\u001b[39;00m\u001b[38;5;21;01mmodules\u001b[39;00m\u001b[38;5;21;01m.\u001b[39;00m\u001b[38;5;21;01mdatamodule\u001b[39;00m\u001b[38;5;21;01m.\u001b[39;00m\u001b[38;5;21;01mtransforms\u001b[39;00m\u001b[38;5;21;01m.\u001b[39;00m\u001b[38;5;21;01mlabel\u001b[39;00m \u001b[38;5;28;01mimport\u001b[39;00m BinaryLabelTransform\n",
      "File \u001b[1;32m~\\topquartile\\topquartile\\modules\\datamodule\\dataloader.py:14\u001b[0m\n\u001b[0;32m      8\u001b[0m \u001b[38;5;28;01mimport\u001b[39;00m \u001b[38;5;21;01mwarnings\u001b[39;00m\n\u001b[0;32m     10\u001b[0m \u001b[38;5;28;01mfrom\u001b[39;00m \u001b[38;5;21;01mtopquartile\u001b[39;00m\u001b[38;5;21;01m.\u001b[39;00m\u001b[38;5;21;01mmodules\u001b[39;00m\u001b[38;5;21;01m.\u001b[39;00m\u001b[38;5;21;01mdatamodule\u001b[39;00m\u001b[38;5;21;01m.\u001b[39;00m\u001b[38;5;21;01mtransforms\u001b[39;00m \u001b[38;5;28;01mimport\u001b[39;00m (\n\u001b[0;32m     11\u001b[0m     CovariateTransform,\n\u001b[0;32m     12\u001b[0m     LabelTransform,\n\u001b[0;32m     13\u001b[0m )\n\u001b[1;32m---> 14\u001b[0m \u001b[38;5;28;01mfrom\u001b[39;00m \u001b[38;5;21;01mtopquartile\u001b[39;00m\u001b[38;5;21;01m.\u001b[39;00m\u001b[38;5;21;01mmodules\u001b[39;00m\u001b[38;5;21;01m.\u001b[39;00m\u001b[38;5;21;01mdatamodule\u001b[39;00m\u001b[38;5;21;01m.\u001b[39;00m\u001b[38;5;21;01mpartitions\u001b[39;00m \u001b[38;5;28;01mimport\u001b[39;00m (\n\u001b[0;32m     15\u001b[0m     BasePurgedTimeSeriesPartition,\n\u001b[0;32m     16\u001b[0m     PurgedTimeSeriesPartition,\n\u001b[0;32m     17\u001b[0m     PurgedGroupTimeSeriesPartition,\n\u001b[0;32m     18\u001b[0m )\n\u001b[0;32m     21\u001b[0m \u001b[38;5;28;01mclass\u001b[39;00m \u001b[38;5;21;01mDataLoader\u001b[39;00m:\n\u001b[0;32m     22\u001b[0m     \u001b[38;5;28;01mdef\u001b[39;00m \u001b[38;5;21m__init__\u001b[39m(\n\u001b[0;32m     23\u001b[0m         \u001b[38;5;28mself\u001b[39m,\n\u001b[0;32m     24\u001b[0m         data_id: \u001b[38;5;28mstr\u001b[39m,\n\u001b[1;32m   (...)\u001b[0m\n\u001b[0;32m     35\u001b[0m         partition_params: Optional[Dict] \u001b[38;5;241m=\u001b[39m \u001b[38;5;28;01mNone\u001b[39;00m,\n\u001b[0;32m     36\u001b[0m     ):\n",
      "\u001b[1;31mImportError\u001b[0m: cannot import name 'BasePurgedTimeSeriesPartition' from 'topquartile.modules.datamodule.partitions' (C:\\Users\\LO79RS\\topquartile\\topquartile\\modules\\datamodule\\partitions.py)"
     ]
    }
   ],
   "source": [
    "from topquartile.modules.datamodule.dataloader import DataLoader\n",
    "from topquartile.modules.datamodule.transforms.covariate import TechnicalCovariateTransform\n",
    "from topquartile.modules.datamodule.transforms.label import BinaryLabelTransform\n",
    "from topquartile.modules.datamodule.partitions import PurgedTimeSeriesPartition"
   ]
  },
  {
   "cell_type": "code",
   "execution_count": 12,
   "id": "29ffc553",
   "metadata": {},
   "outputs": [
    {
     "name": "stdout",
     "output_type": "stream",
     "text": [
      "c:\\Users\\LO79RS\\topquartile\n"
     ]
    }
   ],
   "source": [
    "echo %cd%"
   ]
  },
  {
   "cell_type": "code",
   "execution_count": 23,
   "id": "b8eeccc3",
   "metadata": {},
   "outputs": [
    {
     "name": "stdout",
     "output_type": "stream",
     "text": [
      "Defaulting to user installation because normal site-packages is not writeable\n",
      "Collecting quantile-forest\n",
      "  Obtaining dependency information for quantile-forest from https://files.pythonhosted.org/packages/c2/e3/03f4cdb528045d8514abcfe99eee615fc90035139c8328831847084766c2/quantile_forest-1.4.0-cp311-cp311-win_amd64.whl.metadata\n",
      "  Downloading quantile_forest-1.4.0-cp311-cp311-win_amd64.whl.metadata (5.4 kB)\n",
      "Requirement already satisfied: numpy>=1.23 in c:\\programdata\\anaconda3\\lib\\site-packages (from quantile-forest) (1.24.3)\n",
      "Requirement already satisfied: scipy>=1.4 in c:\\users\\lo79rs\\appdata\\roaming\\python\\python311\\site-packages (from quantile-forest) (1.15.3)\n",
      "Collecting scikit-learn>=1.5 (from quantile-forest)\n",
      "  Obtaining dependency information for scikit-learn>=1.5 from https://files.pythonhosted.org/packages/a1/a6/c5b78606743a1f28eae8f11973de6613a5ee87366796583fb74c67d54939/scikit_learn-1.6.1-cp311-cp311-win_amd64.whl.metadata\n",
      "  Downloading scikit_learn-1.6.1-cp311-cp311-win_amd64.whl.metadata (15 kB)\n",
      "Requirement already satisfied: joblib>=1.2.0 in c:\\programdata\\anaconda3\\lib\\site-packages (from scikit-learn>=1.5->quantile-forest) (1.2.0)\n",
      "Collecting threadpoolctl>=3.1.0 (from scikit-learn>=1.5->quantile-forest)\n",
      "  Obtaining dependency information for threadpoolctl>=3.1.0 from https://files.pythonhosted.org/packages/32/d5/f9a850d79b0851d1d4ef6456097579a9005b31fea68726a4ae5f2d82ddd9/threadpoolctl-3.6.0-py3-none-any.whl.metadata\n",
      "  Downloading threadpoolctl-3.6.0-py3-none-any.whl.metadata (13 kB)\n",
      "Downloading quantile_forest-1.4.0-cp311-cp311-win_amd64.whl (279 kB)\n",
      "   ---------------------------------------- 0.0/279.6 kB ? eta -:--:--\n",
      "   ----- --------------------------------- 41.0/279.6 kB 991.0 kB/s eta 0:00:01\n",
      "   ---------------------------------------  276.5/279.6 kB 3.4 MB/s eta 0:00:01\n",
      "   ---------------------------------------- 279.6/279.6 kB 2.9 MB/s eta 0:00:00\n",
      "Downloading scikit_learn-1.6.1-cp311-cp311-win_amd64.whl (11.1 MB)\n",
      "   ---------------------------------------- 0.0/11.1 MB ? eta -:--:--\n",
      "   -- ------------------------------------- 0.7/11.1 MB 20.2 MB/s eta 0:00:01\n",
      "   ----- ---------------------------------- 1.5/11.1 MB 19.2 MB/s eta 0:00:01\n",
      "   ----------- ---------------------------- 3.1/11.1 MB 24.6 MB/s eta 0:00:01\n",
      "   ----------- ---------------------------- 3.3/11.1 MB 26.2 MB/s eta 0:00:01\n",
      "   ------------------- -------------------- 5.3/11.1 MB 26.1 MB/s eta 0:00:01\n",
      "   -------------------------- ------------- 7.3/11.1 MB 29.1 MB/s eta 0:00:01\n",
      "   -------------------------------- ------- 9.1/11.1 MB 30.6 MB/s eta 0:00:01\n",
      "   ---------------------------------------  10.9/11.1 MB 32.8 MB/s eta 0:00:01\n",
      "   ---------------------------------------  11.1/11.1 MB 34.4 MB/s eta 0:00:01\n",
      "   ---------------------------------------- 11.1/11.1 MB 29.7 MB/s eta 0:00:00\n",
      "Downloading threadpoolctl-3.6.0-py3-none-any.whl (18 kB)\n",
      "Installing collected packages: threadpoolctl, scikit-learn, quantile-forest\n",
      "Successfully installed quantile-forest-1.4.0 scikit-learn-1.6.1 threadpoolctl-3.6.0\n",
      "Note: you may need to restart the kernel to use updated packages.\n"
     ]
    }
   ],
   "source": [
    "pip install quantile-forest"
   ]
  },
  {
   "cell_type": "code",
   "execution_count": 24,
   "id": "b8c7d11f",
   "metadata": {},
   "outputs": [
    {
     "name": "stdout",
     "output_type": "stream",
     "text": [
      "Note: you may need to restart the kernel to use updated packages.\n"
     ]
    },
    {
     "name": "stderr",
     "output_type": "stream",
     "text": [
      "  WARNING: The scripts wandb.exe and wb.exe are installed in 'C:\\Users\\LO79RS\\AppData\\Roaming\\Python\\Python311\\Scripts' which is not on PATH.\n",
      "  Consider adding this directory to PATH or, if you prefer to suppress this warning, use --no-warn-script-location.\n"
     ]
    },
    {
     "name": "stdout",
     "output_type": "stream",
     "text": [
      "Defaulting to user installation because normal site-packages is not writeable\n",
      "Collecting wandb\n",
      "  Obtaining dependency information for wandb from https://files.pythonhosted.org/packages/36/d5/215cac3edec5c5ac6e7231beb9d22466d5d4e4a132fa3a1d044f7d682c15/wandb-0.19.11-py3-none-win_amd64.whl.metadata\n",
      "  Downloading wandb-0.19.11-py3-none-win_amd64.whl.metadata (10 kB)\n",
      "Requirement already satisfied: click!=8.0.0,>=7.1 in c:\\programdata\\anaconda3\\lib\\site-packages (from wandb) (8.0.4)\n",
      "Collecting docker-pycreds>=0.4.0 (from wandb)\n",
      "  Obtaining dependency information for docker-pycreds>=0.4.0 from https://files.pythonhosted.org/packages/f5/e8/f6bd1eee09314e7e6dee49cbe2c5e22314ccdb38db16c9fc72d2fa80d054/docker_pycreds-0.4.0-py2.py3-none-any.whl.metadata\n",
      "  Downloading docker_pycreds-0.4.0-py2.py3-none-any.whl.metadata (1.8 kB)\n",
      "Collecting gitpython!=3.1.29,>=1.0.0 (from wandb)\n",
      "  Obtaining dependency information for gitpython!=3.1.29,>=1.0.0 from https://files.pythonhosted.org/packages/1d/9a/4114a9057db2f1462d5c8f8390ab7383925fe1ac012eaa42402ad65c2963/GitPython-3.1.44-py3-none-any.whl.metadata\n",
      "  Downloading GitPython-3.1.44-py3-none-any.whl.metadata (13 kB)\n",
      "Requirement already satisfied: platformdirs in c:\\programdata\\anaconda3\\lib\\site-packages (from wandb) (3.10.0)\n",
      "Requirement already satisfied: protobuf!=4.21.0,!=5.28.0,<7,>=3.19.0 in c:\\users\\lo79rs\\appdata\\roaming\\python\\python311\\site-packages (from wandb) (6.31.0)\n",
      "Requirement already satisfied: psutil>=5.0.0 in c:\\programdata\\anaconda3\\lib\\site-packages (from wandb) (5.9.0)\n",
      "Requirement already satisfied: pydantic<3 in c:\\programdata\\anaconda3\\lib\\site-packages (from wandb) (1.10.8)\n",
      "Requirement already satisfied: pyyaml in c:\\programdata\\anaconda3\\lib\\site-packages (from wandb) (6.0)\n",
      "Requirement already satisfied: requests<3,>=2.0.0 in c:\\programdata\\anaconda3\\lib\\site-packages (from wandb) (2.31.0)\n",
      "Collecting sentry-sdk>=2.0.0 (from wandb)\n",
      "  Obtaining dependency information for sentry-sdk>=2.0.0 from https://files.pythonhosted.org/packages/f0/e5/da07b0bd832cefd52d16f2b9bbbe31624d57552602c06631686b93ccb1bd/sentry_sdk-2.29.1-py2.py3-none-any.whl.metadata\n",
      "  Downloading sentry_sdk-2.29.1-py2.py3-none-any.whl.metadata (10 kB)\n",
      "Collecting setproctitle (from wandb)\n",
      "  Obtaining dependency information for setproctitle from https://files.pythonhosted.org/packages/c9/15/52cf5e1ff0727d53704cfdde2858eaf237ce523b0b04db65faa84ff83e13/setproctitle-1.3.6-cp311-cp311-win_amd64.whl.metadata\n",
      "  Downloading setproctitle-1.3.6-cp311-cp311-win_amd64.whl.metadata (10 kB)\n",
      "Requirement already satisfied: setuptools in c:\\programdata\\anaconda3\\lib\\site-packages (from wandb) (68.0.0)\n",
      "Requirement already satisfied: typing-extensions<5,>=4.4 in c:\\programdata\\anaconda3\\lib\\site-packages (from wandb) (4.7.1)\n",
      "Requirement already satisfied: colorama in c:\\programdata\\anaconda3\\lib\\site-packages (from click!=8.0.0,>=7.1->wandb) (0.4.6)\n",
      "Requirement already satisfied: six>=1.4.0 in c:\\programdata\\anaconda3\\lib\\site-packages (from docker-pycreds>=0.4.0->wandb) (1.16.0)\n",
      "Collecting gitdb<5,>=4.0.1 (from gitpython!=3.1.29,>=1.0.0->wandb)\n",
      "  Obtaining dependency information for gitdb<5,>=4.0.1 from https://files.pythonhosted.org/packages/a0/61/5c78b91c3143ed5c14207f463aecfc8f9dbb5092fb2869baf37c273b2705/gitdb-4.0.12-py3-none-any.whl.metadata\n",
      "  Downloading gitdb-4.0.12-py3-none-any.whl.metadata (1.2 kB)\n",
      "Requirement already satisfied: charset-normalizer<4,>=2 in c:\\programdata\\anaconda3\\lib\\site-packages (from requests<3,>=2.0.0->wandb) (2.0.4)\n",
      "Requirement already satisfied: idna<4,>=2.5 in c:\\programdata\\anaconda3\\lib\\site-packages (from requests<3,>=2.0.0->wandb) (3.4)\n",
      "Requirement already satisfied: urllib3<3,>=1.21.1 in c:\\programdata\\anaconda3\\lib\\site-packages (from requests<3,>=2.0.0->wandb) (1.26.16)\n",
      "Requirement already satisfied: certifi>=2017.4.17 in c:\\users\\lo79rs\\appdata\\roaming\\python\\python311\\site-packages (from requests<3,>=2.0.0->wandb) (2025.4.26)\n",
      "Collecting smmap<6,>=3.0.1 (from gitdb<5,>=4.0.1->gitpython!=3.1.29,>=1.0.0->wandb)\n",
      "  Obtaining dependency information for smmap<6,>=3.0.1 from https://files.pythonhosted.org/packages/04/be/d09147ad1ec7934636ad912901c5fd7667e1c858e19d355237db0d0cd5e4/smmap-5.0.2-py3-none-any.whl.metadata\n",
      "  Downloading smmap-5.0.2-py3-none-any.whl.metadata (4.3 kB)\n",
      "Downloading wandb-0.19.11-py3-none-win_amd64.whl (20.8 MB)\n",
      "   ---------------------------------------- 0.0/20.8 MB ? eta -:--:--\n",
      "   ---------------------------------------- 0.1/20.8 MB 3.4 MB/s eta 0:00:07\n",
      "   ---------------------------------------- 0.2/20.8 MB 3.6 MB/s eta 0:00:06\n",
      "   - -------------------------------------- 0.6/20.8 MB 5.1 MB/s eta 0:00:04\n",
      "   -- ------------------------------------- 1.5/20.8 MB 9.6 MB/s eta 0:00:02\n",
      "   ----- ---------------------------------- 3.1/20.8 MB 15.0 MB/s eta 0:00:02\n",
      "   ------- -------------------------------- 3.8/20.8 MB 17.5 MB/s eta 0:00:01\n",
      "   ------- -------------------------------- 3.9/20.8 MB 13.9 MB/s eta 0:00:02\n",
      "   ------- -------------------------------- 3.9/20.8 MB 13.9 MB/s eta 0:00:02\n",
      "   --------------- ------------------------ 8.1/20.8 MB 22.6 MB/s eta 0:00:01\n",
      "   ------------------ --------------------- 9.4/20.8 MB 23.1 MB/s eta 0:00:01\n",
      "   --------------------- ------------------ 11.2/20.8 MB 29.7 MB/s eta 0:00:01\n",
      "   ---------------------- ----------------- 11.6/20.8 MB 29.7 MB/s eta 0:00:01\n",
      "   ------------------------- -------------- 13.0/20.8 MB 29.7 MB/s eta 0:00:01\n",
      "   ----------------------------- ---------- 15.5/20.8 MB 38.6 MB/s eta 0:00:01\n",
      "   -------------------------------- ------- 17.0/20.8 MB 34.6 MB/s eta 0:00:01\n",
      "   ----------------------------------- ---- 18.6/20.8 MB 34.4 MB/s eta 0:00:01\n",
      "   ---------------------------------------  20.5/20.8 MB 34.4 MB/s eta 0:00:01\n",
      "   ---------------------------------------  20.8/20.8 MB 32.7 MB/s eta 0:00:01\n",
      "   ---------------------------------------- 20.8/20.8 MB 28.4 MB/s eta 0:00:00\n",
      "Downloading docker_pycreds-0.4.0-py2.py3-none-any.whl (9.0 kB)\n",
      "Downloading GitPython-3.1.44-py3-none-any.whl (207 kB)\n",
      "   ---------------------------------------- 0.0/207.6 kB ? eta -:--:--\n",
      "   --------------------------------------- 207.6/207.6 kB 12.3 MB/s eta 0:00:00\n",
      "Downloading sentry_sdk-2.29.1-py2.py3-none-any.whl (341 kB)\n",
      "   ---------------------------------------- 0.0/341.6 kB ? eta -:--:--\n",
      "   --------------------------------------- 341.6/341.6 kB 20.7 MB/s eta 0:00:00\n",
      "Downloading setproctitle-1.3.6-cp311-cp311-win_amd64.whl (12 kB)\n",
      "Downloading gitdb-4.0.12-py3-none-any.whl (62 kB)\n",
      "   ---------------------------------------- 0.0/62.8 kB ? eta -:--:--\n",
      "   ---------------------------------------- 62.8/62.8 kB 3.3 MB/s eta 0:00:00\n",
      "Downloading smmap-5.0.2-py3-none-any.whl (24 kB)\n",
      "Installing collected packages: smmap, setproctitle, sentry-sdk, docker-pycreds, gitdb, gitpython, wandb\n",
      "Successfully installed docker-pycreds-0.4.0 gitdb-4.0.12 gitpython-3.1.44 sentry-sdk-2.29.1 setproctitle-1.3.6 smmap-5.0.2 wandb-0.19.11\n"
     ]
    }
   ],
   "source": [
    "pip install wandb"
   ]
  }
 ],
 "metadata": {
  "kernelspec": {
   "display_name": "base",
   "language": "python",
   "name": "python3"
  },
  "language_info": {
   "codemirror_mode": {
    "name": "ipython",
    "version": 3
   },
   "file_extension": ".py",
   "mimetype": "text/x-python",
   "name": "python",
   "nbconvert_exporter": "python",
   "pygments_lexer": "ipython3",
   "version": "3.11.5"
  }
 },
 "nbformat": 4,
 "nbformat_minor": 5
}
