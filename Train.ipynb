{
 "cells": [
  {
   "cell_type": "code",
   "execution_count": 2,
   "id": "b8c7d11f",
   "metadata": {},
   "outputs": [
    {
     "name": "stdout",
     "output_type": "stream",
     "text": [
      "Defaulting to user installation because normal site-packages is not writeable\n",
      "Requirement already satisfied: wandb in c:\\users\\lo79rs\\appdata\\roaming\\python\\python311\\site-packages (0.19.11)\n",
      "Requirement already satisfied: click!=8.0.0,>=7.1 in c:\\programdata\\anaconda3\\lib\\site-packages (from wandb) (8.0.4)\n",
      "Requirement already satisfied: docker-pycreds>=0.4.0 in c:\\users\\lo79rs\\appdata\\roaming\\python\\python311\\site-packages (from wandb) (0.4.0)\n",
      "Requirement already satisfied: gitpython!=3.1.29,>=1.0.0 in c:\\users\\lo79rs\\appdata\\roaming\\python\\python311\\site-packages (from wandb) (3.1.44)\n",
      "Requirement already satisfied: platformdirs in c:\\programdata\\anaconda3\\lib\\site-packages (from wandb) (3.10.0)\n",
      "Requirement already satisfied: protobuf!=4.21.0,!=5.28.0,<7,>=3.19.0 in c:\\users\\lo79rs\\appdata\\roaming\\python\\python311\\site-packages (from wandb) (6.31.0)\n",
      "Requirement already satisfied: psutil>=5.0.0 in c:\\programdata\\anaconda3\\lib\\site-packages (from wandb) (5.9.0)\n",
      "Requirement already satisfied: pydantic<3 in c:\\programdata\\anaconda3\\lib\\site-packages (from wandb) (1.10.8)\n",
      "Requirement already satisfied: pyyaml in c:\\programdata\\anaconda3\\lib\\site-packages (from wandb) (6.0)\n",
      "Requirement already satisfied: requests<3,>=2.0.0 in c:\\programdata\\anaconda3\\lib\\site-packages (from wandb) (2.31.0)\n",
      "Requirement already satisfied: sentry-sdk>=2.0.0 in c:\\users\\lo79rs\\appdata\\roaming\\python\\python311\\site-packages (from wandb) (2.29.1)\n",
      "Requirement already satisfied: setproctitle in c:\\users\\lo79rs\\appdata\\roaming\\python\\python311\\site-packages (from wandb) (1.3.6)\n",
      "Requirement already satisfied: setuptools in c:\\programdata\\anaconda3\\lib\\site-packages (from wandb) (68.0.0)\n",
      "Requirement already satisfied: typing-extensions<5,>=4.4 in c:\\programdata\\anaconda3\\lib\\site-packages (from wandb) (4.7.1)\n",
      "Requirement already satisfied: colorama in c:\\programdata\\anaconda3\\lib\\site-packages (from click!=8.0.0,>=7.1->wandb) (0.4.6)\n",
      "Requirement already satisfied: six>=1.4.0 in c:\\programdata\\anaconda3\\lib\\site-packages (from docker-pycreds>=0.4.0->wandb) (1.16.0)\n",
      "Requirement already satisfied: gitdb<5,>=4.0.1 in c:\\users\\lo79rs\\appdata\\roaming\\python\\python311\\site-packages (from gitpython!=3.1.29,>=1.0.0->wandb) (4.0.12)\n",
      "Requirement already satisfied: charset-normalizer<4,>=2 in c:\\programdata\\anaconda3\\lib\\site-packages (from requests<3,>=2.0.0->wandb) (2.0.4)\n",
      "Requirement already satisfied: idna<4,>=2.5 in c:\\programdata\\anaconda3\\lib\\site-packages (from requests<3,>=2.0.0->wandb) (3.4)\n",
      "Requirement already satisfied: urllib3<3,>=1.21.1 in c:\\programdata\\anaconda3\\lib\\site-packages (from requests<3,>=2.0.0->wandb) (1.26.16)\n",
      "Requirement already satisfied: certifi>=2017.4.17 in c:\\users\\lo79rs\\appdata\\roaming\\python\\python311\\site-packages (from requests<3,>=2.0.0->wandb) (2025.4.26)\n",
      "Requirement already satisfied: smmap<6,>=3.0.1 in c:\\users\\lo79rs\\appdata\\roaming\\python\\python311\\site-packages (from gitdb<5,>=4.0.1->gitpython!=3.1.29,>=1.0.0->wandb) (5.0.2)\n",
      "Note: you may need to restart the kernel to use updated packages.\n"
     ]
    }
   ],
   "source": [
    "pip install wandb"
   ]
  },
  {
   "cell_type": "code",
   "execution_count": 3,
   "id": "b8eeccc3",
   "metadata": {},
   "outputs": [
    {
     "name": "stdout",
     "output_type": "stream",
     "text": [
      "Defaulting to user installation because normal site-packages is not writeable\n",
      "Requirement already satisfied: quantile-forest in c:\\users\\lo79rs\\appdata\\roaming\\python\\python311\\site-packages (1.4.0)\n",
      "Requirement already satisfied: numpy>=1.23 in c:\\programdata\\anaconda3\\lib\\site-packages (from quantile-forest) (1.24.3)\n",
      "Requirement already satisfied: scipy>=1.4 in c:\\users\\lo79rs\\appdata\\roaming\\python\\python311\\site-packages (from quantile-forest) (1.15.3)\n",
      "Requirement already satisfied: scikit-learn>=1.5 in c:\\users\\lo79rs\\appdata\\roaming\\python\\python311\\site-packages (from quantile-forest) (1.6.1)\n",
      "Requirement already satisfied: joblib>=1.2.0 in c:\\programdata\\anaconda3\\lib\\site-packages (from scikit-learn>=1.5->quantile-forest) (1.2.0)\n",
      "Requirement already satisfied: threadpoolctl>=3.1.0 in c:\\users\\lo79rs\\appdata\\roaming\\python\\python311\\site-packages (from scikit-learn>=1.5->quantile-forest) (3.6.0)\n",
      "Note: you may need to restart the kernel to use updated packages.\n"
     ]
    }
   ],
   "source": [
    "pip install quantile-forest"
   ]
  },
  {
   "cell_type": "code",
   "execution_count": 4,
   "id": "8a7f0844",
   "metadata": {},
   "outputs": [
    {
     "name": "stdout",
     "output_type": "stream",
     "text": [
      "Added to PythonPath C:\\Users\\LO79RS\\topquartile\\topquartile\n"
     ]
    }
   ],
   "source": [
    "import sys\n",
    "from pathlib import Path\n",
    "\n",
    "root = Path().resolve() / \"topquartile\"\n",
    "if str(root) not in sys.path:\n",
    "    sys.path.insert(0, str(root))\n",
    "\n",
    "print(\"Added to PythonPath\", root)"
   ]
  },
  {
   "cell_type": "code",
   "execution_count": null,
   "id": "43ac21f8",
   "metadata": {},
   "outputs": [],
   "source": []
  },
  {
   "cell_type": "code",
   "execution_count": 5,
   "id": "9bf00d09",
   "metadata": {},
   "outputs": [],
   "source": [
    "import numpy as np\n",
    "import pandas as pd\n",
    "from sklearn.metrics import mean_squared_error\n",
    "from sklearn.ensemble import RandomForestRegressor\n"
   ]
  },
  {
   "cell_type": "code",
   "execution_count": 6,
   "id": "9d739e6a",
   "metadata": {},
   "outputs": [],
   "source": [
    "from topquartile.modules.datamodule.partitions import PurgedTimeSeriesPartition\n",
    "from topquartile.modules.datamodule.dataloader import DataLoader\n",
    "from topquartile.modules.datamodule.transforms.covariate import TechnicalCovariateTransform\n",
    "from topquartile.modules.datamodule.transforms.label import BinaryLabelTransform\n"
   ]
  },
  {
   "cell_type": "code",
   "execution_count": 7,
   "id": "732af846",
   "metadata": {},
   "outputs": [],
   "source": [
    "# Defining Dataloader with covariates_may2025v2\n",
    "covtrans_config = [(\n",
    "TechnicalCovariateTransform,\n",
    "dict(sma=[20, 30], ema=[20, 30], momentum_change=True, volatility=[20, 30]),\n",
    ")]\n",
    "\n",
    "labeltrans_config = [(BinaryLabelTransform, dict(label_duration=20, quantile=0.75))]\n",
    "\n",
    "partition_config = dict(n_splits=5, gap=20, max_train_size=504, test_size=60)\n",
    "\n",
    "dataloader = DataLoader(\n",
    "data_id=\"covariates_may2025v2\",\n",
    "covariate_transform=covtrans_config,\n",
    "label_transform=labeltrans_config,\n",
    "partition_class=PurgedTimeSeriesPartition,\n",
    "partition_kwargs=partition_config,\n",
    ")"
   ]
  },
  {
   "cell_type": "code",
   "execution_count": 8,
   "id": "cba51d88",
   "metadata": {},
   "outputs": [
    {
     "name": "stdout",
     "output_type": "stream",
     "text": [
      "Data not yet processed. Processing now...\n",
      "Reading data from: C:\\Users\\LO79RS\\topquartile\\topquartile\\data\\covariates_may2025v2.csv\n",
      "Found 134 raw ticker names.\n",
      " Applying TechnicalCovariateTransform with params {'sma': [20, 30], 'ema': [20, 30], 'momentum_change': True, 'volatility': [20, 30]}\n",
      "THIS IS COLUMNS Index(['TOTAL_EQUITY', 'BOOK_VAL_PER_SH', 'REVENUE_PER_SH', 'RETURN_COM_EQY',\n",
      "       'CUR_MKT_CAP', 'PX_LAST', 'TOT_DEBT_TO_TOT_ASSET',\n",
      "       'TOT_DEBT_TO_TOT_EQY', 'BS_TOT_LIAB2', 'BS_TOT_ASSET', 'IS_EPS',\n",
      "       'PX_HIGH', 'PX_LOW', 'PX_CLOSE_1D', 'PX_VOLUME', 'TURNOVER', 'ticker',\n",
      "       'DVD_SH_12M'],\n",
      "      dtype='object')\n",
      "Applying label transformations globally to the dataset (before partitioning).\n",
      " Applying BinaryLabelTransform with params {'label_duration': 20, 'quantile': 0.75} (globally)\n"
     ]
    },
    {
     "name": "stderr",
     "output_type": "stream",
     "text": [
      "c:\\Users\\LO79RS\\topquartile\\topquartile\\modules\\datamodule\\transforms\\label.py:51: UserWarning: Could not infer format, so each element will be parsed individually, falling back to `dateutil`. To ensure parsing is consistent and as-expected, please specify a format.\n",
      "  self.ihsg.index = pd.to_datetime(self.ihsg.index)\n"
     ]
    },
    {
     "name": "stdout",
     "output_type": "stream",
     "text": [
      "Warning: DataFrame is not MultiIndexed by 'DateIndex'. \n",
      "Data processing complete.\n",
      "Partitioning data using PurgedTimeSeriesPartition for 5 splits across 85 tickers.\n",
      "Fold 0: Train shape (42840, 29), Test shape (5100, 29)\n",
      "Fold 1: Train shape (42840, 29), Test shape (5100, 29)\n",
      "Fold 2: Train shape (42840, 29), Test shape (5100, 29)\n",
      "Fold 3: Train shape (42840, 29), Test shape (5100, 29)\n",
      "Fold 4: Train shape (42840, 29), Test shape (5100, 29)\n",
      "Partitioning complete. Generated 5 CV folds.\n"
     ]
    }
   ],
   "source": [
    "folds = dataloader.get_cv_folds()"
   ]
  },
  {
   "cell_type": "code",
   "execution_count": 9,
   "id": "e5aed30d",
   "metadata": {},
   "outputs": [
    {
     "name": "stdout",
     "output_type": "stream",
     "text": [
      "Partitioning data using PurgedTimeSeriesPartition for 5 splits across 85 tickers.\n",
      "Fold 0: Train shape (42840, 29), Test shape (5100, 29)\n",
      "Fold 1: Train shape (42840, 29), Test shape (5100, 29)\n",
      "Fold 2: Train shape (42840, 29), Test shape (5100, 29)\n",
      "Fold 3: Train shape (42840, 29), Test shape (5100, 29)\n",
      "Fold 4: Train shape (42840, 29), Test shape (5100, 29)\n",
      "Partitioning complete. Generated 5 CV folds.\n",
      "['TOTAL_EQUITY', 'BOOK_VAL_PER_SH', 'REVENUE_PER_SH', 'RETURN_COM_EQY', 'CUR_MKT_CAP', 'PX_LAST', 'TOT_DEBT_TO_TOT_ASSET', 'TOT_DEBT_TO_TOT_EQY', 'BS_TOT_LIAB2', 'BS_TOT_ASSET', 'IS_EPS', 'PX_HIGH', 'PX_LOW', 'PX_CLOSE_1D', 'PX_VOLUME', 'TURNOVER', 'ticker', 'sma_20', 'sma_30', 'ema_20', 'ema_30', 'volatility_20', 'volatility_30', 'roc_126', 'momentum_change', 'eq_returns_20', 'index_returns_20', 'excess_returns_20', 'label']\n"
     ]
    }
   ],
   "source": [
    "folds = dataloader.get_cv_folds()\n",
    "train_df, test_df = folds[0]\n",
    "print(train_df.columns.tolist())"
   ]
  },
  {
   "cell_type": "code",
   "execution_count": 22,
   "id": "07ce861c",
   "metadata": {},
   "outputs": [],
   "source": [
    "train = folds[0][0]\n",
    "test = folds[0][1]"
   ]
  },
  {
   "cell_type": "code",
   "execution_count": 23,
   "id": "523972de",
   "metadata": {},
   "outputs": [
    {
     "data": {
      "text/html": [
       "<div>\n",
       "<style scoped>\n",
       "    .dataframe tbody tr th:only-of-type {\n",
       "        vertical-align: middle;\n",
       "    }\n",
       "\n",
       "    .dataframe tbody tr th {\n",
       "        vertical-align: top;\n",
       "    }\n",
       "\n",
       "    .dataframe thead th {\n",
       "        text-align: right;\n",
       "    }\n",
       "</style>\n",
       "<table border=\"1\" class=\"dataframe\">\n",
       "  <thead>\n",
       "    <tr style=\"text-align: right;\">\n",
       "      <th></th>\n",
       "      <th></th>\n",
       "      <th>TOTAL_EQUITY</th>\n",
       "      <th>BOOK_VAL_PER_SH</th>\n",
       "      <th>REVENUE_PER_SH</th>\n",
       "      <th>RETURN_COM_EQY</th>\n",
       "      <th>CUR_MKT_CAP</th>\n",
       "      <th>PX_LAST</th>\n",
       "      <th>TOT_DEBT_TO_TOT_ASSET</th>\n",
       "      <th>TOT_DEBT_TO_TOT_EQY</th>\n",
       "      <th>BS_TOT_LIAB2</th>\n",
       "      <th>BS_TOT_ASSET</th>\n",
       "      <th>...</th>\n",
       "      <th>ema_20</th>\n",
       "      <th>ema_30</th>\n",
       "      <th>volatility_20</th>\n",
       "      <th>volatility_30</th>\n",
       "      <th>roc_126</th>\n",
       "      <th>momentum_change</th>\n",
       "      <th>eq_returns_20</th>\n",
       "      <th>index_returns_20</th>\n",
       "      <th>excess_returns_20</th>\n",
       "      <th>label</th>\n",
       "    </tr>\n",
       "    <tr>\n",
       "      <th>TickerIndex</th>\n",
       "      <th>DateIndex</th>\n",
       "      <th></th>\n",
       "      <th></th>\n",
       "      <th></th>\n",
       "      <th></th>\n",
       "      <th></th>\n",
       "      <th></th>\n",
       "      <th></th>\n",
       "      <th></th>\n",
       "      <th></th>\n",
       "      <th></th>\n",
       "      <th></th>\n",
       "      <th></th>\n",
       "      <th></th>\n",
       "      <th></th>\n",
       "      <th></th>\n",
       "      <th></th>\n",
       "      <th></th>\n",
       "      <th></th>\n",
       "      <th></th>\n",
       "      <th></th>\n",
       "      <th></th>\n",
       "    </tr>\n",
       "  </thead>\n",
       "  <tbody>\n",
       "    <tr>\n",
       "      <th rowspan=\"5\" valign=\"top\">ADHI</th>\n",
       "      <th>2022-03-31</th>\n",
       "      <td>5582902.864</td>\n",
       "      <td>1428.8344</td>\n",
       "      <td>598.2535</td>\n",
       "      <td>0.3762</td>\n",
       "      <td>2.635029e+06</td>\n",
       "      <td>678.0</td>\n",
       "      <td>28.1580</td>\n",
       "      <td>196.3527</td>\n",
       "      <td>33348099.57</td>\n",
       "      <td>38931002.43</td>\n",
       "      <td>...</td>\n",
       "      <td>698.210249</td>\n",
       "      <td>712.087594</td>\n",
       "      <td>0.114333</td>\n",
       "      <td>0.098490</td>\n",
       "      <td>-46.529968</td>\n",
       "      <td>-70.116713</td>\n",
       "      <td>-3.392330</td>\n",
       "      <td>2.226873</td>\n",
       "      <td>-5.619203</td>\n",
       "      <td>0</td>\n",
       "    </tr>\n",
       "    <tr>\n",
       "      <th>2022-04-01</th>\n",
       "      <td>5582902.864</td>\n",
       "      <td>1428.8344</td>\n",
       "      <td>598.2535</td>\n",
       "      <td>0.3762</td>\n",
       "      <td>3.275981e+06</td>\n",
       "      <td>842.0</td>\n",
       "      <td>28.1580</td>\n",
       "      <td>196.3527</td>\n",
       "      <td>33348099.57</td>\n",
       "      <td>38931002.43</td>\n",
       "      <td>...</td>\n",
       "      <td>711.904511</td>\n",
       "      <td>720.469040</td>\n",
       "      <td>0.125182</td>\n",
       "      <td>0.108159</td>\n",
       "      <td>-19.656489</td>\n",
       "      <td>NaN</td>\n",
       "      <td>-22.209026</td>\n",
       "      <td>NaN</td>\n",
       "      <td>NaN</td>\n",
       "      <td>&lt;NA&gt;</td>\n",
       "    </tr>\n",
       "    <tr>\n",
       "      <th>2022-04-02</th>\n",
       "      <td>5582902.864</td>\n",
       "      <td>1428.8344</td>\n",
       "      <td>598.2535</td>\n",
       "      <td>0.3762</td>\n",
       "      <td>2.884288e+06</td>\n",
       "      <td>742.0</td>\n",
       "      <td>28.1580</td>\n",
       "      <td>196.3527</td>\n",
       "      <td>33348099.57</td>\n",
       "      <td>38931002.43</td>\n",
       "      <td>...</td>\n",
       "      <td>714.770748</td>\n",
       "      <td>721.858134</td>\n",
       "      <td>0.126538</td>\n",
       "      <td>0.110384</td>\n",
       "      <td>-16.909295</td>\n",
       "      <td>-10.221729</td>\n",
       "      <td>-11.185984</td>\n",
       "      <td>2.925651</td>\n",
       "      <td>-14.111635</td>\n",
       "      <td>0</td>\n",
       "    </tr>\n",
       "    <tr>\n",
       "      <th>2022-04-03</th>\n",
       "      <td>5582902.864</td>\n",
       "      <td>1428.8344</td>\n",
       "      <td>598.2535</td>\n",
       "      <td>0.3762</td>\n",
       "      <td>2.724050e+06</td>\n",
       "      <td>700.0</td>\n",
       "      <td>28.1580</td>\n",
       "      <td>196.3527</td>\n",
       "      <td>33348099.57</td>\n",
       "      <td>38931002.43</td>\n",
       "      <td>...</td>\n",
       "      <td>713.364010</td>\n",
       "      <td>720.447932</td>\n",
       "      <td>0.127487</td>\n",
       "      <td>0.110900</td>\n",
       "      <td>9.204368</td>\n",
       "      <td>46.113817</td>\n",
       "      <td>19.000000</td>\n",
       "      <td>2.171260</td>\n",
       "      <td>16.828740</td>\n",
       "      <td>1</td>\n",
       "    </tr>\n",
       "    <tr>\n",
       "      <th>2022-04-04</th>\n",
       "      <td>6022184.135</td>\n",
       "      <td>1513.8990</td>\n",
       "      <td>973.8728</td>\n",
       "      <td>0.9710</td>\n",
       "      <td>2.635029e+06</td>\n",
       "      <td>678.0</td>\n",
       "      <td>27.0484</td>\n",
       "      <td>174.8732</td>\n",
       "      <td>32912410.85</td>\n",
       "      <td>38934594.98</td>\n",
       "      <td>...</td>\n",
       "      <td>709.996009</td>\n",
       "      <td>717.709355</td>\n",
       "      <td>0.124405</td>\n",
       "      <td>0.110795</td>\n",
       "      <td>3.511450</td>\n",
       "      <td>35.353282</td>\n",
       "      <td>-2.064897</td>\n",
       "      <td>NaN</td>\n",
       "      <td>NaN</td>\n",
       "      <td>&lt;NA&gt;</td>\n",
       "    </tr>\n",
       "    <tr>\n",
       "      <th>...</th>\n",
       "      <th>...</th>\n",
       "      <td>...</td>\n",
       "      <td>...</td>\n",
       "      <td>...</td>\n",
       "      <td>...</td>\n",
       "      <td>...</td>\n",
       "      <td>...</td>\n",
       "      <td>...</td>\n",
       "      <td>...</td>\n",
       "      <td>...</td>\n",
       "      <td>...</td>\n",
       "      <td>...</td>\n",
       "      <td>...</td>\n",
       "      <td>...</td>\n",
       "      <td>...</td>\n",
       "      <td>...</td>\n",
       "      <td>...</td>\n",
       "      <td>...</td>\n",
       "      <td>...</td>\n",
       "      <td>...</td>\n",
       "      <td>...</td>\n",
       "      <td>...</td>\n",
       "    </tr>\n",
       "    <tr>\n",
       "      <th rowspan=\"5\" valign=\"top\">UNVR</th>\n",
       "      <th>2024-02-27</th>\n",
       "      <td>3381238</td>\n",
       "      <td>88.6301</td>\n",
       "      <td>212.4678</td>\n",
       "      <td>130.1333</td>\n",
       "      <td>1.113980e+08</td>\n",
       "      <td>2920.0</td>\n",
       "      <td>4.5054</td>\n",
       "      <td>22.2044</td>\n",
       "      <td>13282848.00</td>\n",
       "      <td>16664086.00</td>\n",
       "      <td>...</td>\n",
       "      <td>3041.139341</td>\n",
       "      <td>3085.147656</td>\n",
       "      <td>NaN</td>\n",
       "      <td>NaN</td>\n",
       "      <td>-38.526316</td>\n",
       "      <td>-61.583311</td>\n",
       "      <td>NaN</td>\n",
       "      <td>1.102862</td>\n",
       "      <td>NaN</td>\n",
       "      <td>&lt;NA&gt;</td>\n",
       "    </tr>\n",
       "    <tr>\n",
       "      <th>2024-02-28</th>\n",
       "      <td>3381238</td>\n",
       "      <td>88.6301</td>\n",
       "      <td>212.4678</td>\n",
       "      <td>130.1333</td>\n",
       "      <td>1.068200e+08</td>\n",
       "      <td>2800.0</td>\n",
       "      <td>4.5054</td>\n",
       "      <td>22.2044</td>\n",
       "      <td>13282848.00</td>\n",
       "      <td>16664086.00</td>\n",
       "      <td>...</td>\n",
       "      <td>3018.173690</td>\n",
       "      <td>3066.751033</td>\n",
       "      <td>NaN</td>\n",
       "      <td>NaN</td>\n",
       "      <td>-35.632184</td>\n",
       "      <td>-39.699170</td>\n",
       "      <td>NaN</td>\n",
       "      <td>-0.253035</td>\n",
       "      <td>NaN</td>\n",
       "      <td>&lt;NA&gt;</td>\n",
       "    </tr>\n",
       "    <tr>\n",
       "      <th>2024-02-29</th>\n",
       "      <td>3381238</td>\n",
       "      <td>88.6301</td>\n",
       "      <td>212.4678</td>\n",
       "      <td>130.1333</td>\n",
       "      <td>NaN</td>\n",
       "      <td>NaN</td>\n",
       "      <td>4.5054</td>\n",
       "      <td>22.2044</td>\n",
       "      <td>13282848.00</td>\n",
       "      <td>16664086.00</td>\n",
       "      <td>...</td>\n",
       "      <td>3018.173690</td>\n",
       "      <td>3066.751033</td>\n",
       "      <td>NaN</td>\n",
       "      <td>NaN</td>\n",
       "      <td>NaN</td>\n",
       "      <td>NaN</td>\n",
       "      <td>NaN</td>\n",
       "      <td>-0.373122</td>\n",
       "      <td>NaN</td>\n",
       "      <td>&lt;NA&gt;</td>\n",
       "    </tr>\n",
       "    <tr>\n",
       "      <th>2024-03-01</th>\n",
       "      <td>3381238</td>\n",
       "      <td>88.6301</td>\n",
       "      <td>212.4678</td>\n",
       "      <td>130.1333</td>\n",
       "      <td>1.319990e+08</td>\n",
       "      <td>3460.0</td>\n",
       "      <td>4.5054</td>\n",
       "      <td>22.2044</td>\n",
       "      <td>13282848.00</td>\n",
       "      <td>16664086.00</td>\n",
       "      <td>...</td>\n",
       "      <td>3064.220104</td>\n",
       "      <td>3093.751516</td>\n",
       "      <td>NaN</td>\n",
       "      <td>NaN</td>\n",
       "      <td>-23.956044</td>\n",
       "      <td>-33.594598</td>\n",
       "      <td>-22.254335</td>\n",
       "      <td>-0.977457</td>\n",
       "      <td>-21.276878</td>\n",
       "      <td>0</td>\n",
       "    </tr>\n",
       "    <tr>\n",
       "      <th>2024-03-04</th>\n",
       "      <td>3381238</td>\n",
       "      <td>88.6301</td>\n",
       "      <td>212.4678</td>\n",
       "      <td>130.1333</td>\n",
       "      <td>1.045310e+08</td>\n",
       "      <td>2740.0</td>\n",
       "      <td>4.5054</td>\n",
       "      <td>22.2044</td>\n",
       "      <td>13282848.00</td>\n",
       "      <td>16664086.00</td>\n",
       "      <td>...</td>\n",
       "      <td>3033.341999</td>\n",
       "      <td>3070.928837</td>\n",
       "      <td>NaN</td>\n",
       "      <td>NaN</td>\n",
       "      <td>-28.645833</td>\n",
       "      <td>-23.227114</td>\n",
       "      <td>26.642336</td>\n",
       "      <td>NaN</td>\n",
       "      <td>NaN</td>\n",
       "      <td>&lt;NA&gt;</td>\n",
       "    </tr>\n",
       "  </tbody>\n",
       "</table>\n",
       "<p>42840 rows × 29 columns</p>\n",
       "</div>"
      ],
      "text/plain": [
       "                       TOTAL_EQUITY  BOOK_VAL_PER_SH  REVENUE_PER_SH  \\\n",
       "TickerIndex DateIndex                                                  \n",
       "ADHI        2022-03-31  5582902.864        1428.8344        598.2535   \n",
       "            2022-04-01  5582902.864        1428.8344        598.2535   \n",
       "            2022-04-02  5582902.864        1428.8344        598.2535   \n",
       "            2022-04-03  5582902.864        1428.8344        598.2535   \n",
       "            2022-04-04  6022184.135        1513.8990        973.8728   \n",
       "...                             ...              ...             ...   \n",
       "UNVR        2024-02-27      3381238          88.6301        212.4678   \n",
       "            2024-02-28      3381238          88.6301        212.4678   \n",
       "            2024-02-29      3381238          88.6301        212.4678   \n",
       "            2024-03-01      3381238          88.6301        212.4678   \n",
       "            2024-03-04      3381238          88.6301        212.4678   \n",
       "\n",
       "                        RETURN_COM_EQY   CUR_MKT_CAP  PX_LAST  \\\n",
       "TickerIndex DateIndex                                           \n",
       "ADHI        2022-03-31          0.3762  2.635029e+06    678.0   \n",
       "            2022-04-01          0.3762  3.275981e+06    842.0   \n",
       "            2022-04-02          0.3762  2.884288e+06    742.0   \n",
       "            2022-04-03          0.3762  2.724050e+06    700.0   \n",
       "            2022-04-04          0.9710  2.635029e+06    678.0   \n",
       "...                                ...           ...      ...   \n",
       "UNVR        2024-02-27        130.1333  1.113980e+08   2920.0   \n",
       "            2024-02-28        130.1333  1.068200e+08   2800.0   \n",
       "            2024-02-29        130.1333           NaN      NaN   \n",
       "            2024-03-01        130.1333  1.319990e+08   3460.0   \n",
       "            2024-03-04        130.1333  1.045310e+08   2740.0   \n",
       "\n",
       "                        TOT_DEBT_TO_TOT_ASSET  TOT_DEBT_TO_TOT_EQY  \\\n",
       "TickerIndex DateIndex                                                \n",
       "ADHI        2022-03-31                28.1580             196.3527   \n",
       "            2022-04-01                28.1580             196.3527   \n",
       "            2022-04-02                28.1580             196.3527   \n",
       "            2022-04-03                28.1580             196.3527   \n",
       "            2022-04-04                27.0484             174.8732   \n",
       "...                                       ...                  ...   \n",
       "UNVR        2024-02-27                 4.5054              22.2044   \n",
       "            2024-02-28                 4.5054              22.2044   \n",
       "            2024-02-29                 4.5054              22.2044   \n",
       "            2024-03-01                 4.5054              22.2044   \n",
       "            2024-03-04                 4.5054              22.2044   \n",
       "\n",
       "                        BS_TOT_LIAB2  BS_TOT_ASSET  ...       ema_20  \\\n",
       "TickerIndex DateIndex                               ...                \n",
       "ADHI        2022-03-31   33348099.57   38931002.43  ...   698.210249   \n",
       "            2022-04-01   33348099.57   38931002.43  ...   711.904511   \n",
       "            2022-04-02   33348099.57   38931002.43  ...   714.770748   \n",
       "            2022-04-03   33348099.57   38931002.43  ...   713.364010   \n",
       "            2022-04-04   32912410.85   38934594.98  ...   709.996009   \n",
       "...                              ...           ...  ...          ...   \n",
       "UNVR        2024-02-27   13282848.00   16664086.00  ...  3041.139341   \n",
       "            2024-02-28   13282848.00   16664086.00  ...  3018.173690   \n",
       "            2024-02-29   13282848.00   16664086.00  ...  3018.173690   \n",
       "            2024-03-01   13282848.00   16664086.00  ...  3064.220104   \n",
       "            2024-03-04   13282848.00   16664086.00  ...  3033.341999   \n",
       "\n",
       "                             ema_30  volatility_20  volatility_30    roc_126  \\\n",
       "TickerIndex DateIndex                                                          \n",
       "ADHI        2022-03-31   712.087594       0.114333       0.098490 -46.529968   \n",
       "            2022-04-01   720.469040       0.125182       0.108159 -19.656489   \n",
       "            2022-04-02   721.858134       0.126538       0.110384 -16.909295   \n",
       "            2022-04-03   720.447932       0.127487       0.110900   9.204368   \n",
       "            2022-04-04   717.709355       0.124405       0.110795   3.511450   \n",
       "...                             ...            ...            ...        ...   \n",
       "UNVR        2024-02-27  3085.147656            NaN            NaN -38.526316   \n",
       "            2024-02-28  3066.751033            NaN            NaN -35.632184   \n",
       "            2024-02-29  3066.751033            NaN            NaN        NaN   \n",
       "            2024-03-01  3093.751516            NaN            NaN -23.956044   \n",
       "            2024-03-04  3070.928837            NaN            NaN -28.645833   \n",
       "\n",
       "                        momentum_change eq_returns_20  index_returns_20  \\\n",
       "TickerIndex DateIndex                                                     \n",
       "ADHI        2022-03-31       -70.116713     -3.392330          2.226873   \n",
       "            2022-04-01              NaN    -22.209026               NaN   \n",
       "            2022-04-02       -10.221729    -11.185984          2.925651   \n",
       "            2022-04-03        46.113817     19.000000          2.171260   \n",
       "            2022-04-04        35.353282     -2.064897               NaN   \n",
       "...                                 ...           ...               ...   \n",
       "UNVR        2024-02-27       -61.583311           NaN          1.102862   \n",
       "            2024-02-28       -39.699170           NaN         -0.253035   \n",
       "            2024-02-29              NaN           NaN         -0.373122   \n",
       "            2024-03-01       -33.594598    -22.254335         -0.977457   \n",
       "            2024-03-04       -23.227114     26.642336               NaN   \n",
       "\n",
       "                        excess_returns_20  label  \n",
       "TickerIndex DateIndex                             \n",
       "ADHI        2022-03-31          -5.619203      0  \n",
       "            2022-04-01                NaN   <NA>  \n",
       "            2022-04-02         -14.111635      0  \n",
       "            2022-04-03          16.828740      1  \n",
       "            2022-04-04                NaN   <NA>  \n",
       "...                                   ...    ...  \n",
       "UNVR        2024-02-27                NaN   <NA>  \n",
       "            2024-02-28                NaN   <NA>  \n",
       "            2024-02-29                NaN   <NA>  \n",
       "            2024-03-01         -21.276878      0  \n",
       "            2024-03-04                NaN   <NA>  \n",
       "\n",
       "[42840 rows x 29 columns]"
      ]
     },
     "execution_count": 23,
     "metadata": {},
     "output_type": "execute_result"
    }
   ],
   "source": [
    "train"
   ]
  },
  {
   "cell_type": "code",
   "execution_count": null,
   "id": "b11315e5",
   "metadata": {},
   "outputs": [],
   "source": []
  },
  {
   "cell_type": "code",
   "execution_count": 10,
   "id": "b8c5bd70",
   "metadata": {},
   "outputs": [
    {
     "name": "stdout",
     "output_type": "stream",
     "text": [
      "Train shape: (5919, 28)\n",
      "Test shape: (240, 28)\n"
     ]
    }
   ],
   "source": [
    "train_df, test_df = folds[0]\n",
    "\n",
    "train_df = train_df.dropna()\n",
    "test_df = test_df.dropna()\n",
    "\n",
    "y_train = train_df[\"label\"]\n",
    "y_test = test_df[\"label\"]\n",
    "\n",
    "X_train = train_df.drop(columns=[\"label\"])\n",
    "X_test = test_df.drop(columns=[\"label\"])\n",
    "\n",
    "print(\"Train shape:\", X_train.shape)\n",
    "print(\"Test shape:\", X_test.shape)"
   ]
  },
  {
   "cell_type": "code",
   "execution_count": 11,
   "id": "7036b610",
   "metadata": {},
   "outputs": [
    {
     "data": {
      "text/plain": [
       "float64     26\n",
       "object       1\n",
       "category     1\n",
       "Name: count, dtype: int64"
      ]
     },
     "execution_count": 11,
     "metadata": {},
     "output_type": "execute_result"
    }
   ],
   "source": [
    "X_train.dtypes.value_counts()"
   ]
  },
  {
   "cell_type": "code",
   "execution_count": 12,
   "id": "cebcbc5b",
   "metadata": {},
   "outputs": [
    {
     "data": {
      "text/plain": [
       "Index(['TOTAL_EQUITY'], dtype='object')"
      ]
     },
     "execution_count": 12,
     "metadata": {},
     "output_type": "execute_result"
    }
   ],
   "source": [
    "X_train.select_dtypes(include=[\"object\"]).columns"
   ]
  },
  {
   "cell_type": "code",
   "execution_count": 13,
   "id": "cbba803d",
   "metadata": {},
   "outputs": [],
   "source": [
    "X_train = X_train.drop(columns=[\"TOTAL_EQUITY\"])\n",
    "X_test = X_test.drop(columns=[\"TOTAL_EQUITY\"])"
   ]
  },
  {
   "cell_type": "code",
   "execution_count": 14,
   "id": "92b3c562",
   "metadata": {},
   "outputs": [
    {
     "data": {
      "text/plain": [
       "float64     26\n",
       "category     1\n",
       "Name: count, dtype: int64"
      ]
     },
     "execution_count": 14,
     "metadata": {},
     "output_type": "execute_result"
    }
   ],
   "source": [
    "X_train.dtypes.value_counts()"
   ]
  },
  {
   "cell_type": "code",
   "execution_count": 15,
   "id": "d524b59c",
   "metadata": {},
   "outputs": [
    {
     "data": {
      "text/plain": [
       "Index(['ticker'], dtype='object')"
      ]
     },
     "execution_count": 15,
     "metadata": {},
     "output_type": "execute_result"
    }
   ],
   "source": [
    "X_train.select_dtypes(include=[\"category\"]).columns"
   ]
  },
  {
   "cell_type": "code",
   "execution_count": 16,
   "id": "88dd20d4",
   "metadata": {},
   "outputs": [],
   "source": [
    "X_train = X_train.drop(columns=[\"ticker\"])\n",
    "X_test = X_test.drop(columns=[\"ticker\"])"
   ]
  },
  {
   "cell_type": "code",
   "execution_count": 17,
   "id": "95b66f59",
   "metadata": {},
   "outputs": [
    {
     "name": "stdout",
     "output_type": "stream",
     "text": [
      "Model accuracy on test set: 1.0000\n"
     ]
    }
   ],
   "source": [
    "from sklearn.ensemble import RandomForestClassifier\n",
    "from sklearn.metrics import accuracy_score\n",
    "\n",
    "model = RandomForestClassifier(n_estimators=100, max_depth=5, random_state=42)\n",
    "model.fit(X_train, y_train)\n",
    "\n",
    "preds = model.predict(X_test)\n",
    "acc = accuracy_score(y_test, preds)\n",
    "\n",
    "print(f\"Model accuracy on test set: {acc:.4f}\")"
   ]
  },
  {
   "cell_type": "code",
   "execution_count": 18,
   "id": "5c5b009e",
   "metadata": {},
   "outputs": [],
   "source": [
    "DROP_COLS = [\"label\", \"EXCESS_RETURN\", \"INDEX_RETURN\", \"30d_stock_return\", \"ticker\"]\n",
    "X_train = train_df.drop(columns=DROP_COLS, errors=\"ignore\")\n",
    "X_test = test_df.drop(columns=DROP_COLS, errors=\"ignore\")\n",
    "\n",
    "y_train = train_df[\"label\"]\n",
    "y_test = test_df[\"label\"]"
   ]
  },
  {
   "cell_type": "code",
   "execution_count": 19,
   "id": "ce9dd660",
   "metadata": {},
   "outputs": [
    {
     "name": "stdout",
     "output_type": "stream",
     "text": [
      " Model accuracy on test set: 1.0000\n"
     ]
    }
   ],
   "source": [
    "from sklearn.ensemble import RandomForestClassifier\n",
    "from sklearn.metrics import accuracy_score\n",
    "\n",
    "\n",
    "model = RandomForestClassifier(n_estimators=100, max_depth=5, random_state=42)\n",
    "\n",
    "model.fit(X_train, y_train)\n",
    "\n",
    "preds = model.predict(X_test)\n",
    "\n",
    "\n",
    "acc = accuracy_score(y_test, preds)\n",
    "\n",
    "\n",
    "print(f\" Model accuracy on test set: {acc:.4f}\")"
   ]
  },
  {
   "cell_type": "code",
   "execution_count": 20,
   "id": "1afbaed1",
   "metadata": {},
   "outputs": [],
   "source": [
    "from quantile_forest import RandomForestQuantileRegressor\n",
    "from sklearn.metrics import mean_squared_error\n",
    "import numpy as np\n",
    "\n",
    "def train_one_fold(fold_id: int) -> float:\n",
    "    train_df, test_df = folds[fold_id]\n",
    "    train_df = train_df.dropna(subset=[\"label\"])\n",
    "    test_df = test_df.dropna(subset=[\"label\"])\n",
    "    y_train = train_df[\"label\"]\n",
    "    y_test = test_df[\"label\"]\n",
    "\n",
    "    X_train = train_df.drop(columns=[\"label\"])\n",
    "    X_test = test_df.drop(columns=[\"label\"])\n",
    "    X_train = X_train.drop(columns=[\"ticker\"], errors=\"ignore\")\n",
    "    X_test = X_test.drop(columns=[\"ticker\"], errors=\"ignore\")\n",
    "    X_train = X_train.select_dtypes(exclude=[\"object\", \"category\"])\n",
    "    X_test = X_test.select_dtypes(exclude=[\"object\", \"category\"])\n",
    "    model = RandomForestQuantileRegressor(\n",
    "        n_estimators=100,\n",
    "        max_depth=5,\n",
    "        min_samples_leaf=2,\n",
    "        max_features=0.8,\n",
    "        n_jobs=-1,\n",
    "    )\n",
    "    model.fit(X_train.values, y_train.values)\n",
    "    y_pred = model.predict(X_test.values, quantiles=[0.5])\n",
    "    rmse = float(np.sqrt(mean_squared_error(y_test, y_pred)))\n",
    "    return rmse"
   ]
  },
  {
   "cell_type": "code",
   "execution_count": 21,
   "id": "550818ea",
   "metadata": {},
   "outputs": [
    {
     "name": "stdout",
     "output_type": "stream",
     "text": [
      "Training on fold 0\n",
      "Fold 0 RMSE: 0.0000\n",
      "Training on fold 1\n"
     ]
    },
    {
     "ename": "KeyboardInterrupt",
     "evalue": "",
     "output_type": "error",
     "traceback": [
      "\u001b[1;31m---------------------------------------------------------------------------\u001b[0m",
      "\u001b[1;31mKeyboardInterrupt\u001b[0m                         Traceback (most recent call last)",
      "Cell \u001b[1;32mIn[21], line 6\u001b[0m\n\u001b[0;32m      4\u001b[0m \u001b[38;5;28;01mfor\u001b[39;00m fold_id \u001b[38;5;129;01min\u001b[39;00m \u001b[38;5;28mrange\u001b[39m(n_folds):\n\u001b[0;32m      5\u001b[0m     \u001b[38;5;28mprint\u001b[39m(\u001b[38;5;124mf\u001b[39m\u001b[38;5;124m\"\u001b[39m\u001b[38;5;124mTraining on fold \u001b[39m\u001b[38;5;132;01m{\u001b[39;00mfold_id\u001b[38;5;132;01m}\u001b[39;00m\u001b[38;5;124m\"\u001b[39m)\n\u001b[1;32m----> 6\u001b[0m     rmse \u001b[38;5;241m=\u001b[39m train_one_fold(fold_id)\n\u001b[0;32m      7\u001b[0m     \u001b[38;5;28mprint\u001b[39m(\u001b[38;5;124mf\u001b[39m\u001b[38;5;124m\"\u001b[39m\u001b[38;5;124mFold \u001b[39m\u001b[38;5;132;01m{\u001b[39;00mfold_id\u001b[38;5;132;01m}\u001b[39;00m\u001b[38;5;124m RMSE: \u001b[39m\u001b[38;5;132;01m{\u001b[39;00mrmse\u001b[38;5;132;01m:\u001b[39;00m\u001b[38;5;124m.4f\u001b[39m\u001b[38;5;132;01m}\u001b[39;00m\u001b[38;5;124m\"\u001b[39m)\n\u001b[0;32m      8\u001b[0m     rmses\u001b[38;5;241m.\u001b[39mappend(rmse)\n",
      "Cell \u001b[1;32mIn[20], line 25\u001b[0m, in \u001b[0;36mtrain_one_fold\u001b[1;34m(fold_id)\u001b[0m\n\u001b[0;32m     17\u001b[0m X_test \u001b[38;5;241m=\u001b[39m X_test\u001b[38;5;241m.\u001b[39mselect_dtypes(exclude\u001b[38;5;241m=\u001b[39m[\u001b[38;5;124m\"\u001b[39m\u001b[38;5;124mobject\u001b[39m\u001b[38;5;124m\"\u001b[39m, \u001b[38;5;124m\"\u001b[39m\u001b[38;5;124mcategory\u001b[39m\u001b[38;5;124m\"\u001b[39m])\n\u001b[0;32m     18\u001b[0m model \u001b[38;5;241m=\u001b[39m RandomForestQuantileRegressor(\n\u001b[0;32m     19\u001b[0m     n_estimators\u001b[38;5;241m=\u001b[39m\u001b[38;5;241m100\u001b[39m,\n\u001b[0;32m     20\u001b[0m     max_depth\u001b[38;5;241m=\u001b[39m\u001b[38;5;241m5\u001b[39m,\n\u001b[1;32m   (...)\u001b[0m\n\u001b[0;32m     23\u001b[0m     n_jobs\u001b[38;5;241m=\u001b[39m\u001b[38;5;241m-\u001b[39m\u001b[38;5;241m1\u001b[39m,\n\u001b[0;32m     24\u001b[0m )\n\u001b[1;32m---> 25\u001b[0m model\u001b[38;5;241m.\u001b[39mfit(X_train\u001b[38;5;241m.\u001b[39mvalues, y_train\u001b[38;5;241m.\u001b[39mvalues)\n\u001b[0;32m     26\u001b[0m y_pred \u001b[38;5;241m=\u001b[39m model\u001b[38;5;241m.\u001b[39mpredict(X_test\u001b[38;5;241m.\u001b[39mvalues, quantiles\u001b[38;5;241m=\u001b[39m[\u001b[38;5;241m0.5\u001b[39m])\n\u001b[0;32m     27\u001b[0m rmse \u001b[38;5;241m=\u001b[39m \u001b[38;5;28mfloat\u001b[39m(np\u001b[38;5;241m.\u001b[39msqrt(mean_squared_error(y_test, y_pred)))\n",
      "File \u001b[1;32m~\\AppData\\Roaming\\Python\\Python311\\site-packages\\quantile_forest\\_quantile_forest.py:143\u001b[0m, in \u001b[0;36mBaseForestQuantileRegressor.fit\u001b[1;34m(self, X, y, sample_weight, sparse_pickle)\u001b[0m\n\u001b[0;32m    134\u001b[0m     \u001b[38;5;28;01mif\u001b[39;00m (\n\u001b[0;32m    135\u001b[0m         \u001b[38;5;129;01mnot\u001b[39;00m \u001b[38;5;28misinstance\u001b[39m(\u001b[38;5;28mself\u001b[39m\u001b[38;5;241m.\u001b[39mmax_samples_leaf, (Integral, np\u001b[38;5;241m.\u001b[39minteger))\n\u001b[0;32m    136\u001b[0m         \u001b[38;5;129;01mor\u001b[39;00m \u001b[38;5;28mself\u001b[39m\u001b[38;5;241m.\u001b[39mmax_samples_leaf \u001b[38;5;241m!=\u001b[39m \u001b[38;5;241m1\u001b[39m\n\u001b[0;32m    137\u001b[0m     ):\n\u001b[0;32m    138\u001b[0m         \u001b[38;5;28;01mraise\u001b[39;00m \u001b[38;5;167;01mValueError\u001b[39;00m(\n\u001b[0;32m    139\u001b[0m             \u001b[38;5;124m\"\u001b[39m\u001b[38;5;124mMonotonicity constraints are not supported with multiple values per leaf. \u001b[39m\u001b[38;5;124m\"\u001b[39m\n\u001b[0;32m    140\u001b[0m             \u001b[38;5;124m\"\u001b[39m\u001b[38;5;124mTo apply monotonicity constraints, set `max_samples_leaf=1`.\u001b[39m\u001b[38;5;124m\"\u001b[39m\n\u001b[0;32m    141\u001b[0m         )\n\u001b[1;32m--> 143\u001b[0m \u001b[38;5;28msuper\u001b[39m(BaseForestQuantileRegressor, \u001b[38;5;28mself\u001b[39m)\u001b[38;5;241m.\u001b[39mfit(X, y, sample_weight\u001b[38;5;241m=\u001b[39msample_weight)\n\u001b[0;32m    145\u001b[0m validation_params \u001b[38;5;241m=\u001b[39m {\n\u001b[0;32m    146\u001b[0m     \u001b[38;5;124m\"\u001b[39m\u001b[38;5;124mX\u001b[39m\u001b[38;5;124m\"\u001b[39m: X,\n\u001b[0;32m    147\u001b[0m     \u001b[38;5;124m\"\u001b[39m\u001b[38;5;124my\u001b[39m\u001b[38;5;124m\"\u001b[39m: y,\n\u001b[1;32m   (...)\u001b[0m\n\u001b[0;32m    155\u001b[0m     ): \u001b[38;5;28;01mFalse\u001b[39;00m,\n\u001b[0;32m    156\u001b[0m }\n\u001b[0;32m    157\u001b[0m \u001b[38;5;28;01mif\u001b[39;00m validate_data \u001b[38;5;129;01mis\u001b[39;00m \u001b[38;5;28;01mNone\u001b[39;00m:\n",
      "File \u001b[1;32m~\\AppData\\Roaming\\Python\\Python311\\site-packages\\sklearn\\base.py:1389\u001b[0m, in \u001b[0;36m_fit_context.<locals>.decorator.<locals>.wrapper\u001b[1;34m(estimator, *args, **kwargs)\u001b[0m\n\u001b[0;32m   1382\u001b[0m     estimator\u001b[38;5;241m.\u001b[39m_validate_params()\n\u001b[0;32m   1384\u001b[0m \u001b[38;5;28;01mwith\u001b[39;00m config_context(\n\u001b[0;32m   1385\u001b[0m     skip_parameter_validation\u001b[38;5;241m=\u001b[39m(\n\u001b[0;32m   1386\u001b[0m         prefer_skip_nested_validation \u001b[38;5;129;01mor\u001b[39;00m global_skip_validation\n\u001b[0;32m   1387\u001b[0m     )\n\u001b[0;32m   1388\u001b[0m ):\n\u001b[1;32m-> 1389\u001b[0m     \u001b[38;5;28;01mreturn\u001b[39;00m fit_method(estimator, \u001b[38;5;241m*\u001b[39margs, \u001b[38;5;241m*\u001b[39m\u001b[38;5;241m*\u001b[39mkwargs)\n",
      "File \u001b[1;32m~\\AppData\\Roaming\\Python\\Python311\\site-packages\\sklearn\\ensemble\\_forest.py:487\u001b[0m, in \u001b[0;36mBaseForest.fit\u001b[1;34m(self, X, y, sample_weight)\u001b[0m\n\u001b[0;32m    476\u001b[0m trees \u001b[38;5;241m=\u001b[39m [\n\u001b[0;32m    477\u001b[0m     \u001b[38;5;28mself\u001b[39m\u001b[38;5;241m.\u001b[39m_make_estimator(append\u001b[38;5;241m=\u001b[39m\u001b[38;5;28;01mFalse\u001b[39;00m, random_state\u001b[38;5;241m=\u001b[39mrandom_state)\n\u001b[0;32m    478\u001b[0m     \u001b[38;5;28;01mfor\u001b[39;00m i \u001b[38;5;129;01min\u001b[39;00m \u001b[38;5;28mrange\u001b[39m(n_more_estimators)\n\u001b[0;32m    479\u001b[0m ]\n\u001b[0;32m    481\u001b[0m \u001b[38;5;66;03m# Parallel loop: we prefer the threading backend as the Cython code\u001b[39;00m\n\u001b[0;32m    482\u001b[0m \u001b[38;5;66;03m# for fitting the trees is internally releasing the Python GIL\u001b[39;00m\n\u001b[0;32m    483\u001b[0m \u001b[38;5;66;03m# making threading more efficient than multiprocessing in\u001b[39;00m\n\u001b[0;32m    484\u001b[0m \u001b[38;5;66;03m# that case. However, for joblib 0.12+ we respect any\u001b[39;00m\n\u001b[0;32m    485\u001b[0m \u001b[38;5;66;03m# parallel_backend contexts set at a higher level,\u001b[39;00m\n\u001b[0;32m    486\u001b[0m \u001b[38;5;66;03m# since correctness does not rely on using threads.\u001b[39;00m\n\u001b[1;32m--> 487\u001b[0m trees \u001b[38;5;241m=\u001b[39m Parallel(\n\u001b[0;32m    488\u001b[0m     n_jobs\u001b[38;5;241m=\u001b[39m\u001b[38;5;28mself\u001b[39m\u001b[38;5;241m.\u001b[39mn_jobs,\n\u001b[0;32m    489\u001b[0m     verbose\u001b[38;5;241m=\u001b[39m\u001b[38;5;28mself\u001b[39m\u001b[38;5;241m.\u001b[39mverbose,\n\u001b[0;32m    490\u001b[0m     prefer\u001b[38;5;241m=\u001b[39m\u001b[38;5;124m\"\u001b[39m\u001b[38;5;124mthreads\u001b[39m\u001b[38;5;124m\"\u001b[39m,\n\u001b[0;32m    491\u001b[0m )(\n\u001b[0;32m    492\u001b[0m     delayed(_parallel_build_trees)(\n\u001b[0;32m    493\u001b[0m         t,\n\u001b[0;32m    494\u001b[0m         \u001b[38;5;28mself\u001b[39m\u001b[38;5;241m.\u001b[39mbootstrap,\n\u001b[0;32m    495\u001b[0m         X,\n\u001b[0;32m    496\u001b[0m         y,\n\u001b[0;32m    497\u001b[0m         sample_weight,\n\u001b[0;32m    498\u001b[0m         i,\n\u001b[0;32m    499\u001b[0m         \u001b[38;5;28mlen\u001b[39m(trees),\n\u001b[0;32m    500\u001b[0m         verbose\u001b[38;5;241m=\u001b[39m\u001b[38;5;28mself\u001b[39m\u001b[38;5;241m.\u001b[39mverbose,\n\u001b[0;32m    501\u001b[0m         class_weight\u001b[38;5;241m=\u001b[39m\u001b[38;5;28mself\u001b[39m\u001b[38;5;241m.\u001b[39mclass_weight,\n\u001b[0;32m    502\u001b[0m         n_samples_bootstrap\u001b[38;5;241m=\u001b[39mn_samples_bootstrap,\n\u001b[0;32m    503\u001b[0m         missing_values_in_feature_mask\u001b[38;5;241m=\u001b[39mmissing_values_in_feature_mask,\n\u001b[0;32m    504\u001b[0m     )\n\u001b[0;32m    505\u001b[0m     \u001b[38;5;28;01mfor\u001b[39;00m i, t \u001b[38;5;129;01min\u001b[39;00m \u001b[38;5;28menumerate\u001b[39m(trees)\n\u001b[0;32m    506\u001b[0m )\n\u001b[0;32m    508\u001b[0m \u001b[38;5;66;03m# Collect newly grown trees\u001b[39;00m\n\u001b[0;32m    509\u001b[0m \u001b[38;5;28mself\u001b[39m\u001b[38;5;241m.\u001b[39mestimators_\u001b[38;5;241m.\u001b[39mextend(trees)\n",
      "File \u001b[1;32m~\\AppData\\Roaming\\Python\\Python311\\site-packages\\sklearn\\utils\\parallel.py:77\u001b[0m, in \u001b[0;36mParallel.__call__\u001b[1;34m(self, iterable)\u001b[0m\n\u001b[0;32m     72\u001b[0m config \u001b[38;5;241m=\u001b[39m get_config()\n\u001b[0;32m     73\u001b[0m iterable_with_config \u001b[38;5;241m=\u001b[39m (\n\u001b[0;32m     74\u001b[0m     (_with_config(delayed_func, config), args, kwargs)\n\u001b[0;32m     75\u001b[0m     \u001b[38;5;28;01mfor\u001b[39;00m delayed_func, args, kwargs \u001b[38;5;129;01min\u001b[39;00m iterable\n\u001b[0;32m     76\u001b[0m )\n\u001b[1;32m---> 77\u001b[0m \u001b[38;5;28;01mreturn\u001b[39;00m \u001b[38;5;28msuper\u001b[39m()\u001b[38;5;241m.\u001b[39m\u001b[38;5;21m__call__\u001b[39m(iterable_with_config)\n",
      "File \u001b[1;32mc:\\ProgramData\\anaconda3\\Lib\\site-packages\\joblib\\parallel.py:1098\u001b[0m, in \u001b[0;36mParallel.__call__\u001b[1;34m(self, iterable)\u001b[0m\n\u001b[0;32m   1095\u001b[0m     \u001b[38;5;28mself\u001b[39m\u001b[38;5;241m.\u001b[39m_iterating \u001b[38;5;241m=\u001b[39m \u001b[38;5;28;01mFalse\u001b[39;00m\n\u001b[0;32m   1097\u001b[0m \u001b[38;5;28;01mwith\u001b[39;00m \u001b[38;5;28mself\u001b[39m\u001b[38;5;241m.\u001b[39m_backend\u001b[38;5;241m.\u001b[39mretrieval_context():\n\u001b[1;32m-> 1098\u001b[0m     \u001b[38;5;28mself\u001b[39m\u001b[38;5;241m.\u001b[39mretrieve()\n\u001b[0;32m   1099\u001b[0m \u001b[38;5;66;03m# Make sure that we get a last message telling us we are done\u001b[39;00m\n\u001b[0;32m   1100\u001b[0m elapsed_time \u001b[38;5;241m=\u001b[39m time\u001b[38;5;241m.\u001b[39mtime() \u001b[38;5;241m-\u001b[39m \u001b[38;5;28mself\u001b[39m\u001b[38;5;241m.\u001b[39m_start_time\n",
      "File \u001b[1;32mc:\\ProgramData\\anaconda3\\Lib\\site-packages\\joblib\\parallel.py:975\u001b[0m, in \u001b[0;36mParallel.retrieve\u001b[1;34m(self)\u001b[0m\n\u001b[0;32m    973\u001b[0m \u001b[38;5;28;01mtry\u001b[39;00m:\n\u001b[0;32m    974\u001b[0m     \u001b[38;5;28;01mif\u001b[39;00m \u001b[38;5;28mgetattr\u001b[39m(\u001b[38;5;28mself\u001b[39m\u001b[38;5;241m.\u001b[39m_backend, \u001b[38;5;124m'\u001b[39m\u001b[38;5;124msupports_timeout\u001b[39m\u001b[38;5;124m'\u001b[39m, \u001b[38;5;28;01mFalse\u001b[39;00m):\n\u001b[1;32m--> 975\u001b[0m         \u001b[38;5;28mself\u001b[39m\u001b[38;5;241m.\u001b[39m_output\u001b[38;5;241m.\u001b[39mextend(job\u001b[38;5;241m.\u001b[39mget(timeout\u001b[38;5;241m=\u001b[39m\u001b[38;5;28mself\u001b[39m\u001b[38;5;241m.\u001b[39mtimeout))\n\u001b[0;32m    976\u001b[0m     \u001b[38;5;28;01melse\u001b[39;00m:\n\u001b[0;32m    977\u001b[0m         \u001b[38;5;28mself\u001b[39m\u001b[38;5;241m.\u001b[39m_output\u001b[38;5;241m.\u001b[39mextend(job\u001b[38;5;241m.\u001b[39mget())\n",
      "File \u001b[1;32mc:\\ProgramData\\anaconda3\\Lib\\multiprocessing\\pool.py:768\u001b[0m, in \u001b[0;36mApplyResult.get\u001b[1;34m(self, timeout)\u001b[0m\n\u001b[0;32m    767\u001b[0m \u001b[38;5;28;01mdef\u001b[39;00m \u001b[38;5;21mget\u001b[39m(\u001b[38;5;28mself\u001b[39m, timeout\u001b[38;5;241m=\u001b[39m\u001b[38;5;28;01mNone\u001b[39;00m):\n\u001b[1;32m--> 768\u001b[0m     \u001b[38;5;28mself\u001b[39m\u001b[38;5;241m.\u001b[39mwait(timeout)\n\u001b[0;32m    769\u001b[0m     \u001b[38;5;28;01mif\u001b[39;00m \u001b[38;5;129;01mnot\u001b[39;00m \u001b[38;5;28mself\u001b[39m\u001b[38;5;241m.\u001b[39mready():\n\u001b[0;32m    770\u001b[0m         \u001b[38;5;28;01mraise\u001b[39;00m \u001b[38;5;167;01mTimeoutError\u001b[39;00m\n",
      "File \u001b[1;32mc:\\ProgramData\\anaconda3\\Lib\\multiprocessing\\pool.py:765\u001b[0m, in \u001b[0;36mApplyResult.wait\u001b[1;34m(self, timeout)\u001b[0m\n\u001b[0;32m    764\u001b[0m \u001b[38;5;28;01mdef\u001b[39;00m \u001b[38;5;21mwait\u001b[39m(\u001b[38;5;28mself\u001b[39m, timeout\u001b[38;5;241m=\u001b[39m\u001b[38;5;28;01mNone\u001b[39;00m):\n\u001b[1;32m--> 765\u001b[0m     \u001b[38;5;28mself\u001b[39m\u001b[38;5;241m.\u001b[39m_event\u001b[38;5;241m.\u001b[39mwait(timeout)\n",
      "File \u001b[1;32mc:\\ProgramData\\anaconda3\\Lib\\threading.py:622\u001b[0m, in \u001b[0;36mEvent.wait\u001b[1;34m(self, timeout)\u001b[0m\n\u001b[0;32m    620\u001b[0m signaled \u001b[38;5;241m=\u001b[39m \u001b[38;5;28mself\u001b[39m\u001b[38;5;241m.\u001b[39m_flag\n\u001b[0;32m    621\u001b[0m \u001b[38;5;28;01mif\u001b[39;00m \u001b[38;5;129;01mnot\u001b[39;00m signaled:\n\u001b[1;32m--> 622\u001b[0m     signaled \u001b[38;5;241m=\u001b[39m \u001b[38;5;28mself\u001b[39m\u001b[38;5;241m.\u001b[39m_cond\u001b[38;5;241m.\u001b[39mwait(timeout)\n\u001b[0;32m    623\u001b[0m \u001b[38;5;28;01mreturn\u001b[39;00m signaled\n",
      "File \u001b[1;32mc:\\ProgramData\\anaconda3\\Lib\\threading.py:320\u001b[0m, in \u001b[0;36mCondition.wait\u001b[1;34m(self, timeout)\u001b[0m\n\u001b[0;32m    318\u001b[0m \u001b[38;5;28;01mtry\u001b[39;00m:    \u001b[38;5;66;03m# restore state no matter what (e.g., KeyboardInterrupt)\u001b[39;00m\n\u001b[0;32m    319\u001b[0m     \u001b[38;5;28;01mif\u001b[39;00m timeout \u001b[38;5;129;01mis\u001b[39;00m \u001b[38;5;28;01mNone\u001b[39;00m:\n\u001b[1;32m--> 320\u001b[0m         waiter\u001b[38;5;241m.\u001b[39macquire()\n\u001b[0;32m    321\u001b[0m         gotit \u001b[38;5;241m=\u001b[39m \u001b[38;5;28;01mTrue\u001b[39;00m\n\u001b[0;32m    322\u001b[0m     \u001b[38;5;28;01melse\u001b[39;00m:\n",
      "\u001b[1;31mKeyboardInterrupt\u001b[0m: "
     ]
    }
   ],
   "source": [
    "n_folds = 5\n",
    "rmses = []\n",
    "\n",
    "for fold_id in range(n_folds):\n",
    "    print(f\"Training on fold {fold_id}\")\n",
    "    rmse = train_one_fold(fold_id)\n",
    "    print(f\"Fold {fold_id} RMSE: {rmse:.4f}\")\n",
    "    rmses.append(rmse)\n",
    "\n",
    "print(f\"\\nAverage RMSE: {np.mean(rmses):.4f}\")"
   ]
  },
  {
   "cell_type": "code",
   "execution_count": null,
   "id": "46008b93",
   "metadata": {},
   "outputs": [],
   "source": []
  }
 ],
 "metadata": {
  "kernelspec": {
   "display_name": "base",
   "language": "python",
   "name": "python3"
  },
  "language_info": {
   "codemirror_mode": {
    "name": "ipython",
    "version": 3
   },
   "file_extension": ".py",
   "mimetype": "text/x-python",
   "name": "python",
   "nbconvert_exporter": "python",
   "pygments_lexer": "ipython3",
   "version": "3.11.5"
  }
 },
 "nbformat": 4,
 "nbformat_minor": 5
}
