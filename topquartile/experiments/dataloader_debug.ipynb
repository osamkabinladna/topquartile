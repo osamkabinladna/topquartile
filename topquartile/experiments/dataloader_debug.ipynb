{
 "cells": [
  {
   "metadata": {
    "ExecuteTime": {
     "end_time": "2025-05-14T16:29:29.956111Z",
     "start_time": "2025-05-14T16:29:28.823642Z"
    }
   },
   "cell_type": "code",
   "source": [
    "\n",
    "from topquartile.modules.datamodule.dataloader import DataLoader\n",
    "from topquartile.modules.datamodule.transforms.covariate import (TechnicalCovariateTransform,\n",
    "                                                                 FundamentalCovariateTransform)\n",
    "from topquartile.modules.datamodule.transforms.label import BinaryLabelTransform"
   ],
   "id": "5ca9f96517d4d937",
   "outputs": [],
   "execution_count": 1
  },
  {
   "metadata": {
    "ExecuteTime": {
     "end_time": "2025-05-14T16:29:29.963770Z",
     "start_time": "2025-05-14T16:29:29.961649Z"
    }
   },
   "cell_type": "code",
   "source": [
    "covtrans_config = [((TechnicalCovariateTransform, dict(sma = [20, 30],\n",
    "                                                       ema = [20, 30],\n",
    "                                                       momentum_change=True,\n",
    "                                                       volatility = [20, 30],)))]\n",
    "\n",
    "labeltrans_config = [(BinaryLabelTransform, dict(label_duration=20,\n",
    "                                                quantile=0.9))]"
   ],
   "id": "8b25bf420c4464fe",
   "outputs": [],
   "execution_count": 2
  },
  {
   "metadata": {
    "ExecuteTime": {
     "end_time": "2025-05-14T16:29:39.116578Z",
     "start_time": "2025-05-14T16:29:32.020696Z"
    }
   },
   "cell_type": "code",
   "source": [
    "data = DataLoader(data_id='dec2024', covariate_transform=covtrans_config,\n",
    "                  label_transform=labeltrans_config).transform_data()"
   ],
   "id": "151b38159395a663",
   "outputs": [
    {
     "name": "stdout",
     "output_type": "stream",
     "text": [
      "Reading data from: /Users/gregruyoga/gmoneycodes/topquartile/topquartile/data/dec2024.csv\n",
      "Found 342 raw ticker names.\n",
      " Applying TechnicalCovariateTransform with params {'sma': [20, 30], 'ema': [20, 30], 'momentum_change': True, 'volatility': [20, 30]}\n",
      " Applying BinaryLabelTransform with params {'label_duration': 20, 'quantile': 0.9}\n"
     ]
    },
    {
     "name": "stderr",
     "output_type": "stream",
     "text": [
      "/Users/gregruyoga/gmoneycodes/topquartile/topquartile/modules/datamodule/transforms/label.py:173: FutureWarning: The default of observed=False is deprecated and will be changed to True in a future version of pandas. Pass observed=False to retain current behavior or observed=True to adopt the future default and silence this warning.\n",
      "  df_copy.groupby(level=self.ticker_level_name, group_keys=False)[self.price_column]\n"
     ]
    },
    {
     "name": "stdout",
     "output_type": "stream",
     "text": [
      "Warning: 510 NaN values found in index returns after aligning to DataFrame dates. \n"
     ]
    }
   ],
   "execution_count": 3
  }
 ],
 "metadata": {
  "kernelspec": {
   "display_name": "Python 3",
   "language": "python",
   "name": "python3"
  },
  "language_info": {
   "codemirror_mode": {
    "name": "ipython",
    "version": 2
   },
   "file_extension": ".py",
   "mimetype": "text/x-python",
   "name": "python",
   "nbconvert_exporter": "python",
   "pygments_lexer": "ipython2",
   "version": "2.7.6"
  }
 },
 "nbformat": 4,
 "nbformat_minor": 5
}
