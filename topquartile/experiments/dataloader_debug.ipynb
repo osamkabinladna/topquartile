{
 "cells": [
  {
   "metadata": {
    "ExecuteTime": {
     "end_time": "2025-05-12T13:23:15.996955Z",
     "start_time": "2025-05-12T13:23:14.008096Z"
    }
   },
   "cell_type": "code",
   "source": [
    "\n",
    "from topquartile.modules.datamodule.dataloader import DataLoader\n",
    "from topquartile.modules.datamodule.transforms.covariate import (TechnicalCovariateTransform,\n",
    "                                                                 FundamentalCovariateTransform)\n",
    "from topquartile.modules.datamodule.transforms.label import BinaryLabelTransform"
   ],
   "id": "5ca9f96517d4d937",
   "outputs": [],
   "execution_count": 1
  },
  {
   "metadata": {
    "ExecuteTime": {
     "end_time": "2025-04-07T08:51:38.922698Z",
     "start_time": "2025-04-07T08:51:38.917885Z"
    }
   },
   "cell_type": "code",
   "source": [
    "covtrans_config = [((TechnicalCovariateTransform, dict(sma = [20, 30],\n",
    "                                                     ema = [20, 30],\n",
    "                                                     volatility = [20, 30]))),\n",
    "                   ((FundamentalCovariateTransform, dict(adjusted_roic=True)))]\n",
    "\n",
    "labeltrans_config = [(BinaryLabelTransform, dict(label_duration=20,\n",
    "                                                quantile=0.9))]"
   ],
   "id": "8b25bf420c4464fe",
   "outputs": [],
   "execution_count": 2
  },
  {
   "metadata": {
    "ExecuteTime": {
     "end_time": "2025-04-07T08:52:01.363803Z",
     "start_time": "2025-04-07T08:51:50.561491Z"
    }
   },
   "cell_type": "code",
   "source": [
    "data = DataLoader(data_id='dec2024', label_duration=10, covariate_transform=covtrans_config,\n",
    "                  label_transform=labeltrans_config).transform_data()"
   ],
   "id": "151b38159395a663",
   "outputs": [
    {
     "name": "stdout",
     "output_type": "stream",
     "text": [
      "Warning: 510 NaN values found in index returns after aligning.\n"
     ]
    }
   ],
   "execution_count": 4
  },
  {
   "metadata": {
    "ExecuteTime": {
     "end_time": "2025-05-12T14:10:17.687337Z",
     "start_time": "2025-05-12T14:10:17.653521Z"
    }
   },
   "cell_type": "code",
   "source": [
    "\n",
    "name = 'shintaro'"
   ],
   "id": "6ba4789efe3ede1f",
   "outputs": [],
   "execution_count": 3
  },
  {
   "metadata": {
    "ExecuteTime": {
     "end_time": "2025-05-12T14:10:43.816817Z",
     "start_time": "2025-05-12T14:10:43.806763Z"
    }
   },
   "cell_type": "code",
   "source": "string = 'my name is {name}'",
   "id": "8cde7688849a4b7b",
   "outputs": [],
   "execution_count": 6
  },
  {
   "metadata": {
    "ExecuteTime": {
     "end_time": "2025-05-12T14:10:44.514720Z",
     "start_time": "2025-05-12T14:10:44.509797Z"
    }
   },
   "cell_type": "code",
   "source": "string",
   "id": "61b8fae414ede22a",
   "outputs": [
    {
     "data": {
      "text/plain": [
       "'my name is {name}'"
      ]
     },
     "execution_count": 7,
     "metadata": {},
     "output_type": "execute_result"
    }
   ],
   "execution_count": 7
  },
  {
   "metadata": {
    "ExecuteTime": {
     "end_time": "2025-05-12T14:11:14.155500Z",
     "start_time": "2025-05-12T14:11:14.142468Z"
    }
   },
   "cell_type": "code",
   "source": "turnover = [20, 30]",
   "id": "ec66fcaaaa8b78b0",
   "outputs": [],
   "execution_count": 8
  },
  {
   "metadata": {
    "ExecuteTime": {
     "end_time": "2025-05-12T14:11:41.817360Z",
     "start_time": "2025-05-12T14:11:41.807911Z"
    }
   },
   "cell_type": "code",
   "source": [
    "for window in turnover:\n",
    "    print(window)"
   ],
   "id": "bf09345bac3b5952",
   "outputs": [
    {
     "name": "stdout",
     "output_type": "stream",
     "text": [
      "20\n",
      "30\n"
     ]
    }
   ],
   "execution_count": 10
  },
  {
   "metadata": {},
   "cell_type": "code",
   "outputs": [],
   "execution_count": null,
   "source": "",
   "id": "6d9c601e3c7354ef"
  }
 ],
 "metadata": {
  "kernelspec": {
   "display_name": "Python 3",
   "language": "python",
   "name": "python3"
  },
  "language_info": {
   "codemirror_mode": {
    "name": "ipython",
    "version": 2
   },
   "file_extension": ".py",
   "mimetype": "text/x-python",
   "name": "python",
   "nbconvert_exporter": "python",
   "pygments_lexer": "ipython2",
   "version": "2.7.6"
  }
 },
 "nbformat": 4,
 "nbformat_minor": 5
}
