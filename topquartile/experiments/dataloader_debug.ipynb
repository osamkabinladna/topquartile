{
 "cells": [
  {
   "metadata": {
    "ExecuteTime": {
     "end_time": "2025-04-07T08:51:37.788308Z",
     "start_time": "2025-04-07T08:51:37.292604Z"
    }
   },
   "cell_type": "code",
   "source": [
    "import pandas as pd\n",
    "import numpy as np\n",
    "from pathlib import Path\n",
    "import sys\n",
    "from collections import defaultdict\n",
    "import re\n",
    "import os\n",
    "from topquartile.modules.datamodule.dataloader import DataLoader\n",
    "from topquartile.modules.datamodule.transforms import (TechnicalCovariateTransform,\n",
    "                                                       FundamentalCovariateTransform,\n",
    "                                                       BinaryLabelTransform)"
   ],
   "id": "5ca9f96517d4d937",
   "outputs": [],
   "execution_count": 1
  },
  {
   "metadata": {
    "ExecuteTime": {
     "end_time": "2025-04-07T08:51:38.922698Z",
     "start_time": "2025-04-07T08:51:38.917885Z"
    }
   },
   "cell_type": "code",
   "source": [
    "covtrans_config = [((TechnicalCovariateTransform, dict(sma = [20, 30],\n",
    "                                                     ema = [20, 30],\n",
    "                                                     volatility = [20, 30]))),\n",
    "                   ((FundamentalCovariateTransform, dict(adjusted_roic=True)))]\n",
    "\n",
    "labeltrans_config = [(BinaryLabelTransform, dict(label_duration=20,\n",
    "                                                quantile=0.9))]"
   ],
   "id": "8b25bf420c4464fe",
   "outputs": [],
   "execution_count": 2
  },
  {
   "metadata": {
    "ExecuteTime": {
     "end_time": "2025-04-07T08:52:01.363803Z",
     "start_time": "2025-04-07T08:51:50.561491Z"
    }
   },
   "cell_type": "code",
   "source": [
    "data = DataLoader(data_id='dec2024', label_duration=10, covariate_transform=covtrans_config,\n",
    "                  label_transform=labeltrans_config).transform_data()"
   ],
   "id": "151b38159395a663",
   "outputs": [
    {
     "name": "stdout",
     "output_type": "stream",
     "text": [
      "Warning: 510 NaN values found in index returns after aligning.\n"
     ]
    }
   ],
   "execution_count": 4
  }
 ],
 "metadata": {
  "kernelspec": {
   "display_name": "Python 3",
   "language": "python",
   "name": "python3"
  },
  "language_info": {
   "codemirror_mode": {
    "name": "ipython",
    "version": 2
   },
   "file_extension": ".py",
   "mimetype": "text/x-python",
   "name": "python",
   "nbconvert_exporter": "python",
   "pygments_lexer": "ipython2",
   "version": "2.7.6"
  }
 },
 "nbformat": 4,
 "nbformat_minor": 5
}
