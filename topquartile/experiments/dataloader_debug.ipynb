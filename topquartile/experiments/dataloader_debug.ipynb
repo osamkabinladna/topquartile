{
 "cells": [
  {
   "cell_type": "code",
   "execution_count": 1,
   "id": "077b9bd3",
   "metadata": {},
   "outputs": [],
   "source": [
    "from pathlib import Path\n",
    "import sys\n",
    "\n",
    "root = Path().resolve().parent.parent.parent.parent\n",
    "sys.path.append(root)"
   ]
  },
  {
   "cell_type": "code",
   "execution_count": 3,
   "id": "23edf08e",
   "metadata": {},
   "outputs": [
    {
     "name": "stdout",
     "output_type": "stream",
     "text": [
      "/Users/admin\n"
     ]
    }
   ],
   "source": [
    "print(root)"
   ]
  },
  {
   "cell_type": "code",
   "execution_count": 2,
   "id": "5ca9f96517d4d937",
   "metadata": {
    "ExecuteTime": {
     "end_time": "2025-05-12T13:23:15.996955Z",
     "start_time": "2025-05-12T13:23:14.008096Z"
    }
   },
   "outputs": [
    {
     "ename": "ModuleNotFoundError",
     "evalue": "No module named 'topquartile'",
     "output_type": "error",
     "traceback": [
      "\u001b[0;31m---------------------------------------------------------------------------\u001b[0m",
      "\u001b[0;31mModuleNotFoundError\u001b[0m                       Traceback (most recent call last)",
      "Cell \u001b[0;32mIn[2], line 1\u001b[0m\n\u001b[0;32m----> 1\u001b[0m \u001b[38;5;28;01mfrom\u001b[39;00m\u001b[38;5;250m \u001b[39m\u001b[38;5;21;01mtopquartile\u001b[39;00m\u001b[38;5;21;01m.\u001b[39;00m\u001b[38;5;21;01mmodules\u001b[39;00m\u001b[38;5;21;01m.\u001b[39;00m\u001b[38;5;21;01mdatamodule\u001b[39;00m\u001b[38;5;21;01m.\u001b[39;00m\u001b[38;5;21;01mdataloader\u001b[39;00m\u001b[38;5;250m \u001b[39m\u001b[38;5;28;01mimport\u001b[39;00m DataLoader\n\u001b[1;32m      2\u001b[0m \u001b[38;5;28;01mfrom\u001b[39;00m\u001b[38;5;250m \u001b[39m\u001b[38;5;21;01mtopquartile\u001b[39;00m\u001b[38;5;21;01m.\u001b[39;00m\u001b[38;5;21;01mmodules\u001b[39;00m\u001b[38;5;21;01m.\u001b[39;00m\u001b[38;5;21;01mdatamodule\u001b[39;00m\u001b[38;5;21;01m.\u001b[39;00m\u001b[38;5;21;01mtransforms\u001b[39;00m\u001b[38;5;21;01m.\u001b[39;00m\u001b[38;5;21;01mcovariate\u001b[39;00m\u001b[38;5;250m \u001b[39m\u001b[38;5;28;01mimport\u001b[39;00m (TechnicalCovariateTransform,\n\u001b[1;32m      3\u001b[0m                                                                  FundamentalCovariateTransform)\n\u001b[1;32m      4\u001b[0m \u001b[38;5;28;01mfrom\u001b[39;00m\u001b[38;5;250m \u001b[39m\u001b[38;5;21;01mtopquartile\u001b[39;00m\u001b[38;5;21;01m.\u001b[39;00m\u001b[38;5;21;01mmodules\u001b[39;00m\u001b[38;5;21;01m.\u001b[39;00m\u001b[38;5;21;01mdatamodule\u001b[39;00m\u001b[38;5;21;01m.\u001b[39;00m\u001b[38;5;21;01mtransforms\u001b[39;00m\u001b[38;5;21;01m.\u001b[39;00m\u001b[38;5;21;01mlabel\u001b[39;00m\u001b[38;5;250m \u001b[39m\u001b[38;5;28;01mimport\u001b[39;00m BinaryLabelTransform\n",
      "\u001b[0;31mModuleNotFoundError\u001b[0m: No module named 'topquartile'"
     ]
    }
   ],
   "source": [
    "from topquartile.modules.datamodule.dataloader import DataLoader\n",
    "from topquartile.modules.datamodule.transforms.covariate import (TechnicalCovariateTransform,\n",
    "                                                                 FundamentalCovariateTransform)\n",
    "from topquartile.modules.datamodule.transforms.label import BinaryLabelTransform"
   ]
  },
  {
   "cell_type": "code",
   "execution_count": null,
   "id": "8b25bf420c4464fe",
   "metadata": {
    "ExecuteTime": {
     "end_time": "2025-04-07T08:51:38.922698Z",
     "start_time": "2025-04-07T08:51:38.917885Z"
    }
   },
   "outputs": [],
   "source": [
    "covtrans_config = [((TechnicalCovariateTransform, dict(sma = [20, 30],\n",
    "                                                     ema = [20, 30],\n",
    "                                                     volatility = [20, 30]))),\n",
    "                   ((FundamentalCovariateTransform, dict(adjusted_roic=True)))]\n",
    "\n",
    "labeltrans_config = [(BinaryLabelTransform, dict(label_duration=20,\n",
    "                                                quantile=0.9))]"
   ]
  },
  {
   "cell_type": "code",
   "execution_count": null,
   "id": "151b38159395a663",
   "metadata": {
    "ExecuteTime": {
     "end_time": "2025-04-07T08:52:01.363803Z",
     "start_time": "2025-04-07T08:51:50.561491Z"
    }
   },
   "outputs": [
    {
     "name": "stdout",
     "output_type": "stream",
     "text": [
      "Warning: 510 NaN values found in index returns after aligning.\n"
     ]
    }
   ],
   "source": [
    "data = DataLoader(data_id='dec2024', label_duration=10, covariate_transform=covtrans_config,\n",
    "                  label_transform=labeltrans_config).transform_data()"
   ]
  },
  {
   "cell_type": "code",
   "execution_count": null,
   "id": "6ba4789efe3ede1f",
   "metadata": {
    "ExecuteTime": {
     "end_time": "2025-05-12T14:10:17.687337Z",
     "start_time": "2025-05-12T14:10:17.653521Z"
    }
   },
   "outputs": [],
   "source": [
    "\n",
    "name = 'shintaro'"
   ]
  },
  {
   "cell_type": "code",
   "execution_count": null,
   "id": "8cde7688849a4b7b",
   "metadata": {
    "ExecuteTime": {
     "end_time": "2025-05-12T14:10:43.816817Z",
     "start_time": "2025-05-12T14:10:43.806763Z"
    }
   },
   "outputs": [],
   "source": [
    "string = 'my name is {name}'"
   ]
  },
  {
   "cell_type": "code",
   "execution_count": null,
   "id": "61b8fae414ede22a",
   "metadata": {
    "ExecuteTime": {
     "end_time": "2025-05-12T14:10:44.514720Z",
     "start_time": "2025-05-12T14:10:44.509797Z"
    }
   },
   "outputs": [
    {
     "data": {
      "text/plain": [
       "'my name is {name}'"
      ]
     },
     "execution_count": 7,
     "metadata": {},
     "output_type": "execute_result"
    }
   ],
   "source": [
    "string"
   ]
  },
  {
   "cell_type": "code",
   "execution_count": null,
   "id": "ec66fcaaaa8b78b0",
   "metadata": {
    "ExecuteTime": {
     "end_time": "2025-05-12T14:11:14.155500Z",
     "start_time": "2025-05-12T14:11:14.142468Z"
    }
   },
   "outputs": [],
   "source": [
    "turnover = [20, 30]"
   ]
  },
  {
   "cell_type": "code",
   "execution_count": null,
   "id": "bf09345bac3b5952",
   "metadata": {
    "ExecuteTime": {
     "end_time": "2025-05-12T14:11:41.817360Z",
     "start_time": "2025-05-12T14:11:41.807911Z"
    }
   },
   "outputs": [
    {
     "name": "stdout",
     "output_type": "stream",
     "text": [
      "20\n",
      "30\n"
     ]
    }
   ],
   "source": [
    "for window in turnover:\n",
    "    print(window)"
   ]
  },
  {
   "cell_type": "code",
   "execution_count": null,
   "id": "6d9c601e3c7354ef",
   "metadata": {},
   "outputs": [],
   "source": []
  }
 ],
 "metadata": {
  "kernelspec": {
   "display_name": "3.10.13",
   "language": "python",
   "name": "python3"
  },
  "language_info": {
   "codemirror_mode": {
    "name": "ipython",
    "version": 3
   },
   "file_extension": ".py",
   "mimetype": "text/x-python",
   "name": "python",
   "nbconvert_exporter": "python",
   "pygments_lexer": "ipython3",
   "version": "3.10.13"
  }
 },
 "nbformat": 4,
 "nbformat_minor": 5
}
