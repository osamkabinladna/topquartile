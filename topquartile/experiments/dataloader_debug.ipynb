{
 "cells": [
  {
   "metadata": {
    "ExecuteTime": {
     "end_time": "2025-04-06T17:20:37.806030Z",
     "start_time": "2025-04-06T17:20:37.404535Z"
    }
   },
   "cell_type": "code",
   "source": [
    "import pandas as pd\n",
    "import numpy as np\n",
    "from pathlib import Path\n",
    "import sys\n",
    "from collections import defaultdict\n",
    "import re\n",
    "import os\n",
    "from topquartile.modules.datamodule.dataloader import DataLoader\n",
    "from topquartile.modules.datamodule.transforms import (TechnicalCovariateTransform,\n",
    "                                                       FundamentalCovariateTransform,\n",
    "                                                       BinaryLabelTransform)"
   ],
   "id": "5ca9f96517d4d937",
   "outputs": [],
   "execution_count": 1
  },
  {
   "metadata": {
    "ExecuteTime": {
     "end_time": "2025-04-06T17:20:37.811439Z",
     "start_time": "2025-04-06T17:20:37.809229Z"
    }
   },
   "cell_type": "code",
   "source": [
    "covtrans_config = [(TechnicalCovariateTransform, dict(sma = [20, 30],\n",
    "                                                     ema = [20, 30],\n",
    "                                                     volatility = [20, 30]))]\n",
    "\n",
    "labeltrans_config = [(BinaryLabelTransform, dict(label_duration=20,\n",
    "                                                quantile=0.9))]"
   ],
   "id": "8b25bf420c4464fe",
   "outputs": [],
   "execution_count": 2
  },
  {
   "metadata": {
    "ExecuteTime": {
     "end_time": "2025-04-06T17:20:48.286634Z",
     "start_time": "2025-04-06T17:20:37.849080Z"
    }
   },
   "cell_type": "code",
   "source": [
    "data = DataLoader(data_id='dec2024', label_duration=20, covariate_transform=covtrans_config,\n",
    "                  label_transform=labeltrans_config)._apply_transforms()"
   ],
   "id": "151b38159395a663",
   "outputs": [
    {
     "name": "stdout",
     "output_type": "stream",
     "text": [
      "Starting BinaryLabelTransform...\n",
      "Sorting index by ['ticker', 'Dates']...\n",
      "'Dates' level is already datetime-like (dtype: datetime64[ns]).\n",
      "Calculating 20-day stock returns...\n",
      "Stock returns calculated ('20d_stock_return'). NaN count: 43816\n",
      "Fetching and aligning index returns...\n",
      "Downloading index data: ^JKSE from 2014-01-01 to 2025-01-15\n",
      "Warning: Selection of 'Close' yielded a DataFrame. Attempting to extract Series.\n",
      "Successfully extracted Series from single-column DataFrame.\n",
      "DEBUG: Type of price_series passed to _calculate_returns: <class 'pandas.core.series.Series'>\n",
      "DEBUG: Type returned by _calculate_returns: <class 'pandas.core.series.Series'>\n",
      "DEBUG: Type of aligned_index_returns after reindex/ffill: <class 'pandas.core.series.Series'>\n",
      "DEBUG: Type of nan_count: <class 'numpy.int64'>\n",
      "DEBUG: Value of nan_count: 3\n",
      "Warning: 3 NaN values found in index returns after aligning and ffill.\n",
      "Index returns aligned ('INDEX_RETURN'). Shape: (2854,)\n",
      "Joining index returns onto DataFrame using 'Dates' level...\n",
      "Join complete.\n",
      "'INDEX_RETURN' column verified. NaN count: 342\n",
      "Calculating excess returns...\n",
      "Excess returns calculated ('EXCESS_RETURN'). NaN count: 44080\n",
      "Assigning labels using quantile 0.9 within each date group...\n",
      "Labels assigned ('label'). NaN count: 44080\n",
      "BinaryLabelTransform finished.\n"
     ]
    }
   ],
   "execution_count": 3
  },
  {
   "metadata": {
    "ExecuteTime": {
     "end_time": "2025-04-06T17:21:52.251217Z",
     "start_time": "2025-04-06T17:21:52.242872Z"
    }
   },
   "cell_type": "code",
   "source": "data['EXCESS_RETURN']",
   "id": "8a1d8bdc4bacfa40",
   "outputs": [
    {
     "data": {
      "text/plain": [
       "ticker  Dates     \n",
       "AALI    2014-01-01          NaN\n",
       "        2014-01-04          NaN\n",
       "        2014-01-05          NaN\n",
       "        2014-01-07   -15.667279\n",
       "        2014-01-08    -9.702738\n",
       "                        ...    \n",
       "WSKT    2024-12-06          NaN\n",
       "        2024-12-07          NaN\n",
       "        2024-12-08          NaN\n",
       "        2024-12-09          NaN\n",
       "        2024-12-11          NaN\n",
       "Name: EXCESS_RETURN, Length: 325356, dtype: float64"
      ]
     },
     "execution_count": 6,
     "metadata": {},
     "output_type": "execute_result"
    }
   ],
   "execution_count": 6
  }
 ],
 "metadata": {
  "kernelspec": {
   "display_name": "Python 3",
   "language": "python",
   "name": "python3"
  },
  "language_info": {
   "codemirror_mode": {
    "name": "ipython",
    "version": 2
   },
   "file_extension": ".py",
   "mimetype": "text/x-python",
   "name": "python",
   "nbconvert_exporter": "python",
   "pygments_lexer": "ipython2",
   "version": "2.7.6"
  }
 },
 "nbformat": 4,
 "nbformat_minor": 5
}
