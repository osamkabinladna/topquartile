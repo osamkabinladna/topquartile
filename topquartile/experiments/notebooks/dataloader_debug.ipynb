{
 "cells": [
  {
   "metadata": {
    "ExecuteTime": {
     "end_time": "2025-05-23T11:15:24.406942Z",
     "start_time": "2025-05-23T11:15:24.401158Z"
    }
   },
   "cell_type": "code",
   "source": [
    "# Run only if you have errors loading the topquartile module\n",
    "\n",
    "from pathlib import Path\n",
    "import sys\n",
    "\n",
    "root = Path().resolve().parent.parent.parent.parent\n",
    "sys.path.append(root)"
   ],
   "id": "1e3123d2e53b6765",
   "outputs": [],
   "execution_count": 1
  },
  {
   "metadata": {
    "ExecuteTime": {
     "end_time": "2025-05-23T11:15:26.130060Z",
     "start_time": "2025-05-23T11:15:24.496753Z"
    }
   },
   "cell_type": "code",
   "source": [
    "from topquartile.modules.datamodule.dataloader import DataLoader\n",
    "from topquartile.modules.datamodule.transforms.covariate import (TechnicalCovariateTransform, FundamentalCovariateTransform)\n",
    "from topquartile.modules.datamodule.transforms.label import BinaryLabelTransform\n",
    "from topquartile.modules.datamodule.partitions import PurgedTimeSeriesPartition"
   ],
   "id": "5ca9f96517d4d937",
   "outputs": [],
   "execution_count": 2
  },
  {
   "metadata": {
    "ExecuteTime": {
     "end_time": "2025-05-23T11:15:26.149190Z",
     "start_time": "2025-05-23T11:15:26.145346Z"
    }
   },
   "cell_type": "code",
   "source": [
    "covtrans_config = [((TechnicalCovariateTransform, dict(sma = [20, 30],\n",
    "                                                       ema = [20, 30],\n",
    "                                                       momentum_change=True,\n",
    "                                                       volatility = [20, 30],)))]\n",
    "\n",
    "labeltrans_config = [(BinaryLabelTransform, dict(label_duration=20,\n",
    "                                                quantile=0.75))]\n",
    "\n",
    "partition_config = dict(n_splits=5, gap=20, max_train_size=504, test_size=60, verbose=False)"
   ],
   "id": "8b25bf420c4464fe",
   "outputs": [],
   "execution_count": 3
  },
  {
   "metadata": {
    "ExecuteTime": {
     "end_time": "2025-05-23T11:15:26.171143Z",
     "start_time": "2025-05-23T11:15:26.167829Z"
    }
   },
   "cell_type": "code",
   "source": [
    "dataloader = DataLoader(data_id='dec2024', covariate_transform=covtrans_config,\n",
    "                  label_transform=labeltrans_config, partition_class=PurgedTimeSeriesPartition,\n",
    "                  partition_kwargs=partition_config)"
   ],
   "id": "d624a6cb4141f804",
   "outputs": [],
   "execution_count": 4
  },
  {
   "metadata": {
    "ExecuteTime": {
     "end_time": "2025-05-23T11:15:33.187164Z",
     "start_time": "2025-05-23T11:15:26.187328Z"
    }
   },
   "cell_type": "code",
   "source": "folds = dataloader.get_cv_folds()",
   "id": "c1ed226c46446222",
   "outputs": [
    {
     "name": "stdout",
     "output_type": "stream",
     "text": [
      "Data not yet processed. Processing now...\n",
      "Reading data from: /Users/gregruyoga/gmoneycodes/topquartile/topquartile/data/dec2024.csv\n",
      "Found 342 raw ticker names.\n",
      " Applying TechnicalCovariateTransform with params {'sma': [20, 30], 'ema': [20, 30], 'momentum_change': True, 'volatility': [20, 30]}\n",
      " Applying BinaryLabelTransform with params {'label_duration': 20, 'quantile': 0.75} (globally)\n"
     ]
    },
    {
     "name": "stderr",
     "output_type": "stream",
     "text": [
      "/Users/gregruyoga/gmoneycodes/topquartile/topquartile/modules/datamodule/transforms/label.py:171: FutureWarning: The default of observed=False is deprecated and will be changed to True in a future version of pandas. Pass observed=False to retain current behavior or observed=True to adopt the future default and silence this warning.\n",
      "  df_copy.groupby(level=self.ticker_level_name, group_keys=False)[self.price_column]\n"
     ]
    },
    {
     "name": "stdout",
     "output_type": "stream",
     "text": [
      "Warning: 510 NaN values found in index returns after aligning to DataFrame dates. \n",
      "Data processing complete.\n",
      "Partitioning data using PurgedTimeSeriesPartition for 5 splits across 113 tickers.\n"
     ]
    },
    {
     "name": "stderr",
     "output_type": "stream",
     "text": [
      "/Users/gregruyoga/gmoneycodes/topquartile/topquartile/modules/datamodule/dataloader.py:244: FutureWarning: The default of observed=False is deprecated and will be changed to True in a future version of pandas. Pass observed=False to retain current behavior or observed=True to adopt the future default and silence this warning.\n",
      "  data_grouped_by_ticker = self.data.groupby(\"ticker\")\n"
     ]
    },
    {
     "name": "stdout",
     "output_type": "stream",
     "text": [
      "Fold 0: Train shape (56952, 39), Test shape (6780, 39)\n",
      "Fold 1: Train shape (56952, 39), Test shape (6780, 39)\n",
      "Fold 2: Train shape (56952, 39), Test shape (6780, 39)\n",
      "Fold 3: Train shape (56952, 39), Test shape (6780, 39)\n",
      "Fold 4: Train shape (56952, 39), Test shape (6780, 39)\n",
      "Partitioning complete. Generated 5 CV folds.\n"
     ]
    }
   ],
   "execution_count": 5
  },
  {
   "metadata": {
    "ExecuteTime": {
     "end_time": "2025-05-23T11:15:33.212900Z",
     "start_time": "2025-05-23T11:15:33.211024Z"
    }
   },
   "cell_type": "code",
   "source": [
    "train = folds[0][0]\n",
    "valid = folds[0][1]\n"
   ],
   "id": "b364281010945f2",
   "outputs": [],
   "execution_count": 6
  },
  {
   "metadata": {
    "ExecuteTime": {
     "end_time": "2025-05-23T11:15:33.248594Z",
     "start_time": "2025-05-23T11:15:33.231046Z"
    }
   },
   "cell_type": "code",
   "source": [
    "train = train.dropna(how='any', inplace=False)\n",
    "valid = valid.dropna(how='any', inplace=False)\n",
    "\n",
    "train.drop('ticker', axis=1, inplace=True)\n",
    "valid.drop('ticker', axis=1, inplace=True)\n",
    "\n",
    "to_remove = ['INDEX_RETURN', 'EXCESS_RETURN', '20d_stock_return', 'label']"
   ],
   "id": "1b7804fe66baa661",
   "outputs": [
    {
     "name": "stderr",
     "output_type": "stream",
     "text": [
      "/var/folders/5w/sk_z507j78j69yh904rh10440000gn/T/ipykernel_48472/591961063.py:4: SettingWithCopyWarning: \n",
      "A value is trying to be set on a copy of a slice from a DataFrame\n",
      "\n",
      "See the caveats in the documentation: https://pandas.pydata.org/pandas-docs/stable/user_guide/indexing.html#returning-a-view-versus-a-copy\n",
      "  train.drop('ticker', axis=1, inplace=True)\n",
      "/var/folders/5w/sk_z507j78j69yh904rh10440000gn/T/ipykernel_48472/591961063.py:5: SettingWithCopyWarning: \n",
      "A value is trying to be set on a copy of a slice from a DataFrame\n",
      "\n",
      "See the caveats in the documentation: https://pandas.pydata.org/pandas-docs/stable/user_guide/indexing.html#returning-a-view-versus-a-copy\n",
      "  valid.drop('ticker', axis=1, inplace=True)\n"
     ]
    }
   ],
   "execution_count": 7
  },
  {
   "metadata": {
    "ExecuteTime": {
     "end_time": "2025-05-23T11:15:33.263552Z",
     "start_time": "2025-05-23T11:15:33.258780Z"
    }
   },
   "cell_type": "code",
   "source": [
    "train_label = train['EXCESS_RETURN']\n",
    "train_covariates = train.drop(to_remove, axis=1, inplace=False)"
   ],
   "id": "67019773d8da29a8",
   "outputs": [],
   "execution_count": 8
  },
  {
   "metadata": {
    "ExecuteTime": {
     "end_time": "2025-05-23T11:15:33.327797Z",
     "start_time": "2025-05-23T11:15:33.324339Z"
    }
   },
   "cell_type": "code",
   "source": [
    "valid_label = valid['EXCESS_RETURN']\n",
    "valid_covariates = valid.drop(to_remove, axis=1, inplace=False)"
   ],
   "id": "44ed1e242b89a60c",
   "outputs": [],
   "execution_count": 9
  },
  {
   "metadata": {
    "ExecuteTime": {
     "end_time": "2025-05-23T11:17:57.717933Z",
     "start_time": "2025-05-23T11:15:33.359086Z"
    }
   },
   "cell_type": "code",
   "source": [
    "from quantile_forest import RandomForestQuantileRegressor\n",
    "qrf = RandomForestQuantileRegressor()\n",
    "qrf.fit(train_covariates.to_numpy(), train_label.to_numpy())\n",
    "y_pred = qrf.predict(valid_covariates.to_numpy(), quantiles=[0.025, 0.5, 0.975])"
   ],
   "id": "2db3d87fe2ee2580",
   "outputs": [],
   "execution_count": 10
  },
  {
   "metadata": {
    "ExecuteTime": {
     "end_time": "2025-05-23T11:17:57.800597Z",
     "start_time": "2025-05-23T11:17:57.792869Z"
    }
   },
   "cell_type": "code",
   "source": "y_pred",
   "id": "930a2d410a4bd2eb",
   "outputs": [
    {
     "data": {
      "text/plain": [
       "array([[ -1.95869523,   4.89947832,  15.28221841],\n",
       "       [ -4.41215982,   4.89947832,  49.92450134],\n",
       "       [ -2.62403666,   4.89947832,  15.28221841],\n",
       "       ...,\n",
       "       [-10.67199978,   0.19225049,  22.92077153],\n",
       "       [-34.31479399,   1.2387457 ,  49.32271189],\n",
       "       [-34.31479399,   0.99046944,  49.32271189]], shape=(4940, 3))"
      ]
     },
     "execution_count": 11,
     "metadata": {},
     "output_type": "execute_result"
    }
   ],
   "execution_count": 11
  },
  {
   "metadata": {
    "ExecuteTime": {
     "end_time": "2025-05-23T11:17:57.894843Z",
     "start_time": "2025-05-23T11:17:57.892807Z"
    }
   },
   "cell_type": "code",
   "source": "",
   "id": "58146d351b52cd61",
   "outputs": [],
   "execution_count": null
  }
 ],
 "metadata": {
  "kernelspec": {
   "display_name": "Python 3",
   "language": "python",
   "name": "python3"
  },
  "language_info": {
   "codemirror_mode": {
    "name": "ipython",
    "version": 2
   },
   "file_extension": ".py",
   "mimetype": "text/x-python",
   "name": "python",
   "nbconvert_exporter": "python",
   "pygments_lexer": "ipython2",
   "version": "2.7.6"
  }
 },
 "nbformat": 4,
 "nbformat_minor": 5
}
