{
 "cells": [
  {
   "cell_type": "code",
   "execution_count": 1,
   "id": "1568b7ac",
   "metadata": {},
   "outputs": [],
   "source": [
    "import sys\n",
    "sys.path.append('/Users/shintarou/coding/topquartile')\n",
    "\n",
    "from topquartile.modules.datamodule.dataloader import DataLoader\n"
   ]
  },
  {
   "cell_type": "code",
   "execution_count": 2,
   "id": "1e3123d2e53b6765",
   "metadata": {
    "ExecuteTime": {
     "end_time": "2025-05-23T12:48:41.148213Z",
     "start_time": "2025-05-23T12:48:41.143941Z"
    }
   },
   "outputs": [],
   "source": [
    "# Run only if you have errors loading the topquartile module\n",
    "\n",
    "from pathlib import Path\n",
    "import sys\n",
    "\n",
    "root = Path().resolve().parent.parent.parent\n",
    "sys.path.append(root)"
   ]
  },
  {
   "cell_type": "code",
   "execution_count": 3,
   "id": "ea15dd3d",
   "metadata": {},
   "outputs": [
    {
     "name": "stdout",
     "output_type": "stream",
     "text": [
      "/Users/shintarou/coding/topquartile\n",
      "['/opt/homebrew/Caskroom/miniconda/base/envs/topq/lib/python313.zip', '/opt/homebrew/Caskroom/miniconda/base/envs/topq/lib/python3.13', '/opt/homebrew/Caskroom/miniconda/base/envs/topq/lib/python3.13/lib-dynload', '', '/opt/homebrew/Caskroom/miniconda/base/envs/topq/lib/python3.13/site-packages', '/Users/shintarou/coding/topquartile', '/opt/homebrew/Caskroom/miniconda/base/envs/topq/lib/python3.13/site-packages/setuptools/_vendor', PosixPath('/Users/shintarou/coding/topquartile')]\n"
     ]
    }
   ],
   "source": [
    "print(root)\n",
    "print(sys.path)"
   ]
  },
  {
   "cell_type": "code",
   "execution_count": 4,
   "id": "5ca9f96517d4d937",
   "metadata": {
    "ExecuteTime": {
     "end_time": "2025-05-23T12:48:42.888529Z",
     "start_time": "2025-05-23T12:48:41.311453Z"
    }
   },
   "outputs": [],
   "source": [
    "from topquartile.modules.datamodule.dataloader import DataLoader\n",
    "from topquartile.modules.datamodule.transforms.covariate import (TechnicalCovariateTransform, FundamentalCovariateTransform)\n",
    "from topquartile.modules.datamodule.transforms.label import BinaryLabelTransform\n",
    "from topquartile.modules.datamodule.partitions import PurgedTimeSeriesPartition"
   ]
  },
  {
   "cell_type": "code",
   "execution_count": 5,
   "id": "8b25bf420c4464fe",
   "metadata": {
    "ExecuteTime": {
     "end_time": "2025-05-23T12:48:42.898217Z",
     "start_time": "2025-05-23T12:48:42.895752Z"
    }
   },
   "outputs": [],
   "source": [
    "covtrans_config = [((TechnicalCovariateTransform, dict(sma = [20, 30],\n",
    "                                                       ema = [20, 30],\n",
    "                                                       momentum_change=True,\n",
    "                                                       volatility = [20, 30],)))]\n",
    "\n",
    "labeltrans_config = [(BinaryLabelTransform, dict(label_duration=20,\n",
    "                                                quantile=0.75))]\n",
    "\n",
    "partition_config = dict(n_splits=5, gap=20, max_train_size=504, test_size=60, verbose=False)"
   ]
  },
  {
   "cell_type": "code",
   "execution_count": 6,
   "id": "d624a6cb4141f804",
   "metadata": {
    "ExecuteTime": {
     "end_time": "2025-05-23T12:48:42.919247Z",
     "start_time": "2025-05-23T12:48:42.916728Z"
    }
   },
   "outputs": [],
   "source": [
    "dataloader = DataLoader(data_id='dec2024', covariate_transform=covtrans_config,\n",
    "                  label_transform=labeltrans_config, partition_class=PurgedTimeSeriesPartition,\n",
    "                  partition_kwargs=partition_config)"
   ]
  },
  {
   "cell_type": "code",
   "execution_count": 7,
   "id": "c1ed226c46446222",
   "metadata": {
    "ExecuteTime": {
     "end_time": "2025-05-23T12:48:50.794511Z",
     "start_time": "2025-05-23T12:48:43.273694Z"
    }
   },
   "outputs": [
    {
     "name": "stdout",
     "output_type": "stream",
     "text": [
      "Data not yet processed. Processing now...\n",
      "Reading data from: /Users/shintarou/coding/topquartile/topquartile/data/dec2024.csv\n",
      "Found 342 raw ticker names.\n",
      " Applying TechnicalCovariateTransform with params {'sma': [20, 30], 'ema': [20, 30], 'momentum_change': True, 'volatility': [20, 30]}\n",
      "Applying label transformations globally to the dataset (before partitioning).\n",
      " Applying BinaryLabelTransform with params {'label_duration': 20, 'quantile': 0.75} (globally)\n"
     ]
    },
    {
     "name": "stderr",
     "output_type": "stream",
     "text": [
      "/Users/shintarou/coding/topquartile/topquartile/modules/datamodule/transforms/label.py:171: FutureWarning: The default of observed=False is deprecated and will be changed to True in a future version of pandas. Pass observed=False to retain current behavior or observed=True to adopt the future default and silence this warning.\n",
      "  df_copy.groupby(level=self.ticker_level_name, group_keys=False)[self.price_column]\n"
     ]
    },
    {
     "name": "stdout",
     "output_type": "stream",
     "text": [
      "Warning: 510 NaN values found in index returns after aligning to DataFrame dates. \n",
      "Data processing complete.\n",
      "Partitioning data using PurgedTimeSeriesPartition for 5 splits across 113 tickers.\n",
      "Fold 0: Train shape (56952, 39), Test shape (6780, 39)\n"
     ]
    },
    {
     "name": "stderr",
     "output_type": "stream",
     "text": [
      "/Users/shintarou/coding/topquartile/topquartile/modules/datamodule/dataloader.py:364: FutureWarning: The default of observed=False is deprecated and will be changed to True in a future version of pandas. Pass observed=False to retain current behavior or observed=True to adopt the future default and silence this warning.\n",
      "  data_grouped_by_ticker = self.data.groupby(level=\"TickerIndex\")\n"
     ]
    },
    {
     "name": "stdout",
     "output_type": "stream",
     "text": [
      "Fold 1: Train shape (56952, 39), Test shape (6780, 39)\n",
      "Fold 2: Train shape (56952, 39), Test shape (6780, 39)\n",
      "Fold 3: Train shape (56952, 39), Test shape (6780, 39)\n",
      "Fold 4: Train shape (56952, 39), Test shape (6780, 39)\n",
      "Partitioning complete. Generated 5 CV folds.\n"
     ]
    }
   ],
   "source": [
    "folds = dataloader.get_cv_folds()"
   ]
  },
  {
   "cell_type": "code",
   "execution_count": 8,
   "id": "b364281010945f2",
   "metadata": {
    "ExecuteTime": {
     "end_time": "2025-05-23T12:49:00.540959Z",
     "start_time": "2025-05-23T12:49:00.535126Z"
    }
   },
   "outputs": [],
   "source": [
    "train = folds[0][0]\n",
    "valid = folds[0][1]\n"
   ]
  },
  {
   "cell_type": "code",
   "execution_count": 9,
   "id": "1b7804fe66baa661",
   "metadata": {},
   "outputs": [
    {
     "name": "stderr",
     "output_type": "stream",
     "text": [
      "/var/folders/3h/3r1g6ccn01v_37rgl_0q98rw0000gn/T/ipykernel_93697/3745639844.py:4: SettingWithCopyWarning: \n",
      "A value is trying to be set on a copy of a slice from a DataFrame\n",
      "\n",
      "See the caveats in the documentation: https://pandas.pydata.org/pandas-docs/stable/user_guide/indexing.html#returning-a-view-versus-a-copy\n",
      "  train.drop('ticker', axis=1, inplace=True)\n",
      "/var/folders/3h/3r1g6ccn01v_37rgl_0q98rw0000gn/T/ipykernel_93697/3745639844.py:5: SettingWithCopyWarning: \n",
      "A value is trying to be set on a copy of a slice from a DataFrame\n",
      "\n",
      "See the caveats in the documentation: https://pandas.pydata.org/pandas-docs/stable/user_guide/indexing.html#returning-a-view-versus-a-copy\n",
      "  valid.drop('ticker', axis=1, inplace=True)\n"
     ]
    }
   ],
   "source": [
    "train = train.dropna(how='any', inplace=False)\n",
    "valid = valid.dropna(how='any', inplace=False)\n",
    "\n",
    "train.drop('ticker', axis=1, inplace=True)\n",
    "valid.drop('ticker', axis=1, inplace=True)\n",
    "\n",
    "to_remove = ['INDEX_RETURN', 'EXCESS_RETURN', '20d_stock_return', 'label']"
   ]
  },
  {
   "cell_type": "code",
   "execution_count": 10,
   "id": "67019773d8da29a8",
   "metadata": {},
   "outputs": [],
   "source": [
    "train_label = train['EXCESS_RETURN']\n",
    "train_covariates = train.drop(to_remove, axis=1, inplace=False)"
   ]
  },
  {
   "cell_type": "code",
   "execution_count": 11,
   "id": "44ed1e242b89a60c",
   "metadata": {},
   "outputs": [],
   "source": [
    "valid_label = valid['EXCESS_RETURN']\n",
    "valid_covariates = valid.drop(to_remove, axis=1, inplace=False)"
   ]
  },
  {
   "cell_type": "code",
   "execution_count": 12,
   "id": "2db3d87fe2ee2580",
   "metadata": {},
   "outputs": [],
   "source": [
    "from quantile_forest import RandomForestQuantileRegressor\n",
    "qrf = RandomForestQuantileRegressor()\n",
    "qrf.fit(train_covariates.to_numpy(), train_label.to_numpy())\n",
    "y_pred = qrf.predict(valid_covariates.to_numpy(), quantiles=[0.025, 0.5, 0.975])"
   ]
  },
  {
   "cell_type": "code",
   "execution_count": 13,
   "id": "930a2d410a4bd2eb",
   "metadata": {},
   "outputs": [
    {
     "data": {
      "text/plain": [
       "array([[ -6.76628361,   3.8114594 ,  14.79235203],\n",
       "       [ -4.6183646 ,   5.73611089,  31.52581966],\n",
       "       [ -6.28290445,   4.89947832,  15.31006166],\n",
       "       ...,\n",
       "       [-14.03731297,   0.19225049,   8.8777626 ],\n",
       "       [-27.32517125,   0.46776354,  49.32271189],\n",
       "       [-24.63845489,   0.44077901,  49.32271189]], shape=(4940, 3))"
      ]
     },
     "execution_count": 13,
     "metadata": {},
     "output_type": "execute_result"
    }
   ],
   "source": [
    "y_pred"
   ]
  },
  {
   "cell_type": "markdown",
   "id": "93fd921b",
   "metadata": {},
   "source": [
    "## Evaluation"
   ]
  },
  {
   "cell_type": "code",
   "execution_count": 22,
   "id": "849e2f40",
   "metadata": {},
   "outputs": [
    {
     "name": "stdout",
     "output_type": "stream",
     "text": [
      "Sharpe-like score summary:\n",
      "count    4940.000000\n",
      "mean        0.011232\n",
      "std         0.084462\n",
      "min        -0.295040\n",
      "25%        -0.038763\n",
      "50%         0.014236\n",
      "75%         0.063946\n",
      "max         0.268930\n",
      "Name: sharpe, dtype: float64\n",
      "Top 494 samples with high Sharpe-like scores\n"
     ]
    }
   ],
   "source": [
    "import pandas as pd\n",
    "import numpy as np\n",
    "\n",
    "# y_pred: shape (n_samples, 3) with quantiles [0.025, 0.5, 0.975]\n",
    "df = pd.DataFrame(y_pred, columns=['q025', 'q50', 'q975'])\n",
    "\n",
    "# Risk = width of the prediction interval\n",
    "df['risk'] = df['q975'] - df['q025']\n",
    "df['sharpe'] = df['q50'] / df['risk']\n",
    "\n",
    "# Remove invalid values (Inf, NaN, near-zero risk)\n",
    "df = df.replace([np.inf, -np.inf], np.nan).dropna()\n",
    "df = df[df['risk'] > 1e-6]  # Only keep non-zero risk samples\n",
    "\n",
    "# Summary statistics\n",
    "print(\"Sharpe-like score summary:\")\n",
    "print(df['sharpe'].describe())\n",
    "\n",
    "# Extract samples with high Sharpe-like scores (e.g., top 10%)\n",
    "top_sharpes = df[df['sharpe'] > df['sharpe'].quantile(0.9)]\n",
    "print(f\"Top {len(top_sharpes)} samples with high Sharpe-like scores\")\n"
   ]
  },
  {
   "cell_type": "markdown",
   "id": "c1add253",
   "metadata": {},
   "source": [
    "## Optimazation　using parameters same as the paper"
   ]
  },
  {
   "cell_type": "code",
   "execution_count": 21,
   "id": "58146d351b52cd61",
   "metadata": {},
   "outputs": [
    {
     "name": "stderr",
     "output_type": "stream",
     "text": [
      "[I 2025-05-24 01:52:40,505] A new study created in memory with name: no-name-47fec855-cadb-4dfc-a8fc-cf80f5bb47d1\n",
      "[I 2025-05-24 01:52:49,551] Trial 0 finished with value: 1.317345045552114 and parameters: {'n_estimators': 300, 'min_samples_leaf': 6, 'max_features': 0.3155280197979616}. Best is trial 0 with value: 1.317345045552114.\n",
      "[I 2025-05-24 01:53:14,284] Trial 1 finished with value: 1.3253362325638647 and parameters: {'n_estimators': 500, 'min_samples_leaf': 12, 'max_features': 0.6139876485139416}. Best is trial 1 with value: 1.3253362325638647.\n",
      "[I 2025-05-24 01:53:27,129] Trial 2 finished with value: 1.3141553514538291 and parameters: {'n_estimators': 300, 'min_samples_leaf': 6, 'max_features': 0.4497982533391982}. Best is trial 1 with value: 1.3253362325638647.\n",
      "[I 2025-05-24 01:53:48,443] Trial 3 finished with value: 1.3324046302210393 and parameters: {'n_estimators': 500, 'min_samples_leaf': 14, 'max_features': 0.5057215376766494}. Best is trial 3 with value: 1.3324046302210393.\n",
      "[I 2025-05-24 01:54:12,254] Trial 4 finished with value: 1.3061952278891158 and parameters: {'n_estimators': 400, 'min_samples_leaf': 5, 'max_features': 0.6351393368815852}. Best is trial 3 with value: 1.3324046302210393.\n",
      "[I 2025-05-24 01:54:27,017] Trial 5 finished with value: 1.3395665099613372 and parameters: {'n_estimators': 400, 'min_samples_leaf': 15, 'max_features': 0.4699928451217896}. Best is trial 5 with value: 1.3395665099613372.\n",
      "[I 2025-05-24 01:54:52,119] Trial 6 finished with value: 1.3322445504778448 and parameters: {'n_estimators': 600, 'min_samples_leaf': 10, 'max_features': 0.4737279993900334}. Best is trial 5 with value: 1.3395665099613372.\n",
      "[I 2025-05-24 01:55:13,470] Trial 7 finished with value: 1.31272935398851 and parameters: {'n_estimators': 300, 'min_samples_leaf': 13, 'max_features': 0.6758448660829727}. Best is trial 5 with value: 1.3395665099613372.\n",
      "[I 2025-05-24 01:55:44,949] Trial 8 finished with value: 1.3338006376657414 and parameters: {'n_estimators': 500, 'min_samples_leaf': 15, 'max_features': 0.5396539448820128}. Best is trial 5 with value: 1.3395665099613372.\n",
      "[I 2025-05-24 01:56:37,193] Trial 9 finished with value: 1.3189820567376156 and parameters: {'n_estimators': 600, 'min_samples_leaf': 8, 'max_features': 0.6998905160135588}. Best is trial 5 with value: 1.3395665099613372.\n",
      "[I 2025-05-24 01:56:56,248] Trial 10 finished with value: 1.331841361247427 and parameters: {'n_estimators': 400, 'min_samples_leaf': 11, 'max_features': 0.3769050711776679}. Best is trial 5 with value: 1.3395665099613372.\n",
      "[I 2025-05-24 01:57:30,344] Trial 11 finished with value: 1.3338006376657414 and parameters: {'n_estimators': 500, 'min_samples_leaf': 15, 'max_features': 0.5486636681092095}. Best is trial 5 with value: 1.3395665099613372.\n",
      "[I 2025-05-24 01:57:55,943] Trial 12 finished with value: 1.3273874824936214 and parameters: {'n_estimators': 400, 'min_samples_leaf': 15, 'max_features': 0.5624374767583546}. Best is trial 5 with value: 1.3395665099613372.\n",
      "[I 2025-05-24 01:58:21,010] Trial 13 finished with value: 1.3386930113282445 and parameters: {'n_estimators': 500, 'min_samples_leaf': 13, 'max_features': 0.4471896805276277}. Best is trial 5 with value: 1.3395665099613372.\n",
      "[I 2025-05-24 01:58:38,735] Trial 14 finished with value: 1.3351806540044489 and parameters: {'n_estimators': 400, 'min_samples_leaf': 13, 'max_features': 0.4024837742483589}. Best is trial 5 with value: 1.3395665099613372.\n",
      "[I 2025-05-24 01:59:07,412] Trial 15 finished with value: 1.3356281594512076 and parameters: {'n_estimators': 600, 'min_samples_leaf': 10, 'max_features': 0.42834014821844635}. Best is trial 5 with value: 1.3395665099613372.\n",
      "[I 2025-05-24 01:59:26,910] Trial 16 finished with value: 1.3463267649803288 and parameters: {'n_estimators': 500, 'min_samples_leaf': 13, 'max_features': 0.3505239316906511}. Best is trial 16 with value: 1.3463267649803288.\n",
      "[I 2025-05-24 01:59:42,875] Trial 17 finished with value: 1.3344193923515792 and parameters: {'n_estimators': 400, 'min_samples_leaf': 12, 'max_features': 0.31219451105708995}. Best is trial 16 with value: 1.3463267649803288.\n",
      "[I 2025-05-24 02:00:08,580] Trial 18 finished with value: 1.3365927090122085 and parameters: {'n_estimators': 500, 'min_samples_leaf': 9, 'max_features': 0.3626037853096287}. Best is trial 16 with value: 1.3463267649803288.\n",
      "[I 2025-05-24 02:00:27,366] Trial 19 finished with value: 1.3349215048768035 and parameters: {'n_estimators': 400, 'min_samples_leaf': 14, 'max_features': 0.35295541344185277}. Best is trial 16 with value: 1.3463267649803288.\n"
     ]
    },
    {
     "name": "stdout",
     "output_type": "stream",
     "text": [
      "Best trial params: {'n_estimators': 500, 'min_samples_leaf': 13, 'max_features': 0.3505239316906511}\n",
      "Best score: 1.3463267649803288\n"
     ]
    }
   ],
   "source": [
    "import optuna\n",
    "import numpy as np\n",
    "import pandas as pd\n",
    "from sklearn.metrics import mean_absolute_error\n",
    "from quantile_forest import RandomForestQuantileRegressor\n",
    "\n",
    "# Preloaded and preprocessed data\n",
    "X_train = train_covariates.to_numpy()\n",
    "y_train = train_label.to_numpy()\n",
    "X_valid = valid_covariates.to_numpy()\n",
    "y_valid = valid_label.to_numpy()\n",
    "\n",
    "def objective(trial):\n",
    "    n_estimators = trial.suggest_int('n_estimators', 300, 600, step=100)\n",
    "    min_samples_leaf = trial.suggest_int('min_samples_leaf', 5, 15)\n",
    "    max_features = trial.suggest_float('max_features', 0.3, 0.7)\n",
    "\n",
    "    model = RandomForestQuantileRegressor(\n",
    "        n_estimators=n_estimators,\n",
    "        min_samples_leaf=min_samples_leaf,\n",
    "        max_features=max_features,\n",
    "        n_jobs=-1,\n",
    "        random_state=42\n",
    "    )\n",
    "\n",
    "    # Train on a smaller subset to reduce time\n",
    "    subset = slice(0, int(len(X_train) * 0.5))  # 50% of training data\n",
    "    model.fit(X_train[subset], y_train[subset])\n",
    "    y_pred = model.predict(X_valid, quantiles=[0.025, 0.5, 0.975])\n",
    "\n",
    "    df = pd.DataFrame(y_pred, columns=['q025', 'q50', 'q975'])\n",
    "    df['y_true'] = y_valid\n",
    "    df['risk'] = df['q975'] - df['q025']\n",
    "    df = df.replace([np.inf, -np.inf], np.nan).dropna()\n",
    "    df = df[df['risk'] > 1e-6]\n",
    "\n",
    "    if df.empty:\n",
    "        return -np.inf\n",
    "\n",
    "    df['sharpe'] = df['q50'] / df['risk']\n",
    "    df['covered'] = ((df['y_true'] >= df['q025']) & (df['y_true'] <= df['q975'])).astype(int)\n",
    "\n",
    "    mae = mean_absolute_error(df['y_true'], df['q50'])\n",
    "    sharpe_median = df['sharpe'].median()\n",
    "    coverage = df['covered'].mean()\n",
    "\n",
    "    score = sharpe_median + (2 * coverage) - (0.05 * mae)\n",
    "    return score\n",
    "\n",
    "# Optimization\n",
    "study = optuna.create_study(direction='maximize')\n",
    "study.optimize(objective, n_trials=20, timeout=600)\n",
    "\n",
    "print(\"Best trial params:\", study.best_trial.params)\n",
    "print(\"Best score:\", study.best_value)\n"
   ]
  }
 ],
 "metadata": {
  "kernelspec": {
   "display_name": "topq",
   "language": "python",
   "name": "python3"
  },
  "language_info": {
   "codemirror_mode": {
    "name": "ipython",
    "version": 3
   },
   "file_extension": ".py",
   "mimetype": "text/x-python",
   "name": "python",
   "nbconvert_exporter": "python",
   "pygments_lexer": "ipython3",
   "version": "3.13.3"
  }
 },
 "nbformat": 4,
 "nbformat_minor": 5
}
