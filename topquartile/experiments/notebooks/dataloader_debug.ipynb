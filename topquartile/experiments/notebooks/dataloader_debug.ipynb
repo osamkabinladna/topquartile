{
 "cells": [
  {
   "cell_type": "code",
   "id": "1568b7ac",
   "metadata": {},
   "source": [
    "import sys\n",
    "sys.path.append('/Users/shintarou/coding/topquartile')\n",
    "\n",
    "from topquartile.modules.datamodule.dataloader import DataLoader\n"
   ],
   "outputs": [],
   "execution_count": null
  },
  {
   "cell_type": "code",
   "id": "1e3123d2e53b6765",
   "metadata": {},
   "source": [
    "# Run only if you have errors loading the topquartile module\n",
    "\n",
    "from pathlib import Path\n",
    "import sys\n",
    "\n",
    "root = Path().resolve().parent.parent.parent\n",
    "sys.path.append(root)"
   ],
   "outputs": [],
   "execution_count": null
  },
  {
   "cell_type": "code",
   "id": "ea15dd3d",
   "metadata": {},
   "source": [
    "print(root)\n",
    "print(sys.path)"
   ],
   "outputs": [],
   "execution_count": null
  },
  {
   "cell_type": "code",
   "id": "5ca9f96517d4d937",
   "metadata": {},
   "source": [
    "from topquartile.modules.datamodule.dataloader import DataLoader\n",
    "from topquartile.modules.datamodule.transforms.covariate import (TechnicalCovariateTransform, FundamentalCovariateTransform)\n",
    "from topquartile.modules.datamodule.transforms.label import BinaryLabelTransform\n",
    "from topquartile.modules.datamodule.partitions import PurgedTimeSeriesPartition"
   ],
   "outputs": [],
   "execution_count": null
  },
  {
   "cell_type": "code",
   "id": "8b25bf420c4464fe",
   "metadata": {},
   "source": [
    "covtrans_config = [((TechnicalCovariateTransform, dict(sma = [20, 30],\n",
    "                                                       ema = [20, 30],\n",
    "                                                       momentum_change=True,\n",
    "                                                       volatility = [20, 30],)))]\n",
    "\n",
    "labeltrans_config = [(BinaryLabelTransform, dict(label_duration=20,\n",
    "                                                quantile=0.75))]\n",
    "\n",
    "partition_config = dict(n_splits=5, gap=20, max_train_size=504, test_size=60, verbose=False)"
   ],
   "outputs": [],
   "execution_count": null
  },
  {
   "cell_type": "code",
   "id": "d624a6cb4141f804",
   "metadata": {},
   "source": [
    "dataloader = DataLoader(data_id='dec2024', covariate_transform=covtrans_config,\n",
    "                  label_transform=labeltrans_config, partition_class=PurgedTimeSeriesPartition,\n",
    "                  partition_kwargs=partition_config)"
   ],
   "outputs": [],
   "execution_count": null
  },
  {
   "cell_type": "code",
   "id": "c1ed226c46446222",
   "metadata": {},
   "source": [
    "folds = dataloader.get_cv_folds()"
   ],
   "outputs": [],
   "execution_count": null
  },
  {
   "cell_type": "code",
   "id": "b364281010945f2",
   "metadata": {},
   "source": [
    "train = folds[0][0]\n",
    "valid = folds[0][1]\n"
   ],
   "outputs": [],
   "execution_count": null
  },
  {
   "cell_type": "code",
   "id": "1b7804fe66baa661",
   "metadata": {},
   "source": [
    "train = train.dropna(how='any', inplace=False)\n",
    "valid = valid.dropna(how='any', inplace=False)\n",
    "\n",
    "train.drop('ticker', axis=1, inplace=True)\n",
    "valid.drop('ticker', axis=1, inplace=True)\n",
    "\n",
    "to_remove = ['INDEX_RETURN', 'EXCESS_RETURN', '20d_stock_return', 'label']"
   ],
   "outputs": [],
   "execution_count": null
  },
  {
   "cell_type": "code",
   "id": "67019773d8da29a8",
   "metadata": {},
   "source": [
    "train_label = train['EXCESS_RETURN']\n",
    "train_covariates = train.drop(to_remove, axis=1, inplace=False)"
   ],
   "outputs": [],
   "execution_count": null
  },
  {
   "cell_type": "code",
   "id": "44ed1e242b89a60c",
   "metadata": {},
   "source": [
    "valid_label = valid['EXCESS_RETURN']\n",
    "valid_covariates = valid.drop(to_remove, axis=1, inplace=False)"
   ],
   "outputs": [],
   "execution_count": null
  },
  {
   "cell_type": "code",
   "id": "2db3d87fe2ee2580",
   "metadata": {},
   "source": [
    "from quantile_forest import RandomForestQuantileRegressor\n",
    "qrf = RandomForestQuantileRegressor()\n",
    "qrf.fit(train_covariates.to_numpy(), train_label.to_numpy())\n",
    "y_pred = qrf.predict(valid_covariates.to_numpy(), quantiles=[0.025, 0.5, 0.975])"
   ],
   "outputs": [],
   "execution_count": null
  },
  {
   "cell_type": "code",
   "id": "930a2d410a4bd2eb",
   "metadata": {},
   "source": [
    "y_pred"
   ],
   "outputs": [],
   "execution_count": null
  },
  {
   "cell_type": "markdown",
   "id": "93fd921b",
   "metadata": {},
   "source": [
    "## Evaluation"
   ]
  },
  {
   "cell_type": "code",
   "id": "849e2f40",
   "metadata": {},
   "source": [
    "import pandas as pd\n",
    "import numpy as np\n",
    "\n",
    "# y_pred: shape (n_samples, 3) with quantiles [0.025, 0.5, 0.975]\n",
    "df = pd.DataFrame(y_pred, columns=['q025', 'q50', 'q975'])\n",
    "\n",
    "# Risk = width of the prediction interval\n",
    "df['risk'] = df['q975'] - df['q025']\n",
    "df['sharpe'] = df['q50'] / df['risk']\n",
    "\n",
    "# Remove invalid values (Inf, NaN, near-zero risk)\n",
    "df = df.replace([np.inf, -np.inf], np.nan).dropna()\n",
    "df = df[df['risk'] > 1e-6]  # Only keep non-zero risk samples\n",
    "\n",
    "# Summary statistics\n",
    "print(\"Sharpe-like score summary:\")\n",
    "print(df['sharpe'].describe())\n",
    "\n",
    "# Extract samples with high Sharpe-like scores (e.g., top 10%)\n",
    "top_sharpes = df[df['sharpe'] > df['sharpe'].quantile(0.9)]\n",
    "print(f\"Top {len(top_sharpes)} samples with high Sharpe-like scores\")\n"
   ],
   "outputs": [],
   "execution_count": null
  },
  {
   "cell_type": "markdown",
   "id": "c1add253",
   "metadata": {},
   "source": [
    "## Optimazation　using parameters same as the paper"
   ]
  },
  {
   "cell_type": "code",
   "id": "58146d351b52cd61",
   "metadata": {},
   "source": [
    "import optuna\n",
    "import numpy as np\n",
    "import pandas as pd\n",
    "from sklearn.metrics import mean_absolute_error\n",
    "from quantile_forest import RandomForestQuantileRegressor\n",
    "\n",
    "# Preloaded and preprocessed data\n",
    "X_train = train_covariates.to_numpy()\n",
    "y_train = train_label.to_numpy()\n",
    "X_valid = valid_covariates.to_numpy()\n",
    "y_valid = valid_label.to_numpy()\n",
    "\n",
    "def objective(trial):\n",
    "    n_estimators = trial.suggest_int('n_estimators', 300, 600, step=100)\n",
    "    min_samples_leaf = trial.suggest_int('min_samples_leaf', 5, 15)\n",
    "    max_features = trial.suggest_float('max_features', 0.3, 0.7)\n",
    "\n",
    "    model = RandomForestQuantileRegressor(\n",
    "        n_estimators=n_estimators,\n",
    "        min_samples_leaf=min_samples_leaf,\n",
    "        max_features=max_features,\n",
    "        n_jobs=-1,\n",
    "        random_state=42\n",
    "    )\n",
    "\n",
    "    # Train on a smaller subset to reduce time\n",
    "    subset = slice(0, int(len(X_train) * 0.5))  # 50% of training data\n",
    "    model.fit(X_train[subset], y_train[subset])\n",
    "    y_pred = model.predict(X_valid, quantiles=[0.025, 0.5, 0.975])\n",
    "\n",
    "    df = pd.DataFrame(y_pred, columns=['q025', 'q50', 'q975'])\n",
    "    df['y_true'] = y_valid\n",
    "    df['risk'] = df['q975'] - df['q025']\n",
    "    df = df.replace([np.inf, -np.inf], np.nan).dropna()\n",
    "    df = df[df['risk'] > 1e-6]\n",
    "\n",
    "    if df.empty:\n",
    "        return -np.inf\n",
    "\n",
    "    df['sharpe'] = df['q50'] / df['risk']\n",
    "    df['covered'] = ((df['y_true'] >= df['q025']) & (df['y_true'] <= df['q975'])).astype(int)\n",
    "\n",
    "    mae = mean_absolute_error(df['y_true'], df['q50'])\n",
    "    sharpe_median = df['sharpe'].median()\n",
    "    coverage = df['covered'].mean()\n",
    "\n",
    "    score = sharpe_median + (2 * coverage) - (0.05 * mae)\n",
    "    return score\n",
    "\n",
    "# Optimization\n",
    "study = optuna.create_study(direction='maximize')\n",
    "study.optimize(objective, n_trials=20, timeout=600)\n",
    "\n",
    "print(\"Best trial params:\", study.best_trial.params)\n",
    "print(\"Best score:\", study.best_value)\n"
   ],
   "outputs": [],
   "execution_count": null
  }
 ],
 "metadata": {
  "kernelspec": {
   "display_name": "topq",
   "language": "python",
   "name": "python3"
  },
  "language_info": {
   "codemirror_mode": {
    "name": "ipython",
    "version": 3
   },
   "file_extension": ".py",
   "mimetype": "text/x-python",
   "name": "python",
   "nbconvert_exporter": "python",
   "pygments_lexer": "ipython3",
   "version": "3.13.3"
  }
 },
 "nbformat": 4,
 "nbformat_minor": 5
}
