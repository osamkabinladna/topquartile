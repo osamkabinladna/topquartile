{
 "cells": [
  {
   "metadata": {
    "ExecuteTime": {
     "end_time": "2025-05-23T08:08:58.039913Z",
     "start_time": "2025-05-23T08:08:58.036661Z"
    }
   },
   "cell_type": "code",
   "source": [
    "# Run only if you have errors loading the topquartile module\n",
    "\n",
    "from pathlib import Path\n",
    "import sys\n",
    "\n",
    "root = Path().resolve().parent.parent.parent.parent\n",
    "sys.path.append(root)"
   ],
   "id": "1e3123d2e53b6765",
   "outputs": [],
   "execution_count": 2
  },
  {
   "metadata": {
    "ExecuteTime": {
     "end_time": "2025-05-23T08:08:58.149524Z",
     "start_time": "2025-05-23T08:08:58.145509Z"
    }
   },
   "cell_type": "code",
   "source": [
    "from topquartile.modules.datamodule.dataloader import DataLoader\n",
    "from topquartile.modules.datamodule.transforms.covariate import (TechnicalCovariateTransform, FundamentalCovariateTransform)\n",
    "from topquartile.modules.datamodule.transforms.label import BinaryLabelTransform\n",
    "from topquartile.modules.datamodule.partitions import PurgedTimeSeriesPartition"
   ],
   "id": "5ca9f96517d4d937",
   "outputs": [],
   "execution_count": 3
  },
  {
   "metadata": {
    "ExecuteTime": {
     "end_time": "2025-05-23T08:08:58.412663Z",
     "start_time": "2025-05-23T08:08:58.409556Z"
    }
   },
   "cell_type": "code",
   "source": [
    "covtrans_config = [((TechnicalCovariateTransform, dict(sma = [20, 30],\n",
    "                                                       ema = [20, 30],\n",
    "                                                       momentum_change=True,\n",
    "                                                       volatility = [20, 30],)))]\n",
    "\n",
    "labeltrans_config = [(BinaryLabelTransform, dict(label_duration=20,\n",
    "                                                quantile=0.75))]\n",
    "\n",
    "partition_config = dict(n_splits=5, gap=20, max_train_size=504, test_size=60, verbose=False)"
   ],
   "id": "8b25bf420c4464fe",
   "outputs": [],
   "execution_count": 4
  },
  {
   "metadata": {
    "ExecuteTime": {
     "end_time": "2025-05-23T08:08:58.695105Z",
     "start_time": "2025-05-23T08:08:58.692636Z"
    }
   },
   "cell_type": "code",
   "source": [
    "dataloader = DataLoader(data_id='dec2024', covariate_transform=covtrans_config,\n",
    "                  label_transform=labeltrans_config, partition_class=PurgedTimeSeriesPartition,\n",
    "                  partition_params=partition_config)"
   ],
   "id": "151b38159395a663",
   "outputs": [],
   "execution_count": 5
  },
  {
   "metadata": {
    "ExecuteTime": {
     "end_time": "2025-05-23T08:09:07.180473Z",
     "start_time": "2025-05-23T08:08:58.877339Z"
    }
   },
   "cell_type": "code",
   "source": "folds = dataloader.get_cv_folds()",
   "id": "3de5a49ab673d84",
   "outputs": [
    {
     "name": "stdout",
     "output_type": "stream",
     "text": [
      "Data not yet processed. Processing now...\n",
      "Reading data from: /Users/gregruyoga/gmoneycodes/topquartile/topquartile/data/dec2024.csv\n",
      "Found 342 raw ticker names.\n",
      " Applying TechnicalCovariateTransform with params {'sma': [20, 30], 'ema': [20, 30], 'momentum_change': True, 'volatility': [20, 30]}\n",
      " Applying BinaryLabelTransform with params {'label_duration': 20, 'quantile': 0.75} (globally)\n"
     ]
    },
    {
     "name": "stderr",
     "output_type": "stream",
     "text": [
      "/Users/gregruyoga/gmoneycodes/topquartile/topquartile/modules/datamodule/transforms/label.py:171: FutureWarning: The default of observed=False is deprecated and will be changed to True in a future version of pandas. Pass observed=False to retain current behavior or observed=True to adopt the future default and silence this warning.\n",
      "  df_copy.groupby(level=self.ticker_level_name, group_keys=False)[self.price_column]\n"
     ]
    },
    {
     "name": "stdout",
     "output_type": "stream",
     "text": [
      "Warning: 510 NaN values found in index returns after aligning to DataFrame dates. \n",
      "Imputing/dropping columns based on missingness...\n",
      " Columns with missingness > threshold (41159): ['EQY_DVD_YLD_IND', 'PX_HIGH', 'PX_LOW', 'RETURN_COM_EQY', 'PX_TO_BOOK_RATIO', 'NEWS_SENTIMENT_DAILY_AVG', 'VWAP_VOLUME', 'EQY_WEIGHTED_AVG_PX', 'CUR_MKT_CAP', 'PE_RATIO', 'PX_TO_SALES_RATIO', 'OPERATING_ROIC', 'SALES_GROWTH', 'EPS_GROWTH', 'RSI_30D', 'RSI_3D', 'DEBT_TO_MKT_CAP', 'EARN_YLD', 'TURNOVER', 'TRAIL_12M_NET_INC_GROWTH', 'sma_20', 'sma_30', 'ema_20', 'ema_30', 'volatility_20', 'volatility_30', 'roc_126', 'momentum_change', '20d_stock_return', 'INDEX_RETURN', 'EXCESS_RETURN', 'label']\n",
      " Explicitly dropping columns: ['NEWS_SENTIMENT_DAILY_AVG']\n",
      " Final columns to drop: ['TURNOVER', '20d_stock_return', 'INDEX_RETURN', 'PX_HIGH', 'TRAIL_12M_NET_INC_GROWTH', 'EARN_YLD', 'label', 'RETURN_COM_EQY', 'CUR_MKT_CAP', 'RSI_3D', 'EQY_DVD_YLD_IND', 'VWAP_VOLUME', 'roc_126', 'ema_30', 'RSI_30D', 'sma_20', 'EPS_GROWTH', 'EXCESS_RETURN', 'PX_TO_SALES_RATIO', 'ema_20', 'PX_TO_BOOK_RATIO', 'SALES_GROWTH', 'momentum_change', 'sma_30', 'volatility_20', 'volatility_30', 'PX_LOW', 'DEBT_TO_MKT_CAP', 'OPERATING_ROIC', 'PE_RATIO', 'EQY_WEIGHTED_AVG_PX', 'NEWS_SENTIMENT_DAILY_AVG']\n",
      "Data shape after dropping columns: (322502, 7)\n",
      "Data processing complete.\n",
      "Partitioning data using PurgedTimeSeriesPartition for 5 splits across 113 tickers.\n",
      "Fold 0: Train shape (56952, 7), Test shape (6780, 7)\n",
      "Fold 1: Train shape (56952, 7), Test shape (6780, 7)\n",
      "Fold 2: Train shape (56952, 7), Test shape (6780, 7)\n",
      "Fold 3: Train shape (56952, 7), Test shape (6780, 7)\n",
      "Fold 4: Train shape (56952, 7), Test shape (6780, 7)\n",
      "Partitioning complete. Generated 5 CV folds.\n"
     ]
    },
    {
     "name": "stderr",
     "output_type": "stream",
     "text": [
      "/Users/gregruyoga/gmoneycodes/topquartile/topquartile/modules/datamodule/dataloader.py:339: FutureWarning: The default of observed=False is deprecated and will be changed to True in a future version of pandas. Pass observed=False to retain current behavior or observed=True to adopt the future default and silence this warning.\n",
      "  data_grouped_by_ticker = self.data.groupby(\"ticker\")\n"
     ]
    }
   ],
   "execution_count": 6
  },
  {
   "metadata": {
    "ExecuteTime": {
     "end_time": "2025-05-23T08:11:59.793528Z",
     "start_time": "2025-05-23T08:11:59.782311Z"
    }
   },
   "cell_type": "code",
   "source": "folds[0][1].columns",
   "id": "5b0bc5cadf96370b",
   "outputs": [
    {
     "data": {
      "text/plain": [
       "Index(['NEWS_HEAT_PUB_DAVG', 'TOT_DEBT_TO_TOT_EQY', 'PROF_MARGIN',\n",
       "       'OPER_MARGIN', 'WACC', 'PX_LAST', 'ticker'],\n",
       "      dtype='object')"
      ]
     },
     "execution_count": 10,
     "metadata": {},
     "output_type": "execute_result"
    }
   ],
   "execution_count": 10
  },
  {
   "metadata": {
    "ExecuteTime": {
     "end_time": "2025-05-23T08:09:07.291123Z",
     "start_time": "2025-05-23T08:09:07.287344Z"
    }
   },
   "cell_type": "code",
   "source": "",
   "id": "bacf576c6428fc40",
   "outputs": [],
   "execution_count": null
  },
  {
   "metadata": {},
   "cell_type": "code",
   "outputs": [],
   "execution_count": null,
   "source": "",
   "id": "89ec91015e4dd958"
  }
 ],
 "metadata": {
  "kernelspec": {
   "display_name": "Python 3",
   "language": "python",
   "name": "python3"
  },
  "language_info": {
   "codemirror_mode": {
    "name": "ipython",
    "version": 2
   },
   "file_extension": ".py",
   "mimetype": "text/x-python",
   "name": "python",
   "nbconvert_exporter": "python",
   "pygments_lexer": "ipython2",
   "version": "2.7.6"
  }
 },
 "nbformat": 4,
 "nbformat_minor": 5
}
