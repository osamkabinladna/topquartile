{
 "cells": [
  {
   "cell_type": "code",
   "id": "initial_id",
   "metadata": {
    "collapsed": true,
    "ExecuteTime": {
     "end_time": "2025-05-27T18:10:23.841360Z",
     "start_time": "2025-05-27T18:10:22.672640Z"
    }
   },
   "source": [
    "import pandas as pd\n",
    "import numpy as np\n",
    "from topquartile.modules.datamodule.dataloader import DataLoader\n",
    "from topquartile.modules.datamodule.transforms.covariate import (TechnicalCovariateTransform, FundamentalCovariateTransform)\n",
    "from topquartile.modules.datamodule.transforms.label import BinaryLabelTransform, ExcessReturnTransform\n",
    "from topquartile.modules.datamodule.partitions import PurgedTimeSeriesPartition\n",
    "from topquartile.modules.evaluation import Evaluation"
   ],
   "outputs": [],
   "execution_count": 1
  },
  {
   "metadata": {
    "ExecuteTime": {
     "end_time": "2025-05-27T18:10:37.628121Z",
     "start_time": "2025-05-27T18:10:37.620362Z"
    }
   },
   "cell_type": "code",
   "source": [
    "covtrans_config = [((TechnicalCovariateTransform, dict(sma = [20, 30],\n",
    "                                                       ema = [20, 30],\n",
    "                                                       momentum_change=True,\n",
    "                                                       volatility = [20, 30],)))]\n",
    "\n",
    "labeltrans_config = [(ExcessReturnTransform, dict(label_duration=20))]\n",
    "\n",
    "partition_config = dict(n_splits=5, gap=20, max_train_size=504, test_size=60, verbose=False)\n",
    "\n",
    "dataloader = DataLoader(data_id='covariates_may2025v2', covariate_transform=covtrans_config,\n",
    "                  label_transform=labeltrans_config, partition_class=PurgedTimeSeriesPartition,\n",
    "                  partition_kwargs=partition_config)"
   ],
   "id": "990eed1b95e5a208",
   "outputs": [],
   "execution_count": 4
  },
  {
   "metadata": {
    "ExecuteTime": {
     "end_time": "2025-05-27T18:10:38.855166Z",
     "start_time": "2025-05-27T18:10:38.039208Z"
    }
   },
   "cell_type": "code",
   "source": "data = dataloader.transform_covariates()",
   "id": "dbcb7f2060e35611",
   "outputs": [
    {
     "name": "stdout",
     "output_type": "stream",
     "text": [
      "Reading data from: /Users/gregruyoga/gmoneycodes/topquartile/topquartile/data/covariates_may2025v2.csv\n",
      "Found 134 raw ticker names.\n",
      " Applying TechnicalCovariateTransform with params {'sma': [20, 30], 'ema': [20, 30], 'momentum_change': True, 'volatility': [20, 30]}\n",
      "THIS IS COLUMNS Index(['TOTAL_EQUITY', 'BOOK_VAL_PER_SH', 'REVENUE_PER_SH', 'RETURN_COM_EQY',\n",
      "       'CUR_MKT_CAP', 'PX_LAST', 'TOT_DEBT_TO_TOT_ASSET',\n",
      "       'TOT_DEBT_TO_TOT_EQY', 'BS_TOT_LIAB2', 'BS_TOT_ASSET', 'IS_EPS',\n",
      "       'PX_HIGH', 'PX_LOW', 'PX_CLOSE_1D', 'PX_VOLUME', 'TURNOVER', 'ticker',\n",
      "       'DVD_SH_12M'],\n",
      "      dtype='object')\n",
      "Applying label transformations globally to the dataset (before partitioning).\n",
      " Applying ExcessReturnTransform with params {'label_duration': 20} (globally)\n"
     ]
    }
   ],
   "execution_count": 5
  },
  {
   "metadata": {
    "ExecuteTime": {
     "end_time": "2025-05-27T18:42:28.595681Z",
     "start_time": "2025-05-27T18:42:28.560043Z"
    }
   },
   "cell_type": "code",
   "source": "data.index",
   "id": "b97b363aaf7ee91a",
   "outputs": [
    {
     "data": {
      "text/plain": [
       "MultiIndex([('ADHI', '2015-01-05'),\n",
       "            ('ADHI', '2015-01-06'),\n",
       "            ('ADHI', '2015-01-07'),\n",
       "            ('ADHI', '2015-01-09'),\n",
       "            ('ADHI', '2015-01-10'),\n",
       "            ('ADHI', '2015-01-12'),\n",
       "            ('ADHI', '2015-02-06'),\n",
       "            ('ADHI', '2015-02-07'),\n",
       "            ('ADHI', '2015-02-09'),\n",
       "            ('ADHI', '2015-02-10'),\n",
       "            ...\n",
       "            ('UNVR', '2025-10-01'),\n",
       "            ('UNVR', '2025-10-02'),\n",
       "            ('UNVR', '2025-10-03'),\n",
       "            ('UNVR', '2025-10-04'),\n",
       "            ('UNVR', '2025-11-02'),\n",
       "            ('UNVR', '2025-11-03'),\n",
       "            ('UNVR', '2025-11-04'),\n",
       "            ('UNVR', '2025-12-02'),\n",
       "            ('UNVR', '2025-12-03'),\n",
       "            ('UNVR', '2025-12-05')],\n",
       "           names=['ticker', 'Dates'], length=223635)"
      ]
     },
     "execution_count": 24,
     "metadata": {},
     "output_type": "execute_result"
    }
   ],
   "execution_count": 24
  },
  {
   "metadata": {
    "ExecuteTime": {
     "end_time": "2025-05-27T18:29:47.061755Z",
     "start_time": "2025-05-27T18:29:47.052543Z"
    }
   },
   "cell_type": "code",
   "source": "ihsg.index = pd.to_datetime(ihsg.index)",
   "id": "b7e45f071082ef7e",
   "outputs": [],
   "execution_count": 17
  },
  {
   "metadata": {
    "ExecuteTime": {
     "end_time": "2025-05-27T18:30:02.129361Z",
     "start_time": "2025-05-27T18:30:02.116209Z"
    }
   },
   "cell_type": "code",
   "source": "ihsg.index",
   "id": "ca54384a9eca0058",
   "outputs": [
    {
     "data": {
      "text/plain": [
       "DatetimeIndex(['2015-04-27', '2015-04-28', '2015-04-29', '2015-04-30',\n",
       "               '2015-01-05', '2015-04-05', '2015-05-05', '2015-06-05',\n",
       "               '2015-07-05', '2015-08-05',\n",
       "               ...\n",
       "               '2025-05-13', '2025-05-14', '2025-05-15', '2025-05-16',\n",
       "               '2025-05-19', '2025-05-20', '2025-05-21', '2025-05-22',\n",
       "               '2025-05-23', '2025-05-26'],\n",
       "              dtype='datetime64[ns]', name='Dates', length=2631, freq=None)"
      ]
     },
     "execution_count": 18,
     "metadata": {},
     "output_type": "execute_result"
    }
   ],
   "execution_count": 18
  },
  {
   "metadata": {},
   "cell_type": "code",
   "source": [
    "ffill_features = ['TOTAL_EQUITY', 'BOOK_VAL_PER_SH', 'REVENUE_PER_SH', 'RETURN_COM_EQY', 'TOT_DEBT_TO_TOT_ASSET', 'TOT_DEBT_TO_TOT_EQY', 'BS_TOT_LIAB2',\n",
    "                  'BS_TOT_ASSET', 'IS_EPS']"
   ],
   "id": "93f9956c9e099f22",
   "outputs": [],
   "execution_count": null
  },
  {
   "metadata": {
    "ExecuteTime": {
     "end_time": "2025-05-27T18:28:39.809747Z",
     "start_time": "2025-05-27T18:28:39.790237Z"
    }
   },
   "cell_type": "code",
   "source": "ihsg = pd.read_csv(dataloader.covariates_path.parent / 'ihsg_may2025.csv', index_col=0)",
   "id": "68b38dc54835e991",
   "outputs": [],
   "execution_count": 13
  },
  {
   "metadata": {},
   "cell_type": "code",
   "source": "ihsg",
   "id": "b56c8e4772e5fcf7",
   "outputs": [],
   "execution_count": null
  },
  {
   "metadata": {},
   "cell_type": "code",
   "source": [
    "def _calculate_returns(self, series: pd.Series) -> pd.Series:\n",
    "    future_price = series.shift(-self.label_duration)\n",
    "    returns = ((future_price - series) / series) * 100\n",
    "    return returns"
   ],
   "id": "e1ccd88d1d665549",
   "outputs": [],
   "execution_count": null
  },
  {
   "metadata": {},
   "cell_type": "code",
   "source": [
    "label_duration = 20\n",
    "bbca = data[data['ticker']=='BBCA']\n",
    "ihsg[f'{label_duration}dayret'] ="
   ],
   "id": "a5f800cb246f6ca0",
   "outputs": [],
   "execution_count": null
  },
  {
   "metadata": {
    "SqlCellData": {
     "variableName$1": "df_sql1"
    }
   },
   "cell_type": "code",
   "source": "%%sql\n",
   "id": "d57c7bd33d1c956",
   "outputs": [],
   "execution_count": null
  },
  {
   "metadata": {},
   "cell_type": "code",
   "source": "bbca",
   "id": "dffc1d226a017fa0",
   "outputs": [],
   "execution_count": null
  },
  {
   "metadata": {},
   "cell_type": "code",
   "source": "",
   "id": "d455ba2a3e21e59b",
   "outputs": [],
   "execution_count": null
  }
 ],
 "metadata": {
  "kernelspec": {
   "display_name": "Python 3",
   "language": "python",
   "name": "python3"
  },
  "language_info": {
   "codemirror_mode": {
    "name": "ipython",
    "version": 2
   },
   "file_extension": ".py",
   "mimetype": "text/x-python",
   "name": "python",
   "nbconvert_exporter": "python",
   "pygments_lexer": "ipython2",
   "version": "2.7.6"
  }
 },
 "nbformat": 4,
 "nbformat_minor": 5
}
