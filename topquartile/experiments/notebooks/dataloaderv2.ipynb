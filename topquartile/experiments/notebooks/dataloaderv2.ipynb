{
 "cells": [
  {
   "cell_type": "code",
   "id": "initial_id",
   "metadata": {
    "collapsed": true,
    "ExecuteTime": {
     "end_time": "2025-05-27T20:40:02.400610Z",
     "start_time": "2025-05-27T20:40:00.789679Z"
    }
   },
   "source": [
    "import pandas as pd\n",
    "import numpy as np\n",
    "from topquartile.modules.datamodule.dataloader import DataLoader\n",
    "from topquartile.modules.datamodule.transforms.covariate import (TechnicalCovariateTransform, FundamentalCovariateTransform)\n",
    "from topquartile.modules.datamodule.transforms.label import BinaryLabelTransform, ExcessReturnTransform, NaryLabelTransform\n",
    "from topquartile.modules.datamodule.partitions import PurgedTimeSeriesPartition\n",
    "from topquartile.modules.evaluation import Evaluation"
   ],
   "outputs": [],
   "execution_count": 1
  },
  {
   "metadata": {
    "ExecuteTime": {
     "end_time": "2025-05-27T20:40:02.448488Z",
     "start_time": "2025-05-27T20:40:02.445259Z"
    }
   },
   "cell_type": "code",
   "source": [
    "covtrans_config = [((TechnicalCovariateTransform, dict(sma = [20, 30],\n",
    "                                                       ema = [20, 30],\n",
    "                                                       momentum_change=True,\n",
    "                                                       volatility = [20, 30],)))]\n",
    "\n",
    "labeltrans_config = [(BinaryLabelTransform, dict(label_duration=20, quantile=0.25))]\n",
    "\n",
    "partition_config = dict(n_splits=5, gap=20, max_train_size=504, test_size=60, verbose=False)\n",
    "\n",
    "dataloader = DataLoader(data_id='covariates_may2025v2', covariate_transform=covtrans_config,\n",
    "                  label_transform=labeltrans_config, partition_class=PurgedTimeSeriesPartition,\n",
    "                  partition_kwargs=partition_config)"
   ],
   "id": "990eed1b95e5a208",
   "outputs": [],
   "execution_count": 2
  },
  {
   "metadata": {
    "ExecuteTime": {
     "end_time": "2025-05-27T20:40:03.767307Z",
     "start_time": "2025-05-27T20:40:02.463034Z"
    }
   },
   "cell_type": "code",
   "source": "data = dataloader._partition_data()",
   "id": "dbcb7f2060e35611",
   "outputs": [
    {
     "name": "stdout",
     "output_type": "stream",
     "text": [
      "Data not available for partitioning. Attempting to process...\n",
      "Reading data from: /Users/gregruyoga/gmoneycodes/topquartile/topquartile/data/covariates_may2025v2.csv\n",
      "Found 134 raw ticker names.\n",
      " Applying TechnicalCovariateTransform with params {'sma': [20, 30], 'ema': [20, 30], 'momentum_change': True, 'volatility': [20, 30]}\n",
      "THIS IS COLUMNS Index(['TOTAL_EQUITY', 'BOOK_VAL_PER_SH', 'REVENUE_PER_SH', 'RETURN_COM_EQY',\n",
      "       'CUR_MKT_CAP', 'PX_LAST', 'TOT_DEBT_TO_TOT_ASSET',\n",
      "       'TOT_DEBT_TO_TOT_EQY', 'BS_TOT_LIAB2', 'BS_TOT_ASSET', 'IS_EPS',\n",
      "       'PX_HIGH', 'PX_LOW', 'PX_CLOSE_1D', 'PX_VOLUME', 'TURNOVER', 'ticker',\n",
      "       'DVD_SH_12M'],\n",
      "      dtype='object')\n",
      "Applying label transformations globally to the dataset (before partitioning).\n",
      " Applying BinaryLabelTransform with params {'label_duration': 20, 'quantile': 0.25} (globally)\n",
      "Warning: DataFrame is not MultiIndexed by 'DateIndex'. \n",
      "Data processing complete.\n",
      "Partitioning data using PurgedTimeSeriesPartition for 5 splits across 85 tickers.\n"
     ]
    },
    {
     "name": "stderr",
     "output_type": "stream",
     "text": [
      "/Users/gregruyoga/gmoneycodes/topquartile/topquartile/modules/datamodule/transforms/label.py:51: UserWarning: Could not infer format, so each element will be parsed individually, falling back to `dateutil`. To ensure parsing is consistent and as-expected, please specify a format.\n",
      "  self.ihsg.index = pd.to_datetime(self.ihsg.index)\n",
      "/Users/gregruyoga/gmoneycodes/topquartile/topquartile/modules/datamodule/dataloader.py:317: FutureWarning: The default of observed=False is deprecated and will be changed to True in a future version of pandas. Pass observed=False to retain current behavior or observed=True to adopt the future default and silence this warning.\n",
      "  data_grouped_by_ticker = self.data.groupby(level=\"TickerIndex\")\n"
     ]
    },
    {
     "name": "stdout",
     "output_type": "stream",
     "text": [
      "Fold 0: Train shape (42840, 30), Test shape (5100, 30)\n",
      "Fold 1: Train shape (42840, 30), Test shape (5100, 30)\n",
      "Fold 2: Train shape (42840, 30), Test shape (5100, 30)\n",
      "Fold 3: Train shape (42840, 30), Test shape (5100, 30)\n",
      "Fold 4: Train shape (42840, 30), Test shape (5100, 30)\n",
      "Partitioning complete. Generated 5 CV folds.\n"
     ]
    }
   ],
   "execution_count": 3
  },
  {
   "metadata": {
    "ExecuteTime": {
     "end_time": "2025-05-27T20:44:29.743270Z",
     "start_time": "2025-05-27T20:44:29.726103Z"
    }
   },
   "cell_type": "code",
   "source": [
    "fold = pd.concat(data[4], axis=0)\n",
    "fold['label'].value_counts(normalize=True)"
   ],
   "id": "b97b363aaf7ee91a",
   "outputs": [
    {
     "data": {
      "text/plain": [
       "label\n",
       "1    0.755582\n",
       "0    0.244418\n",
       "Name: proportion, dtype: Float64"
      ]
     },
     "execution_count": 14,
     "metadata": {},
     "output_type": "execute_result"
    }
   ],
   "execution_count": 14
  },
  {
   "metadata": {},
   "cell_type": "code",
   "source": [
    "ffill_features = ['TOTAL_EQUITY', 'BOOK_VAL_PER_SH', 'REVENUE_PER_SH', 'RETURN_COM_EQY', 'TOT_DEBT_TO_TOT_ASSET', 'TOT_DEBT_TO_TOT_EQY', 'BS_TOT_LIAB2',\n",
    "                  'BS_TOT_ASSET', 'IS_EPS']"
   ],
   "id": "93f9956c9e099f22",
   "outputs": [],
   "execution_count": null
  },
  {
   "metadata": {},
   "cell_type": "code",
   "source": "ihsg = pd.read_csv(dataloader.covariates_path.parent / 'ihsg_may2025.csv', index_col=0)",
   "id": "68b38dc54835e991",
   "outputs": [],
   "execution_count": null
  },
  {
   "metadata": {},
   "cell_type": "code",
   "source": "ihsg",
   "id": "b56c8e4772e5fcf7",
   "outputs": [],
   "execution_count": null
  },
  {
   "metadata": {},
   "cell_type": "code",
   "source": [
    "def _calculate_returns(self, series: pd.Series) -> pd.Series:\n",
    "    future_price = series.shift(-self.label_duration)\n",
    "    returns = ((future_price - series) / series) * 100\n",
    "    return returns"
   ],
   "id": "e1ccd88d1d665549",
   "outputs": [],
   "execution_count": null
  },
  {
   "metadata": {},
   "cell_type": "code",
   "source": [
    "label_duration = 20\n",
    "bbca = data[data['ticker']=='BBCA']\n",
    "ihsg[f'{label_duration}dayret'] ="
   ],
   "id": "a5f800cb246f6ca0",
   "outputs": [],
   "execution_count": null
  },
  {
   "metadata": {
    "SqlCellData": {
     "variableName$1": "df_sql1"
    }
   },
   "cell_type": "code",
   "source": "%%sql\n",
   "id": "d57c7bd33d1c956",
   "execution_count": null,
   "outputs": []
  },
  {
   "metadata": {},
   "cell_type": "code",
   "source": "bbca",
   "id": "dffc1d226a017fa0",
   "outputs": [],
   "execution_count": null
  },
  {
   "metadata": {},
   "cell_type": "code",
   "source": "",
   "id": "d455ba2a3e21e59b",
   "outputs": [],
   "execution_count": null
  }
 ],
 "metadata": {
  "kernelspec": {
   "display_name": "Python 3",
   "language": "python",
   "name": "python3"
  },
  "language_info": {
   "codemirror_mode": {
    "name": "ipython",
    "version": 2
   },
   "file_extension": ".py",
   "mimetype": "text/x-python",
   "name": "python",
   "nbconvert_exporter": "python",
   "pygments_lexer": "ipython2",
   "version": "2.7.6"
  }
 },
 "nbformat": 4,
 "nbformat_minor": 5
}
