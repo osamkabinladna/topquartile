{
 "cells": [
  {
   "cell_type": "code",
   "id": "initial_id",
   "metadata": {
    "collapsed": true,
    "ExecuteTime": {
     "end_time": "2025-06-01T11:41:45.350655Z",
     "start_time": "2025-06-01T11:41:44.226269Z"
    }
   },
   "source": [
    "import pandas as pd\n",
    "import numpy as np\n",
    "from topquartile.modules.datamodule.dataloader import DataLoader\n",
    "from topquartile.modules.datamodule.transforms.covariate import (TechnicalCovariateTransform, FundamentalCovariateTransform)\n",
    "from topquartile.modules.datamodule.transforms.label import BinaryLabelTransform, ExcessReturnTransform, NaryLabelTransform\n",
    "from topquartile.modules.datamodule.partitions import PurgedTimeSeriesPartition\n",
    "from topquartile.modules.evaluation import Evaluation\n",
    "from pathlib import Path\n",
    "\n",
    "root_dir = Path().resolve().parent.parent"
   ],
   "outputs": [],
   "execution_count": 1
  },
  {
   "metadata": {
    "ExecuteTime": {
     "end_time": "2025-06-01T12:06:12.083712Z",
     "start_time": "2025-06-01T12:06:07.180876Z"
    }
   },
   "cell_type": "code",
   "source": [
    "LABEL_DURATION = 20\n",
    "\n",
    "covtrans_config = [(\n",
    "    TechnicalCovariateTransform,\n",
    "    dict(\n",
    "        sma=[20, 40, 60],\n",
    "        ema=[20, 40, 60],\n",
    "        turnover=[20, 40, 60, 120, 240],\n",
    "        macd=[(12, 26, 9)],\n",
    "        price_gap=[20, 40, 60],\n",
    "        price_ratio=[9, 19, 39, 59, 119],\n",
    "        acceleration_rate=True,\n",
    "        volatility=[10, 20, 40, 60, 120],\n",
    "        volume_std=[10, 20, 40, 60, 120],\n",
    "    ),\n",
    ")]\n",
    "\n",
    "labeltrans_config = [(ExcessReturnTransform, dict(label_duration=LABEL_DURATION,\n",
    "                                               index_csv='ihsg_may2025'))]\n",
    "\n",
    "partition_config   = dict(n_splits=5, gap=2, max_train_size=504, test_size=60)\n",
    "\n",
    "dataloader = DataLoader(\n",
    "    data_id=\"covariates_may2025v2\",\n",
    "    covariate_transform=covtrans_config,\n",
    "    label_transform=labeltrans_config,\n",
    "    partition_class=PurgedTimeSeriesPartition,\n",
    "    partition_kwargs=partition_config,\n",
    ")\n",
    "\n",
    "folds = dataloader.get_cv_folds()\n",
    "\n",
    "\n",
    "fold_concat = pd.concat(folds[0], axis=0)\n",
    "eval = Evaluation(df=fold_concat, n_train=252, n_valid=1)\n",
    "data = eval.partition_data()\n",
    "\n",
    "for i in range(252):\n",
    "    train = data[i][0]\n",
    "    preds = data[i][1]"
   ],
   "id": "990eed1b95e5a208",
   "outputs": [
    {
     "name": "stdout",
     "output_type": "stream",
     "text": [
      "Data not yet processed. Processing now...\n",
      "Reading data from: /Users/gregruyoga/gmoneycodes/topquartile/topquartile/data/covariates_may2025v2.csv\n",
      "Found 134 raw ticker names.\n",
      " Applying TechnicalCovariateTransform with params {'sma': [20, 40, 60], 'ema': [20, 40, 60], 'turnover': [20, 40, 60, 120, 240], 'macd': [(12, 26, 9)], 'price_gap': [20, 40, 60], 'price_ratio': [9, 19, 39, 59, 119], 'acceleration_rate': True, 'volatility': [10, 20, 40, 60, 120], 'volume_std': [10, 20, 40, 60, 120]}\n",
      "THIS IS COLUMNS Index(['TOTAL_EQUITY', 'BOOK_VAL_PER_SH', 'REVENUE_PER_SH', 'RETURN_COM_EQY',\n",
      "       'CUR_MKT_CAP', 'PX_LAST', 'TOT_DEBT_TO_TOT_ASSET',\n",
      "       'TOT_DEBT_TO_TOT_EQY', 'BS_TOT_LIAB2', 'BS_TOT_ASSET', 'IS_EPS',\n",
      "       'PX_HIGH', 'PX_LOW', 'PX_CLOSE_1D', 'PX_VOLUME', 'TURNOVER', 'ticker',\n",
      "       'DVD_SH_12M'],\n",
      "      dtype='object')\n",
      "Applying label transformations globally to the dataset (before partitioning).\n",
      " Applying ExcessReturnTransform with params {'label_duration': 20, 'index_csv': 'ihsg_may2025'} (globally)\n",
      "/Users/gregruyoga/gmoneycodes/topquartile/topquartile <class 'pathlib._local.PosixPath'>\n"
     ]
    },
    {
     "name": "stderr",
     "output_type": "stream",
     "text": [
      "/Users/gregruyoga/gmoneycodes/topquartile/topquartile/modules/datamodule/transforms/label.py:56: UserWarning: Could not infer format, so each element will be parsed individually, falling back to `dateutil`. To ensure parsing is consistent and as-expected, please specify a format.\n",
      "  self.ihsg.index = pd.to_datetime(self.ihsg.index)\n",
      "/Users/gregruyoga/gmoneycodes/topquartile/topquartile/modules/datamodule/dataloader.py:177: FutureWarning: errors='ignore' is deprecated and will raise in a future version. Use to_numeric without passing `errors` and catch exceptions explicitly instead\n",
      "  self.data = self.data.apply(pd.to_numeric, errors='ignore')\n"
     ]
    },
    {
     "name": "stdout",
     "output_type": "stream",
     "text": [
      "Data processing complete.\n",
      "Partitioning data using PurgedTimeSeriesPartition for 5 splits across 85 tickers.\n",
      "Fold 0: Train shape (42840, 66), Test shape (5100, 66)\n",
      "Fold 1: Train shape (42840, 66), Test shape (5100, 66)\n",
      "Fold 2: Train shape (42840, 66), Test shape (5100, 66)\n",
      "Fold 3: Train shape (42840, 66), Test shape (5100, 66)\n",
      "Fold 4: Train shape (42840, 66), Test shape (5100, 66)\n",
      "Partitioning complete. Generated 5 CV folds.\n"
     ]
    }
   ],
   "execution_count": 15
  },
  {
   "metadata": {
    "ExecuteTime": {
     "end_time": "2025-06-01T12:06:30.022504Z",
     "start_time": "2025-06-01T12:06:29.987533Z"
    }
   },
   "cell_type": "code",
   "source": "preds.index",
   "id": "5efa395577696cb7",
   "outputs": [
    {
     "data": {
      "text/plain": [
       "MultiIndex([('ADHI', '2024-03-28'),\n",
       "            ('ADMR', '2024-03-28'),\n",
       "            ('ADRO', '2024-03-28'),\n",
       "            ('AKRA', '2024-03-28'),\n",
       "            ('AMMN', '2024-03-28'),\n",
       "            ('AMRT', '2024-03-28'),\n",
       "            ('ANTM', '2024-03-28'),\n",
       "            ('ARTO', '2024-03-28'),\n",
       "            ('ASII', '2024-03-28'),\n",
       "            ('AUTO', '2024-03-28'),\n",
       "            ('AVIA', '2024-03-28'),\n",
       "            ('BBCA', '2024-03-28'),\n",
       "            ('BBNI', '2024-03-28'),\n",
       "            ('BBRI', '2024-03-28'),\n",
       "            ('BBTN', '2024-03-28'),\n",
       "            ('BBYB', '2024-03-28'),\n",
       "            ('BFIN', '2024-03-28'),\n",
       "            ('BIRD', '2024-03-28'),\n",
       "            ('BMRI', '2024-03-28'),\n",
       "            ('BNGA', '2024-03-28'),\n",
       "            ('BRIS', '2024-03-28'),\n",
       "            ('BRMS', '2024-03-28'),\n",
       "            ('BRPT', '2024-03-28'),\n",
       "            ('BSDE', '2024-03-28'),\n",
       "            ('BTPS', '2024-03-28'),\n",
       "            ('BUKA', '2024-03-28'),\n",
       "            ('CMRY', '2024-03-28'),\n",
       "            ('CPIN', '2024-03-28'),\n",
       "            ('CTRA', '2024-03-28'),\n",
       "            ('DSNG', '2024-03-28'),\n",
       "            ('ELSA', '2024-03-28'),\n",
       "            ('EMTK', '2024-03-28'),\n",
       "            ('ENRG', '2024-03-28'),\n",
       "            ('ERAA', '2024-03-28'),\n",
       "            ('ESSA', '2024-03-28'),\n",
       "            ('EXCL', '2024-03-28'),\n",
       "            ('GGRM', '2024-03-28'),\n",
       "            ('GJTL', '2024-03-28'),\n",
       "            ('GOTO', '2024-03-28'),\n",
       "            ('HEAL', '2024-03-28'),\n",
       "            ('HRUM', '2024-03-28'),\n",
       "            ('ICBP', '2024-03-28'),\n",
       "            ('INCO', '2024-03-28'),\n",
       "            ('INDF', '2024-03-28'),\n",
       "            ('INDY', '2024-03-28'),\n",
       "            ('INKP', '2024-03-28'),\n",
       "            ('INTP', '2024-03-28'),\n",
       "            ('ISAT', '2024-03-28'),\n",
       "            ('ITMG', '2024-03-28'),\n",
       "            ('JPFA', '2024-03-28'),\n",
       "            ('JSMR', '2024-03-28'),\n",
       "            ('KLBF', '2024-03-28'),\n",
       "            ('LSIP', '2024-03-28'),\n",
       "            ('MAPA', '2024-03-28'),\n",
       "            ('MAPI', '2024-03-28'),\n",
       "            ('MBMA', '2024-03-28'),\n",
       "            ('MDKA', '2024-03-28'),\n",
       "            ('MEDC', '2024-03-28'),\n",
       "            ('MIKA', '2024-03-28'),\n",
       "            ('MNCN', '2024-03-28'),\n",
       "            ('MTEL', '2024-03-28'),\n",
       "            ('MYOR', '2024-03-28'),\n",
       "            ('NCKL', '2024-03-28'),\n",
       "            ('NISP', '2024-03-28'),\n",
       "            ('PANI', '2024-03-28'),\n",
       "            ('PGAS', '2024-03-28'),\n",
       "            ('PGEO', '2024-03-28'),\n",
       "            ('PNLF', '2024-03-28'),\n",
       "            ('PTBA', '2024-03-28'),\n",
       "            ('PTPP', '2024-03-28'),\n",
       "            ('PWON', '2024-03-28'),\n",
       "            ('SCMA', '2024-03-28'),\n",
       "            ('SIDO', '2024-03-28'),\n",
       "            ('SILO', '2024-03-28'),\n",
       "            ('SMGR', '2024-03-28'),\n",
       "            ('SMRA', '2024-03-28'),\n",
       "            ('SRTG', '2024-03-28'),\n",
       "            ('SSIA', '2024-03-28'),\n",
       "            ('TAPG', '2024-03-28'),\n",
       "            ('TBIG', '2024-03-28'),\n",
       "            ('TKIM', '2024-03-28'),\n",
       "            ('TLKM', '2024-03-28'),\n",
       "            ('TOWR', '2024-03-28'),\n",
       "            ('UNTR', '2024-03-28'),\n",
       "            ('UNVR', '2024-03-28')],\n",
       "           names=['TickerIndex', 'DateIndex'])"
      ]
     },
     "execution_count": 16,
     "metadata": {},
     "output_type": "execute_result"
    }
   ],
   "execution_count": 16
  },
  {
   "metadata": {},
   "cell_type": "code",
   "outputs": [],
   "execution_count": null,
   "source": "",
   "id": "c8af876be467e3fe"
  }
 ],
 "metadata": {
  "kernelspec": {
   "display_name": "Python 3",
   "language": "python",
   "name": "python3"
  },
  "language_info": {
   "codemirror_mode": {
    "name": "ipython",
    "version": 2
   },
   "file_extension": ".py",
   "mimetype": "text/x-python",
   "name": "python",
   "nbconvert_exporter": "python",
   "pygments_lexer": "ipython2",
   "version": "2.7.6"
  }
 },
 "nbformat": 4,
 "nbformat_minor": 5
}
