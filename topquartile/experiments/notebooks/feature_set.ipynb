{
 "cells": [
  {
   "metadata": {},
   "cell_type": "code",
   "outputs": [],
   "execution_count": null,
   "source": [
    "import numpy as np\n",
    "import wandb\n",
    "from sklearn.metrics import mean_squared_error\n",
    "from quantile_forest import RandomForestQuantileRegressor\n",
    "\n",
    "from topquartile.modules.datamodule.dataloader import DataLoader\n",
    "from topquartile.modules.datamodule.transforms.covariate import (\n",
    "    TechnicalCovariateTransform, FundamentalCovariateTransform)\n",
    "from topquartile.modules.datamodule.transforms.label import BinaryLabelTransform\n",
    "from topquartile.modules.datamodule.partitions import PurgedTimeSeriesPartition\n",
    "\n",
    "covtrans_config = [(\n",
    "    TechnicalCovariateTransform,\n",
    "    dict(turnover=[20, 40, 60, 120, 240],\n",
    "         price_ratio=[9, 19, 39, 59, 119],\n",
    "         volatility=[10, 20, 40, 60]\n",
    "\n",
    "         ),\n",
    ")]\n",
    "labeltrans_config = [(BinaryLabelTransform, dict(label_duration=20, quantile=0.75))]\n",
    "partition_config = dict(n_splits=5, gap=20, max_train_size=504, test_size=60)\n",
    "\n",
    "dataloader = DataLoader(\n",
    "    data_id=\"covariates_may2025v2\",\n",
    "    covariate_transform=covtrans_config,\n",
    "    label_transform=labeltrans_config,\n",
    "    partition_class=PurgedTimeSeriesPartition,\n",
    "    partition_kwargs=partition_config,\n",
    ")\n",
    "folds = dataloader.get_cv_folds()"
   ],
   "id": "b522e4598e63372"
  },
  {
   "metadata": {},
   "cell_type": "code",
   "outputs": [],
   "execution_count": null,
   "source": "folds[0][0]['turnover_240'].isna().sum()",
   "id": "90c869c519f7651e"
  },
  {
   "metadata": {},
   "cell_type": "code",
   "outputs": [],
   "execution_count": null,
   "source": "len(folds[0][0])",
   "id": "7f32b1515ab5a206"
  },
  {
   "metadata": {},
   "cell_type": "code",
   "outputs": [],
   "execution_count": null,
   "source": "",
   "id": "cc03bafb21a8e340"
  }
 ],
 "metadata": {},
 "nbformat": 4,
 "nbformat_minor": 5
}
