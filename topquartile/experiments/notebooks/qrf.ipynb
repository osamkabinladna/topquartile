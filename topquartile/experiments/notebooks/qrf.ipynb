{
 "cells": [
  {
   "cell_type": "code",
   "id": "initial_id",
   "metadata": {
    "collapsed": true,
    "ExecuteTime": {
     "end_time": "2025-05-30T11:32:22.385542Z",
     "start_time": "2025-05-30T11:32:18.361115Z"
    }
   },
   "source": [
    "import numpy as np\n",
    "import wandb\n",
    "\n",
    "from sklearn.metrics import mean_squared_error\n",
    "from quantile_forest import RandomForestQuantileRegressor\n",
    "\n",
    "from topquartile.modules.datamodule.dataloader import DataLoader\n",
    "from topquartile.modules.datamodule.transforms.covariate import (\n",
    "    TechnicalCovariateTransform, FundamentalCovariateTransform)\n",
    "from topquartile.modules.datamodule.transforms.label import BinaryLabelTransform, ExcessReturnTransform\n",
    "from topquartile.modules.datamodule.partitions import PurgedTimeSeriesPartition\n",
    "\n",
    "LABEL_DURATION = 20\n",
    "\n",
    "covtrans_config = [(\n",
    "    TechnicalCovariateTransform,\n",
    "    dict(sma=[20, 40, 60],\n",
    "         ema=[20, 40, 60],\n",
    "         turnover=[20, 40, 60, 120, 240],\n",
    "         bb=True,\n",
    "         mean_price_volatility=True,\n",
    "         awesome=True,\n",
    "         macd=[(12, 26, 9)],\n",
    "         price_gap=[20, 40, 60],\n",
    "         price_ratio=[9, 19, 39, 59, 119],\n",
    "         acceleration_rate=True,\n",
    "         volatility=[10, 20, 40, 60, 120],\n",
    "         volume_std=[10, 20, 40, 60, 120]),\n",
    ")]\n",
    "\n",
    "labeltrans_config = [(ExcessReturnTransform, dict(label_duration=LABEL_DURATION))]\n",
    "partition_config = dict(n_splits=5, gap=20, max_train_size=504, test_size=60)\n",
    "\n",
    "dataloader = DataLoader(\n",
    "    data_id=\"covariates_may2025v2\",\n",
    "    covariate_transform=covtrans_config,\n",
    "    label_transform=labeltrans_config,\n",
    "    partition_class=PurgedTimeSeriesPartition,\n",
    "    partition_kwargs=partition_config,\n",
    ")\n",
    "folds = dataloader.get_cv_folds()"
   ],
   "outputs": [
    {
     "name": "stdout",
     "output_type": "stream",
     "text": [
      "Data not yet processed. Processing now...\n",
      "Reading data from: /Users/gregruyoga/gmoneycodes/topquartile/topquartile/data/covariates_may2025v2.csv\n",
      "Found 134 raw ticker names.\n",
      " Applying TechnicalCovariateTransform with params {'sma': [20, 40, 60], 'ema': [20, 40, 60], 'turnover': [20, 40, 60, 120, 240], 'price_gap': [20, 40, 60], 'price_ratio': [9, 19, 39, 59, 119], 'acceleration_rate': True, 'volatility': [10, 20, 40, 60, 120], 'volume_std': [10, 20, 40, 60, 120]}\n",
      "THIS IS COLUMNS Index(['TOTAL_EQUITY', 'BOOK_VAL_PER_SH', 'REVENUE_PER_SH', 'RETURN_COM_EQY',\n",
      "       'CUR_MKT_CAP', 'PX_LAST', 'TOT_DEBT_TO_TOT_ASSET',\n",
      "       'TOT_DEBT_TO_TOT_EQY', 'BS_TOT_LIAB2', 'BS_TOT_ASSET', 'IS_EPS',\n",
      "       'PX_HIGH', 'PX_LOW', 'PX_CLOSE_1D', 'PX_VOLUME', 'TURNOVER', 'ticker',\n",
      "       'DVD_SH_12M'],\n",
      "      dtype='object')\n",
      "Applying label transformations globally to the dataset (before partitioning).\n",
      " Applying ExcessReturnTransform with params {'label_duration': 20} (globally)\n"
     ]
    },
    {
     "name": "stderr",
     "output_type": "stream",
     "text": [
      "/Users/gregruyoga/gmoneycodes/topquartile/topquartile/modules/datamodule/transforms/label.py:51: UserWarning: Could not infer format, so each element will be parsed individually, falling back to `dateutil`. To ensure parsing is consistent and as-expected, please specify a format.\n",
      "  self.ihsg.index = pd.to_datetime(self.ihsg.index)\n",
      "/Users/gregruyoga/gmoneycodes/topquartile/topquartile/modules/datamodule/dataloader.py:173: FutureWarning: errors='ignore' is deprecated and will raise in a future version. Use to_numeric without passing `errors` and catch exceptions explicitly instead\n",
      "  self.data = self.data.apply(pd.to_numeric, errors='ignore')\n"
     ]
    },
    {
     "name": "stdout",
     "output_type": "stream",
     "text": [
      "Data processing complete.\n",
      "Partitioning data using PurgedTimeSeriesPartition for 5 splits across 85 tickers.\n",
      "Fold 0: Train shape (42840, 64), Test shape (5100, 64)\n",
      "Fold 1: Train shape (42840, 64), Test shape (5100, 64)\n",
      "Fold 2: Train shape (42840, 64), Test shape (5100, 64)\n",
      "Fold 3: Train shape (42840, 64), Test shape (5100, 64)\n",
      "Fold 4: Train shape (42840, 64), Test shape (5100, 64)\n",
      "Partitioning complete. Generated 5 CV folds.\n"
     ]
    }
   ],
   "execution_count": 2
  },
  {
   "metadata": {
    "ExecuteTime": {
     "end_time": "2025-05-30T11:32:32.897210Z",
     "start_time": "2025-05-30T11:32:32.869012Z"
    }
   },
   "cell_type": "code",
   "source": "folds[0][0].isna().mean()",
   "id": "9c027403304df2fc",
   "outputs": [
    {
     "data": {
      "text/plain": [
       "TOTAL_EQUITY          0.000000\n",
       "BOOK_VAL_PER_SH       0.000000\n",
       "REVENUE_PER_SH        0.000000\n",
       "RETURN_COM_EQY        0.000000\n",
       "CUR_MKT_CAP           0.242834\n",
       "                        ...   \n",
       "acceleration_20/60    0.174837\n",
       "acceleration_40/60    0.173063\n",
       "eq_returns_20         0.293651\n",
       "index_returns_20      0.123016\n",
       "excess_returns_20     0.378385\n",
       "Length: 64, dtype: float64"
      ]
     },
     "execution_count": 3,
     "metadata": {},
     "output_type": "execute_result"
    }
   ],
   "execution_count": 3
  },
  {
   "metadata": {
    "ExecuteTime": {
     "end_time": "2025-05-30T11:32:15.511221Z",
     "start_time": "2025-05-30T11:32:15.256338Z"
    }
   },
   "cell_type": "code",
   "source": [
    "TARGET = f'excess_returns_{LABEL_DURATION}'\n",
    "\n",
    "train_df, test_df = folds[1]\n",
    "train_df, test_df = train_df.dropna(), test_df.dropna()\n",
    "DROP_COLS = [TARGET, f\"index_returns_{LABEL_DURATION}\", f\"eq_returns_{LABEL_DURATION}\", \"ticker\"]\n",
    "\n",
    "train_labels = train_df[TARGET]\n",
    "train_covs = train_df.drop(columns=DROP_COLS)\n",
    "valid_labels = train_df[TARGET]\n",
    "valid_covs = train_df.drop(columns=DROP_COLS)\n",
    "\n",
    "config = dict(\n",
    "    n_estimators=100,\n",
    "    max_depth=50,\n",
    "    min_samples_leaf=2,\n",
    "    max_features=1.0,\n",
    "    bootstrap=True,\n",
    "    min_samples_split=15,\n",
    "    criterion='absolute_error',\n",
    ")\n",
    "\n",
    "model = RandomForestQuantileRegressor(\n",
    "    n_estimators=config['n_estimators'],\n",
    "    max_depth=config['max_depth'],\n",
    "    min_samples_leaf=config['min_samples_leaf'],\n",
    "    max_features=config['max_features'],\n",
    "    min_samples_split=config['min_samples_split'],\n",
    "    criterion=config['criterion'],\n",
    ")\n",
    "\n",
    "model.fit(train_covs, train_labels)\n",
    "preds = model.predict(train_covs.value, quantiles=[0.05, 0.5, 0.95])\n",
    "rmse = float(np.sqrt(mean_squared_error(valid_labels, preds)))\n",
    "print(rmse)\n"
   ],
   "id": "394131beb4d537e0",
   "outputs": [
    {
     "ename": "NameError",
     "evalue": "name 'LABEL_DURATION' is not defined",
     "output_type": "error",
     "traceback": [
      "\u001B[31m---------------------------------------------------------------------------\u001B[39m",
      "\u001B[31mNameError\u001B[39m                                 Traceback (most recent call last)",
      "\u001B[36mCell\u001B[39m\u001B[36m \u001B[39m\u001B[32mIn[1]\u001B[39m\u001B[32m, line 1\u001B[39m\n\u001B[32m----> \u001B[39m\u001B[32m1\u001B[39m TARGET = \u001B[33mf\u001B[39m\u001B[33m'\u001B[39m\u001B[33mexcess_returns_\u001B[39m\u001B[38;5;132;01m{\u001B[39;00mLABEL_DURATION\u001B[38;5;132;01m}\u001B[39;00m\u001B[33m'\u001B[39m\n\u001B[32m      3\u001B[39m train_df, test_df = folds[\u001B[32m1\u001B[39m]\n\u001B[32m      4\u001B[39m train_df, test_df = train_df.dropna(), test_df.dropna()\n",
      "\u001B[31mNameError\u001B[39m: name 'LABEL_DURATION' is not defined"
     ]
    }
   ],
   "execution_count": 1
  },
  {
   "metadata": {},
   "cell_type": "code",
   "source": "",
   "id": "8b0b85f0d9cbbf1",
   "outputs": [],
   "execution_count": null
  }
 ],
 "metadata": {
  "kernelspec": {
   "display_name": "Python 3",
   "language": "python",
   "name": "python3"
  },
  "language_info": {
   "codemirror_mode": {
    "name": "ipython",
    "version": 2
   },
   "file_extension": ".py",
   "mimetype": "text/x-python",
   "name": "python",
   "nbconvert_exporter": "python",
   "pygments_lexer": "ipython2",
   "version": "2.7.6"
  }
 },
 "nbformat": 4,
 "nbformat_minor": 5
}
